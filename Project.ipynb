{
 "cells": [
  {
   "cell_type": "code",
   "execution_count": 17,
   "id": "b21b28f0",
   "metadata": {},
   "outputs": [],
   "source": [
    "library(tidyverse)\n",
    "library(dplyr)"
   ]
  },
  {
   "cell_type": "code",
   "execution_count": null,
   "id": "642dec9f",
   "metadata": {},
   "outputs": [],
   "source": []
  },
  {
   "cell_type": "code",
   "execution_count": null,
   "id": "6dce346a",
   "metadata": {},
   "outputs": [],
   "source": []
  },
  {
   "cell_type": "code",
   "execution_count": null,
   "id": "3ac41544",
   "metadata": {},
   "outputs": [],
   "source": []
  },
  {
   "cell_type": "code",
   "execution_count": 2,
   "id": "02a3c4fb",
   "metadata": {},
   "outputs": [],
   "source": [
    "load(\"./ICPSR_38779/DS0001/38779-0001-Data.rda\")"
   ]
  },
  {
   "cell_type": "code",
   "execution_count": 99,
   "id": "d08cdbd7",
   "metadata": {},
   "outputs": [],
   "source": [
    "load(\"./ICPSR_38740/DS0001/38740-0001-Data.rda\")\n",
    "\n",
    "load(\"./ICPSR_38743/DS0001/38743-0001-Data.rda\")"
   ]
  },
  {
   "cell_type": "code",
   "execution_count": 4,
   "id": "54924c4a",
   "metadata": {},
   "outputs": [
    {
     "data": {
      "text/html": [
       "<style>\n",
       ".list-inline {list-style: none; margin:0; padding: 0}\n",
       ".list-inline>li {display: inline-block}\n",
       ".list-inline>li:not(:last-child)::after {content: \"\\00b7\"; padding: 0 .5ex}\n",
       "</style>\n",
       "<ol class=list-inline><li>'ASR_ID'</li><li>'CONTENTS'</li><li>'STATE'</li><li>'ORI'</li><li>'GROUP'</li><li>'DIV'</li><li>'AGHEADER'</li><li>'YEAR'</li><li>'MSA'</li><li>'COUNTY'</li><li>'SEQNO'</li><li>'SUB'</li><li>'CORE'</li><li>'COVBY'</li><li>'POP'</li><li>'AGENCY'</li><li>'STNAME'</li><li>'MONTH'</li><li>'MOHEADER'</li><li>'BREAK'</li><li>'AREO'</li><li>'ZERO'</li><li>'DTLASTUP'</li><li>'DTPRUP1'</li><li>'DTPRUP2'</li><li>'JUVDISP'</li><li>'JDHANDDP'</li><li>'JDREFJC'</li><li>'JDREFWA'</li><li>'JDREFOPA'</li><li>'JDREFCC'</li><li>'OFFENSE'</li><li>'OCCUR'</li><li>'M0_9'</li><li>'M10_12'</li><li>'M13_14'</li><li>'M15'</li><li>'M16'</li><li>'M17'</li><li>'M18'</li><li>'M19'</li><li>'M20'</li><li>'M21'</li><li>'M22'</li><li>'M23'</li><li>'M24'</li><li>'M25_29'</li><li>'M30_34'</li><li>'M35_39'</li><li>'M40_44'</li><li>'M45_49'</li><li>'M50_54'</li><li>'M55_59'</li><li>'M60_64'</li><li>'M65'</li><li>'F0_9'</li><li>'F10_12'</li><li>'F13_14'</li><li>'F15'</li><li>'F16'</li><li>'F17'</li><li>'F18'</li><li>'F19'</li><li>'F20'</li><li>'F21'</li><li>'F22'</li><li>'F23'</li><li>'F24'</li><li>'F25_29'</li><li>'F30_34'</li><li>'F35_39'</li><li>'F40_44'</li><li>'F45_49'</li><li>'F50_54'</li><li>'F55_59'</li><li>'F60_64'</li><li>'F65'</li><li>'AW'</li><li>'AB'</li><li>'AI'</li><li>'AA'</li><li>'JW'</li><li>'JB'</li><li>'JI'</li><li>'JA'</li><li>'AH'</li><li>'AN'</li><li>'JH'</li><li>'JN'</li></ol>\n"
      ],
      "text/latex": [
       "\\begin{enumerate*}\n",
       "\\item 'ASR\\_ID'\n",
       "\\item 'CONTENTS'\n",
       "\\item 'STATE'\n",
       "\\item 'ORI'\n",
       "\\item 'GROUP'\n",
       "\\item 'DIV'\n",
       "\\item 'AGHEADER'\n",
       "\\item 'YEAR'\n",
       "\\item 'MSA'\n",
       "\\item 'COUNTY'\n",
       "\\item 'SEQNO'\n",
       "\\item 'SUB'\n",
       "\\item 'CORE'\n",
       "\\item 'COVBY'\n",
       "\\item 'POP'\n",
       "\\item 'AGENCY'\n",
       "\\item 'STNAME'\n",
       "\\item 'MONTH'\n",
       "\\item 'MOHEADER'\n",
       "\\item 'BREAK'\n",
       "\\item 'AREO'\n",
       "\\item 'ZERO'\n",
       "\\item 'DTLASTUP'\n",
       "\\item 'DTPRUP1'\n",
       "\\item 'DTPRUP2'\n",
       "\\item 'JUVDISP'\n",
       "\\item 'JDHANDDP'\n",
       "\\item 'JDREFJC'\n",
       "\\item 'JDREFWA'\n",
       "\\item 'JDREFOPA'\n",
       "\\item 'JDREFCC'\n",
       "\\item 'OFFENSE'\n",
       "\\item 'OCCUR'\n",
       "\\item 'M0\\_9'\n",
       "\\item 'M10\\_12'\n",
       "\\item 'M13\\_14'\n",
       "\\item 'M15'\n",
       "\\item 'M16'\n",
       "\\item 'M17'\n",
       "\\item 'M18'\n",
       "\\item 'M19'\n",
       "\\item 'M20'\n",
       "\\item 'M21'\n",
       "\\item 'M22'\n",
       "\\item 'M23'\n",
       "\\item 'M24'\n",
       "\\item 'M25\\_29'\n",
       "\\item 'M30\\_34'\n",
       "\\item 'M35\\_39'\n",
       "\\item 'M40\\_44'\n",
       "\\item 'M45\\_49'\n",
       "\\item 'M50\\_54'\n",
       "\\item 'M55\\_59'\n",
       "\\item 'M60\\_64'\n",
       "\\item 'M65'\n",
       "\\item 'F0\\_9'\n",
       "\\item 'F10\\_12'\n",
       "\\item 'F13\\_14'\n",
       "\\item 'F15'\n",
       "\\item 'F16'\n",
       "\\item 'F17'\n",
       "\\item 'F18'\n",
       "\\item 'F19'\n",
       "\\item 'F20'\n",
       "\\item 'F21'\n",
       "\\item 'F22'\n",
       "\\item 'F23'\n",
       "\\item 'F24'\n",
       "\\item 'F25\\_29'\n",
       "\\item 'F30\\_34'\n",
       "\\item 'F35\\_39'\n",
       "\\item 'F40\\_44'\n",
       "\\item 'F45\\_49'\n",
       "\\item 'F50\\_54'\n",
       "\\item 'F55\\_59'\n",
       "\\item 'F60\\_64'\n",
       "\\item 'F65'\n",
       "\\item 'AW'\n",
       "\\item 'AB'\n",
       "\\item 'AI'\n",
       "\\item 'AA'\n",
       "\\item 'JW'\n",
       "\\item 'JB'\n",
       "\\item 'JI'\n",
       "\\item 'JA'\n",
       "\\item 'AH'\n",
       "\\item 'AN'\n",
       "\\item 'JH'\n",
       "\\item 'JN'\n",
       "\\end{enumerate*}\n"
      ],
      "text/markdown": [
       "1. 'ASR_ID'\n",
       "2. 'CONTENTS'\n",
       "3. 'STATE'\n",
       "4. 'ORI'\n",
       "5. 'GROUP'\n",
       "6. 'DIV'\n",
       "7. 'AGHEADER'\n",
       "8. 'YEAR'\n",
       "9. 'MSA'\n",
       "10. 'COUNTY'\n",
       "11. 'SEQNO'\n",
       "12. 'SUB'\n",
       "13. 'CORE'\n",
       "14. 'COVBY'\n",
       "15. 'POP'\n",
       "16. 'AGENCY'\n",
       "17. 'STNAME'\n",
       "18. 'MONTH'\n",
       "19. 'MOHEADER'\n",
       "20. 'BREAK'\n",
       "21. 'AREO'\n",
       "22. 'ZERO'\n",
       "23. 'DTLASTUP'\n",
       "24. 'DTPRUP1'\n",
       "25. 'DTPRUP2'\n",
       "26. 'JUVDISP'\n",
       "27. 'JDHANDDP'\n",
       "28. 'JDREFJC'\n",
       "29. 'JDREFWA'\n",
       "30. 'JDREFOPA'\n",
       "31. 'JDREFCC'\n",
       "32. 'OFFENSE'\n",
       "33. 'OCCUR'\n",
       "34. 'M0_9'\n",
       "35. 'M10_12'\n",
       "36. 'M13_14'\n",
       "37. 'M15'\n",
       "38. 'M16'\n",
       "39. 'M17'\n",
       "40. 'M18'\n",
       "41. 'M19'\n",
       "42. 'M20'\n",
       "43. 'M21'\n",
       "44. 'M22'\n",
       "45. 'M23'\n",
       "46. 'M24'\n",
       "47. 'M25_29'\n",
       "48. 'M30_34'\n",
       "49. 'M35_39'\n",
       "50. 'M40_44'\n",
       "51. 'M45_49'\n",
       "52. 'M50_54'\n",
       "53. 'M55_59'\n",
       "54. 'M60_64'\n",
       "55. 'M65'\n",
       "56. 'F0_9'\n",
       "57. 'F10_12'\n",
       "58. 'F13_14'\n",
       "59. 'F15'\n",
       "60. 'F16'\n",
       "61. 'F17'\n",
       "62. 'F18'\n",
       "63. 'F19'\n",
       "64. 'F20'\n",
       "65. 'F21'\n",
       "66. 'F22'\n",
       "67. 'F23'\n",
       "68. 'F24'\n",
       "69. 'F25_29'\n",
       "70. 'F30_34'\n",
       "71. 'F35_39'\n",
       "72. 'F40_44'\n",
       "73. 'F45_49'\n",
       "74. 'F50_54'\n",
       "75. 'F55_59'\n",
       "76. 'F60_64'\n",
       "77. 'F65'\n",
       "78. 'AW'\n",
       "79. 'AB'\n",
       "80. 'AI'\n",
       "81. 'AA'\n",
       "82. 'JW'\n",
       "83. 'JB'\n",
       "84. 'JI'\n",
       "85. 'JA'\n",
       "86. 'AH'\n",
       "87. 'AN'\n",
       "88. 'JH'\n",
       "89. 'JN'\n",
       "\n",
       "\n"
      ],
      "text/plain": [
       " [1] \"ASR_ID\"   \"CONTENTS\" \"STATE\"    \"ORI\"      \"GROUP\"    \"DIV\"     \n",
       " [7] \"AGHEADER\" \"YEAR\"     \"MSA\"      \"COUNTY\"   \"SEQNO\"    \"SUB\"     \n",
       "[13] \"CORE\"     \"COVBY\"    \"POP\"      \"AGENCY\"   \"STNAME\"   \"MONTH\"   \n",
       "[19] \"MOHEADER\" \"BREAK\"    \"AREO\"     \"ZERO\"     \"DTLASTUP\" \"DTPRUP1\" \n",
       "[25] \"DTPRUP2\"  \"JUVDISP\"  \"JDHANDDP\" \"JDREFJC\"  \"JDREFWA\"  \"JDREFOPA\"\n",
       "[31] \"JDREFCC\"  \"OFFENSE\"  \"OCCUR\"    \"M0_9\"     \"M10_12\"   \"M13_14\"  \n",
       "[37] \"M15\"      \"M16\"      \"M17\"      \"M18\"      \"M19\"      \"M20\"     \n",
       "[43] \"M21\"      \"M22\"      \"M23\"      \"M24\"      \"M25_29\"   \"M30_34\"  \n",
       "[49] \"M35_39\"   \"M40_44\"   \"M45_49\"   \"M50_54\"   \"M55_59\"   \"M60_64\"  \n",
       "[55] \"M65\"      \"F0_9\"     \"F10_12\"   \"F13_14\"   \"F15\"      \"F16\"     \n",
       "[61] \"F17\"      \"F18\"      \"F19\"      \"F20\"      \"F21\"      \"F22\"     \n",
       "[67] \"F23\"      \"F24\"      \"F25_29\"   \"F30_34\"   \"F35_39\"   \"F40_44\"  \n",
       "[73] \"F45_49\"   \"F50_54\"   \"F55_59\"   \"F60_64\"   \"F65\"      \"AW\"      \n",
       "[79] \"AB\"       \"AI\"       \"AA\"       \"JW\"       \"JB\"       \"JI\"      \n",
       "[85] \"JA\"       \"AH\"       \"AN\"       \"JH\"       \"JN\"      "
      ]
     },
     "metadata": {},
     "output_type": "display_data"
    }
   ],
   "source": [
    "names(da38779.0001)"
   ]
  },
  {
   "cell_type": "code",
   "execution_count": 130,
   "id": "b5cb4293",
   "metadata": {},
   "outputs": [
    {
     "data": {
      "text/html": [
       "18"
      ],
      "text/latex": [
       "18"
      ],
      "text/markdown": [
       "18"
      ],
      "text/plain": [
       "[1] 18"
      ]
     },
     "metadata": {},
     "output_type": "display_data"
    }
   ],
   "source": [
    "index <- which(colnames(da38779.0001) == 'MONTH')\n",
    "index"
   ]
  },
  {
   "cell_type": "code",
   "execution_count": null,
   "id": "16c0a335",
   "metadata": {},
   "outputs": [],
   "source": []
  },
  {
   "cell_type": "code",
   "execution_count": 164,
   "id": "edd59fa9",
   "metadata": {},
   "outputs": [
    {
     "name": "stdout",
     "output_type": "stream",
     "text": [
      "               ASR_ID          CONTENTS       STATE       ORI GROUP         DIV\n",
      "5 (3) ASR Master File (3) Detail record (50) Alaska AK00101      1C (9) Pacific\n",
      "                   AGHEADER YEAR MSA COUNTY SEQNO              SUB CORE COVBY\n",
      "5 (0) Agency header present 2019  38      0     0 (0) Non-Suburban    Y    NA\n",
      "     POP                   AGENCY STNAME MONTH                 MOHEADER BREAK\n",
      "5 287731 ANCHORAGE                ALASKA     1 (0) Month header present     G\n",
      "  AREO         ZERO DTLASTUP DTPRUP1 DTPRUP2 JUVDISP JDHANDDP JDREFJC JDREFWA\n",
      "5    1 (0) Not used    70618   70218   62918       0        0       0       0\n",
      "  JDREFOPA JDREFCC OFFENSE OCCUR M0_9 M10_12 M13_14 M15 M16 M17 M18 M19 M20 M21\n",
      "5        0       0     04     58    0      1      1   2   1   0   2   1   0   2\n",
      "  M22 M23 M24 M25_29 M30_34 M35_39 M40_44 M45_49 M50_54 M55_59 M60_64 M65 F0_9\n",
      "5   3   2   1     13     10      9      7      2      4      4      0   0    0\n",
      "  F10_12 F13_14 F15 F16 F17 F18 F19 F20 F21 F22 F23 F24 F25_29 F30_34 F35_39\n",
      "5      0      1   0   0   0   0   0   1   0   3   1   0      3      3      2\n",
      "  F40_44 F45_49 F50_54 F55_59 F60_64 F65 AW AB AI AA JW JB JI JA AH AN JH JN\n",
      "5      3      2      1      1      0   1 28 13 36  4  1  0  5  0 NA NA NA NA\n"
     ]
    }
   ],
   "source": [
    "print(da38779.0001[5,])"
   ]
  },
  {
   "cell_type": "code",
   "execution_count": null,
   "id": "37536fca",
   "metadata": {},
   "outputs": [],
   "source": []
  },
  {
   "cell_type": "code",
   "execution_count": 131,
   "id": "1fac1321",
   "metadata": {},
   "outputs": [],
   "source": [
    "da1 = da38779.0001[,c(3, 8, 18, 32, 78, 79, 80, 81, 82, 83, 84, 85, 86, 87, 88, 89)]\n",
    "da2 = da38740.0001[,c(3, 8, 18, 32, 78, 79, 80, 81, 82, 83, 84, 85, 86, 87, 88, 89)]\n",
    "da3 = da38743.0001[,c(3, 8, 18, 32, 78, 79, 80, 81, 82, 83, 84, 85, 86, 87, 88, 89)]"
   ]
  },
  {
   "cell_type": "code",
   "execution_count": 132,
   "id": "5370a3ce",
   "metadata": {},
   "outputs": [
    {
     "data": {
      "text/plain": [
       "               STATE             YEAR          MONTH           OFFENSE      \n",
       " (04) California  :117232   Min.   :2019   Min.   : 1.000   26     :110445  \n",
       " (42) Texas       : 98576   1st Qu.:2019   1st Qu.: 3.000   18     : 97363  \n",
       " (37) Pennsylvania: 85692   Median :2019   Median : 6.000   21     : 92035  \n",
       " (29) New Jersey  : 60935   Mean   :2019   Mean   : 6.309   185    : 91698  \n",
       " (31) New York    : 48869   3rd Qu.:2019   3rd Qu.: 9.000   08     : 88036  \n",
       " (21) Michigan    : 47643   Max.   :2019   Max.   :12.000   (Other):871739  \n",
       " (Other)          :897078                  NA's   :4709     NA's   :  4709  \n",
       "       AW                AB               AI               AA        \n",
       " Min.   :   0.00   Min.   :   0.0   Min.   :  0.0    Min.   :  0.0   \n",
       " 1st Qu.:   1.00   1st Qu.:   0.0   1st Qu.:  0.0    1st Qu.:  0.0   \n",
       " Median :   2.00   Median :   1.0   Median :  0.0    Median :  0.0   \n",
       " Mean   :   5.38   Mean   :   2.8   Mean   :  0.3    Mean   :  0.2   \n",
       " 3rd Qu.:   4.00   3rd Qu.:   2.0   3rd Qu.:  0.0    3rd Qu.:  0.0   \n",
       " Max.   :2043.00   Max.   :1321.0   Max.   :966.0    Max.   :118.0   \n",
       " NA's   :118057    NA's   :433551   NA's   :648972   NA's   :653875  \n",
       "       JW               JB               JI               JA        \n",
       " Min.   :  0.0    Min.   :  0.0    Min.   : 0       Min.   : 0      \n",
       " 1st Qu.:  0.0    1st Qu.:  0.0    1st Qu.: 0       1st Qu.: 0      \n",
       " Median :  0.0    Median :  0.0    Median : 0       Median : 0      \n",
       " Mean   :  0.6    Mean   :  0.3    Mean   : 0       Mean   : 0      \n",
       " 3rd Qu.:  1.0    3rd Qu.:  0.0    3rd Qu.: 0       3rd Qu.: 0      \n",
       " Max.   :115.0    Max.   :575.0    Max.   :24       Max.   :17      \n",
       " NA's   :577245   NA's   :631331   NA's   :674648   NA's   :675812  \n",
       "       AH                AN               JH                JN         \n",
       " Min.   :  1.0     Min.   :   1.0   Min.   : 1        Min.   :  1.0    \n",
       " 1st Qu.:  1.0     1st Qu.:   1.0   1st Qu.: 1        1st Qu.:  1.0    \n",
       " Median :  1.0     Median :   2.0   Median : 1        Median :  1.0    \n",
       " Mean   :  3.4     Mean   :   6.5   Mean   : 2        Mean   :  2.5    \n",
       " 3rd Qu.:  3.0     3rd Qu.:   5.0   3rd Qu.: 2        3rd Qu.:  2.0    \n",
       " Max.   :440.0     Max.   :1551.0   Max.   :59        Max.   :192.0    \n",
       " NA's   :1221278   NA's   :835993   NA's   :1325921   NA's   :1258741  "
      ]
     },
     "metadata": {},
     "output_type": "display_data"
    }
   ],
   "source": [
    "summary(da1)"
   ]
  },
  {
   "cell_type": "code",
   "execution_count": 133,
   "id": "3c409b61",
   "metadata": {},
   "outputs": [],
   "source": [
    "subset_da1 <- subset(da1, OFFENSE == '04 ')\n",
    "subset_da2 <- subset(da2, OFFENSE == '04 ')\n",
    "subset_da3 <- subset(da3, OFFENSE == '04 ')\n",
    "\n"
   ]
  },
  {
   "cell_type": "code",
   "execution_count": 134,
   "id": "129a132e",
   "metadata": {},
   "outputs": [
    {
     "data": {
      "text/html": [
       "<style>\n",
       ".list-inline {list-style: none; margin:0; padding: 0}\n",
       ".list-inline>li {display: inline-block}\n",
       ".list-inline>li:not(:last-child)::after {content: \"\\00b7\"; padding: 0 .5ex}\n",
       "</style>\n",
       "<ol class=list-inline><li>54496</li><li>16</li></ol>\n"
      ],
      "text/latex": [
       "\\begin{enumerate*}\n",
       "\\item 54496\n",
       "\\item 16\n",
       "\\end{enumerate*}\n"
      ],
      "text/markdown": [
       "1. 54496\n",
       "2. 16\n",
       "\n",
       "\n"
      ],
      "text/plain": [
       "[1] 54496    16"
      ]
     },
     "metadata": {},
     "output_type": "display_data"
    }
   ],
   "source": [
    "dim(subset_da1)"
   ]
  },
  {
   "cell_type": "code",
   "execution_count": 135,
   "id": "f7fe4448",
   "metadata": {},
   "outputs": [
    {
     "data": {
      "text/html": [
       "<style>\n",
       ".list-inline {list-style: none; margin:0; padding: 0}\n",
       ".list-inline>li {display: inline-block}\n",
       ".list-inline>li:not(:last-child)::after {content: \"\\00b7\"; padding: 0 .5ex}\n",
       "</style>\n",
       "<ol class=list-inline><li>62064</li><li>16</li></ol>\n"
      ],
      "text/latex": [
       "\\begin{enumerate*}\n",
       "\\item 62064\n",
       "\\item 16\n",
       "\\end{enumerate*}\n"
      ],
      "text/markdown": [
       "1. 62064\n",
       "2. 16\n",
       "\n",
       "\n"
      ],
      "text/plain": [
       "[1] 62064    16"
      ]
     },
     "metadata": {},
     "output_type": "display_data"
    }
   ],
   "source": [
    "dim(subset_da2)"
   ]
  },
  {
   "cell_type": "code",
   "execution_count": 136,
   "id": "8649f4d6",
   "metadata": {},
   "outputs": [
    {
     "data": {
      "text/html": [
       "<style>\n",
       ".list-inline {list-style: none; margin:0; padding: 0}\n",
       ".list-inline>li {display: inline-block}\n",
       ".list-inline>li:not(:last-child)::after {content: \"\\00b7\"; padding: 0 .5ex}\n",
       "</style>\n",
       "<ol class=list-inline><li>57775</li><li>16</li></ol>\n"
      ],
      "text/latex": [
       "\\begin{enumerate*}\n",
       "\\item 57775\n",
       "\\item 16\n",
       "\\end{enumerate*}\n"
      ],
      "text/markdown": [
       "1. 57775\n",
       "2. 16\n",
       "\n",
       "\n"
      ],
      "text/plain": [
       "[1] 57775    16"
      ]
     },
     "metadata": {},
     "output_type": "display_data"
    }
   ],
   "source": [
    "dim(subset_da3)"
   ]
  },
  {
   "cell_type": "code",
   "execution_count": 137,
   "id": "38671652",
   "metadata": {},
   "outputs": [],
   "source": [
    "combined_df <- bind_rows(subset_da1, subset_da2, subset_da3)"
   ]
  },
  {
   "cell_type": "code",
   "execution_count": 163,
   "id": "c98bc29c",
   "metadata": {},
   "outputs": [
    {
     "data": {
      "text/html": [
       "<table class=\"dataframe\">\n",
       "<caption>A data.frame: 50 × 16</caption>\n",
       "<thead>\n",
       "\t<tr><th></th><th scope=col>STATE</th><th scope=col>YEAR</th><th scope=col>MONTH</th><th scope=col>OFFENSE</th><th scope=col>AW</th><th scope=col>AB</th><th scope=col>AI</th><th scope=col>AA</th><th scope=col>JW</th><th scope=col>JB</th><th scope=col>JI</th><th scope=col>JA</th><th scope=col>AH</th><th scope=col>AN</th><th scope=col>JH</th><th scope=col>JN</th></tr>\n",
       "\t<tr><th></th><th scope=col>&lt;fct&gt;</th><th scope=col>&lt;dbl&gt;</th><th scope=col>&lt;dbl&gt;</th><th scope=col>&lt;fct&gt;</th><th scope=col>&lt;dbl&gt;</th><th scope=col>&lt;dbl&gt;</th><th scope=col>&lt;dbl&gt;</th><th scope=col>&lt;dbl&gt;</th><th scope=col>&lt;dbl&gt;</th><th scope=col>&lt;dbl&gt;</th><th scope=col>&lt;dbl&gt;</th><th scope=col>&lt;dbl&gt;</th><th scope=col>&lt;dbl&gt;</th><th scope=col>&lt;dbl&gt;</th><th scope=col>&lt;dbl&gt;</th><th scope=col>&lt;dbl&gt;</th></tr>\n",
       "</thead>\n",
       "<tbody>\n",
       "\t<tr><th scope=row>1</th><td>(50) Alaska</td><td>2019</td><td> 1</td><td>04 </td><td>28</td><td>13</td><td>36</td><td> 4</td><td>1</td><td>0</td><td>5</td><td>0</td><td>NA</td><td>NA</td><td>NA</td><td>NA</td></tr>\n",
       "\t<tr><th scope=row>2</th><td>(50) Alaska</td><td>2019</td><td> 2</td><td>04 </td><td>33</td><td>18</td><td>28</td><td> 3</td><td>3</td><td>1</td><td>1</td><td>0</td><td>NA</td><td>NA</td><td>NA</td><td>NA</td></tr>\n",
       "\t<tr><th scope=row>3</th><td>(50) Alaska</td><td>2019</td><td> 3</td><td>04 </td><td>36</td><td>14</td><td>35</td><td> 8</td><td>4</td><td>1</td><td>1</td><td>0</td><td>NA</td><td>NA</td><td>NA</td><td>NA</td></tr>\n",
       "\t<tr><th scope=row>4</th><td>(50) Alaska</td><td>2019</td><td> 4</td><td>04 </td><td>33</td><td>12</td><td>39</td><td> 5</td><td>7</td><td>1</td><td>1</td><td>2</td><td>NA</td><td>NA</td><td>NA</td><td>NA</td></tr>\n",
       "\t<tr><th scope=row>5</th><td>(50) Alaska</td><td>2019</td><td> 5</td><td>04 </td><td>28</td><td>11</td><td>45</td><td> 9</td><td>4</td><td>0</td><td>2</td><td>0</td><td>NA</td><td>NA</td><td>NA</td><td>NA</td></tr>\n",
       "\t<tr><th scope=row>6</th><td>(50) Alaska</td><td>2019</td><td> 6</td><td>04 </td><td>29</td><td> 8</td><td>42</td><td>13</td><td>2</td><td>0</td><td>2</td><td>0</td><td>NA</td><td>NA</td><td>NA</td><td>NA</td></tr>\n",
       "\t<tr><th scope=row>7</th><td>(50) Alaska</td><td>2019</td><td> 7</td><td>04 </td><td>55</td><td>18</td><td>33</td><td> 8</td><td>0</td><td>0</td><td>2</td><td>3</td><td>NA</td><td>NA</td><td>NA</td><td>NA</td></tr>\n",
       "\t<tr><th scope=row>8</th><td>(50) Alaska</td><td>2019</td><td> 8</td><td>04 </td><td>34</td><td>15</td><td>31</td><td> 6</td><td>0</td><td>3</td><td>3</td><td>0</td><td>NA</td><td>NA</td><td>NA</td><td>NA</td></tr>\n",
       "\t<tr><th scope=row>9</th><td>(50) Alaska</td><td>2019</td><td> 9</td><td>04 </td><td>36</td><td>15</td><td>36</td><td>12</td><td>1</td><td>0</td><td>1</td><td>0</td><td>NA</td><td>NA</td><td>NA</td><td>NA</td></tr>\n",
       "\t<tr><th scope=row>10</th><td>(50) Alaska</td><td>2019</td><td>10</td><td>04 </td><td>27</td><td>13</td><td>35</td><td> 5</td><td>2</td><td>1</td><td>2</td><td>1</td><td>NA</td><td>NA</td><td>NA</td><td>NA</td></tr>\n",
       "\t<tr><th scope=row>11</th><td>(50) Alaska</td><td>2019</td><td>11</td><td>04 </td><td>23</td><td> 9</td><td>40</td><td>11</td><td>1</td><td>2</td><td>1</td><td>0</td><td>NA</td><td>NA</td><td>NA</td><td>NA</td></tr>\n",
       "\t<tr><th scope=row>12</th><td>(50) Alaska</td><td>2019</td><td>12</td><td>04 </td><td>39</td><td> 8</td><td>31</td><td>11</td><td>2</td><td>0</td><td>1</td><td>1</td><td>NA</td><td>NA</td><td>NA</td><td>NA</td></tr>\n",
       "\t<tr><th scope=row>13</th><td>(50) Alaska</td><td>2019</td><td> 1</td><td>04 </td><td> 2</td><td> 1</td><td> 2</td><td> 0</td><td>0</td><td>0</td><td>0</td><td>0</td><td>NA</td><td>NA</td><td>NA</td><td>NA</td></tr>\n",
       "\t<tr><th scope=row>14</th><td>(50) Alaska</td><td>2019</td><td> 2</td><td>04 </td><td> 1</td><td> 1</td><td> 1</td><td> 0</td><td>0</td><td>0</td><td>0</td><td>0</td><td>NA</td><td>NA</td><td>NA</td><td>NA</td></tr>\n",
       "\t<tr><th scope=row>15</th><td>(50) Alaska</td><td>2019</td><td> 3</td><td>04 </td><td> 2</td><td> 1</td><td> 1</td><td> 0</td><td>0</td><td>0</td><td>0</td><td>0</td><td>NA</td><td>NA</td><td>NA</td><td>NA</td></tr>\n",
       "\t<tr><th scope=row>16</th><td>(50) Alaska</td><td>2019</td><td> 4</td><td>04 </td><td> 1</td><td> 5</td><td> 0</td><td> 0</td><td>0</td><td>0</td><td>0</td><td>0</td><td>NA</td><td>NA</td><td>NA</td><td>NA</td></tr>\n",
       "\t<tr><th scope=row>17</th><td>(50) Alaska</td><td>2019</td><td> 5</td><td>04 </td><td> 4</td><td> 1</td><td> 0</td><td> 0</td><td>0</td><td>0</td><td>0</td><td>0</td><td>NA</td><td>NA</td><td>NA</td><td>NA</td></tr>\n",
       "\t<tr><th scope=row>18</th><td>(50) Alaska</td><td>2019</td><td> 6</td><td>04 </td><td> 5</td><td> 2</td><td> 2</td><td> 0</td><td>0</td><td>0</td><td>0</td><td>0</td><td>NA</td><td>NA</td><td>NA</td><td>NA</td></tr>\n",
       "\t<tr><th scope=row>19</th><td>(50) Alaska</td><td>2019</td><td> 7</td><td>04 </td><td> 0</td><td> 1</td><td> 3</td><td> 0</td><td>0</td><td>0</td><td>0</td><td>0</td><td>NA</td><td>NA</td><td>NA</td><td>NA</td></tr>\n",
       "\t<tr><th scope=row>20</th><td>(50) Alaska</td><td>2019</td><td> 8</td><td>04 </td><td> 1</td><td> 1</td><td> 1</td><td> 0</td><td>0</td><td>0</td><td>0</td><td>0</td><td>NA</td><td>NA</td><td>NA</td><td>NA</td></tr>\n",
       "\t<tr><th scope=row>21</th><td>(50) Alaska</td><td>2019</td><td> 9</td><td>04 </td><td> 1</td><td> 1</td><td> 1</td><td> 0</td><td>0</td><td>0</td><td>0</td><td>0</td><td>NA</td><td>NA</td><td>NA</td><td>NA</td></tr>\n",
       "\t<tr><th scope=row>22</th><td>(50) Alaska</td><td>2019</td><td>10</td><td>04 </td><td> 2</td><td> 0</td><td> 3</td><td> 0</td><td>0</td><td>0</td><td>0</td><td>0</td><td>NA</td><td>NA</td><td>NA</td><td>NA</td></tr>\n",
       "\t<tr><th scope=row>23</th><td>(50) Alaska</td><td>2019</td><td>11</td><td>04 </td><td> 3</td><td> 0</td><td> 2</td><td> 0</td><td>0</td><td>0</td><td>0</td><td>0</td><td>NA</td><td>NA</td><td>NA</td><td>NA</td></tr>\n",
       "\t<tr><th scope=row>24</th><td>(50) Alaska</td><td>2019</td><td>12</td><td>04 </td><td> 3</td><td> 0</td><td> 2</td><td> 0</td><td>0</td><td>0</td><td>0</td><td>0</td><td>NA</td><td>NA</td><td>NA</td><td>NA</td></tr>\n",
       "\t<tr><th scope=row>25</th><td>(50) Alaska</td><td>2019</td><td> 1</td><td>04 </td><td> 3</td><td> 1</td><td> 4</td><td> 0</td><td>0</td><td>0</td><td>0</td><td>0</td><td>NA</td><td>NA</td><td>NA</td><td>NA</td></tr>\n",
       "\t<tr><th scope=row>26</th><td>(50) Alaska</td><td>2019</td><td> 2</td><td>04 </td><td> 1</td><td> 0</td><td> 2</td><td> 0</td><td>1</td><td>0</td><td>0</td><td>0</td><td>NA</td><td>NA</td><td>NA</td><td>NA</td></tr>\n",
       "\t<tr><th scope=row>27</th><td>(50) Alaska</td><td>2019</td><td> 3</td><td>04 </td><td> 3</td><td> 0</td><td> 2</td><td> 0</td><td>1</td><td>0</td><td>0</td><td>0</td><td>NA</td><td>NA</td><td>NA</td><td>NA</td></tr>\n",
       "\t<tr><th scope=row>28</th><td>(50) Alaska</td><td>2019</td><td> 4</td><td>04 </td><td> 3</td><td> 0</td><td> 5</td><td> 1</td><td>1</td><td>0</td><td>0</td><td>0</td><td>NA</td><td>NA</td><td>NA</td><td>NA</td></tr>\n",
       "\t<tr><th scope=row>29</th><td>(50) Alaska</td><td>2019</td><td> 5</td><td>04 </td><td> 7</td><td> 0</td><td> 1</td><td> 0</td><td>1</td><td>0</td><td>0</td><td>0</td><td>NA</td><td>NA</td><td>NA</td><td>NA</td></tr>\n",
       "\t<tr><th scope=row>30</th><td>(50) Alaska</td><td>2019</td><td> 6</td><td>04 </td><td> 6</td><td> 0</td><td> 5</td><td> 0</td><td>0</td><td>0</td><td>0</td><td>0</td><td>NA</td><td>NA</td><td>NA</td><td>NA</td></tr>\n",
       "\t<tr><th scope=row>31</th><td>(50) Alaska</td><td>2019</td><td> 7</td><td>04 </td><td> 4</td><td> 0</td><td> 2</td><td> 0</td><td>0</td><td>0</td><td>0</td><td>0</td><td>NA</td><td>NA</td><td>NA</td><td>NA</td></tr>\n",
       "\t<tr><th scope=row>32</th><td>(50) Alaska</td><td>2019</td><td> 8</td><td>04 </td><td> 6</td><td> 0</td><td> 4</td><td> 0</td><td>0</td><td>0</td><td>0</td><td>0</td><td>NA</td><td>NA</td><td>NA</td><td>NA</td></tr>\n",
       "\t<tr><th scope=row>33</th><td>(50) Alaska</td><td>2019</td><td> 9</td><td>04 </td><td> 3</td><td> 0</td><td> 6</td><td> 0</td><td>0</td><td>0</td><td>0</td><td>0</td><td>NA</td><td>NA</td><td>NA</td><td>NA</td></tr>\n",
       "\t<tr><th scope=row>34</th><td>(50) Alaska</td><td>2019</td><td>10</td><td>04 </td><td> 4</td><td> 1</td><td> 0</td><td> 0</td><td>0</td><td>0</td><td>0</td><td>0</td><td>NA</td><td>NA</td><td>NA</td><td>NA</td></tr>\n",
       "\t<tr><th scope=row>35</th><td>(50) Alaska</td><td>2019</td><td>11</td><td>04 </td><td> 4</td><td> 0</td><td> 4</td><td> 0</td><td>0</td><td>0</td><td>0</td><td>0</td><td>NA</td><td>NA</td><td>NA</td><td>NA</td></tr>\n",
       "\t<tr><th scope=row>36</th><td>(50) Alaska</td><td>2019</td><td>12</td><td>04 </td><td> 4</td><td> 0</td><td> 0</td><td> 0</td><td>0</td><td>0</td><td>0</td><td>0</td><td>NA</td><td>NA</td><td>NA</td><td>NA</td></tr>\n",
       "\t<tr><th scope=row>37</th><td>(50) Alaska</td><td>2019</td><td> 1</td><td>04 </td><td> 1</td><td> 0</td><td> 3</td><td> 0</td><td>0</td><td>0</td><td>0</td><td>0</td><td>NA</td><td>NA</td><td>NA</td><td>NA</td></tr>\n",
       "\t<tr><th scope=row>38</th><td>(50) Alaska</td><td>2019</td><td> 2</td><td>04 </td><td> 1</td><td> 0</td><td> 0</td><td> 0</td><td>0</td><td>0</td><td>0</td><td>0</td><td>NA</td><td>NA</td><td>NA</td><td>NA</td></tr>\n",
       "\t<tr><th scope=row>39</th><td>(50) Alaska</td><td>2019</td><td> 3</td><td>04 </td><td> 1</td><td> 0</td><td> 1</td><td> 0</td><td>0</td><td>0</td><td>0</td><td>0</td><td>NA</td><td>NA</td><td>NA</td><td>NA</td></tr>\n",
       "\t<tr><th scope=row>40</th><td>(50) Alaska</td><td>2019</td><td> 4</td><td>04 </td><td> 3</td><td> 0</td><td> 0</td><td> 0</td><td>0</td><td>0</td><td>0</td><td>0</td><td>NA</td><td>NA</td><td>NA</td><td>NA</td></tr>\n",
       "\t<tr><th scope=row>41</th><td>(50) Alaska</td><td>2019</td><td> 5</td><td>04 </td><td> 2</td><td> 1</td><td> 1</td><td> 0</td><td>0</td><td>0</td><td>0</td><td>0</td><td>NA</td><td>NA</td><td>NA</td><td>NA</td></tr>\n",
       "\t<tr><th scope=row>42</th><td>(50) Alaska</td><td>2019</td><td> 6</td><td>04 </td><td> 0</td><td> 0</td><td> 0</td><td> 0</td><td>0</td><td>0</td><td>0</td><td>0</td><td>NA</td><td>NA</td><td>NA</td><td>NA</td></tr>\n",
       "\t<tr><th scope=row>43</th><td>(50) Alaska</td><td>2019</td><td> 7</td><td>04 </td><td> 1</td><td> 0</td><td> 3</td><td> 0</td><td>0</td><td>0</td><td>0</td><td>0</td><td>NA</td><td>NA</td><td>NA</td><td>NA</td></tr>\n",
       "\t<tr><th scope=row>44</th><td>(50) Alaska</td><td>2019</td><td> 8</td><td>04 </td><td> 0</td><td> 1</td><td> 1</td><td> 0</td><td>0</td><td>0</td><td>0</td><td>0</td><td>NA</td><td>NA</td><td>NA</td><td>NA</td></tr>\n",
       "\t<tr><th scope=row>45</th><td>(50) Alaska</td><td>2019</td><td> 9</td><td>04 </td><td> 1</td><td> 0</td><td> 0</td><td> 0</td><td>0</td><td>0</td><td>1</td><td>0</td><td>NA</td><td>NA</td><td>NA</td><td>NA</td></tr>\n",
       "\t<tr><th scope=row>46</th><td>(50) Alaska</td><td>2019</td><td>10</td><td>04 </td><td> 1</td><td> 0</td><td> 0</td><td> 0</td><td>0</td><td>0</td><td>0</td><td>0</td><td>NA</td><td>NA</td><td>NA</td><td>NA</td></tr>\n",
       "\t<tr><th scope=row>47</th><td>(50) Alaska</td><td>2019</td><td>11</td><td>04 </td><td> 3</td><td> 0</td><td> 0</td><td> 0</td><td>0</td><td>0</td><td>0</td><td>0</td><td>NA</td><td>NA</td><td>NA</td><td>NA</td></tr>\n",
       "\t<tr><th scope=row>48</th><td>(50) Alaska</td><td>2019</td><td>12</td><td>04 </td><td> 1</td><td> 0</td><td> 0</td><td> 0</td><td>0</td><td>0</td><td>0</td><td>0</td><td>NA</td><td>NA</td><td>NA</td><td>NA</td></tr>\n",
       "\t<tr><th scope=row>49</th><td>(50) Alaska</td><td>2019</td><td> 1</td><td>04 </td><td> 0</td><td> 0</td><td> 0</td><td> 0</td><td>0</td><td>0</td><td>0</td><td>0</td><td>NA</td><td>NA</td><td>NA</td><td>NA</td></tr>\n",
       "\t<tr><th scope=row>50</th><td>(50) Alaska</td><td>2019</td><td> 2</td><td>04 </td><td> 1</td><td> 0</td><td> 0</td><td> 0</td><td>0</td><td>0</td><td>0</td><td>0</td><td>NA</td><td>NA</td><td>NA</td><td>NA</td></tr>\n",
       "</tbody>\n",
       "</table>\n"
      ],
      "text/latex": [
       "A data.frame: 50 × 16\n",
       "\\begin{tabular}{r|llllllllllllllll}\n",
       "  & STATE & YEAR & MONTH & OFFENSE & AW & AB & AI & AA & JW & JB & JI & JA & AH & AN & JH & JN\\\\\n",
       "  & <fct> & <dbl> & <dbl> & <fct> & <dbl> & <dbl> & <dbl> & <dbl> & <dbl> & <dbl> & <dbl> & <dbl> & <dbl> & <dbl> & <dbl> & <dbl>\\\\\n",
       "\\hline\n",
       "\t1 & (50) Alaska & 2019 &  1 & 04  & 28 & 13 & 36 &  4 & 1 & 0 & 5 & 0 & NA & NA & NA & NA\\\\\n",
       "\t2 & (50) Alaska & 2019 &  2 & 04  & 33 & 18 & 28 &  3 & 3 & 1 & 1 & 0 & NA & NA & NA & NA\\\\\n",
       "\t3 & (50) Alaska & 2019 &  3 & 04  & 36 & 14 & 35 &  8 & 4 & 1 & 1 & 0 & NA & NA & NA & NA\\\\\n",
       "\t4 & (50) Alaska & 2019 &  4 & 04  & 33 & 12 & 39 &  5 & 7 & 1 & 1 & 2 & NA & NA & NA & NA\\\\\n",
       "\t5 & (50) Alaska & 2019 &  5 & 04  & 28 & 11 & 45 &  9 & 4 & 0 & 2 & 0 & NA & NA & NA & NA\\\\\n",
       "\t6 & (50) Alaska & 2019 &  6 & 04  & 29 &  8 & 42 & 13 & 2 & 0 & 2 & 0 & NA & NA & NA & NA\\\\\n",
       "\t7 & (50) Alaska & 2019 &  7 & 04  & 55 & 18 & 33 &  8 & 0 & 0 & 2 & 3 & NA & NA & NA & NA\\\\\n",
       "\t8 & (50) Alaska & 2019 &  8 & 04  & 34 & 15 & 31 &  6 & 0 & 3 & 3 & 0 & NA & NA & NA & NA\\\\\n",
       "\t9 & (50) Alaska & 2019 &  9 & 04  & 36 & 15 & 36 & 12 & 1 & 0 & 1 & 0 & NA & NA & NA & NA\\\\\n",
       "\t10 & (50) Alaska & 2019 & 10 & 04  & 27 & 13 & 35 &  5 & 2 & 1 & 2 & 1 & NA & NA & NA & NA\\\\\n",
       "\t11 & (50) Alaska & 2019 & 11 & 04  & 23 &  9 & 40 & 11 & 1 & 2 & 1 & 0 & NA & NA & NA & NA\\\\\n",
       "\t12 & (50) Alaska & 2019 & 12 & 04  & 39 &  8 & 31 & 11 & 2 & 0 & 1 & 1 & NA & NA & NA & NA\\\\\n",
       "\t13 & (50) Alaska & 2019 &  1 & 04  &  2 &  1 &  2 &  0 & 0 & 0 & 0 & 0 & NA & NA & NA & NA\\\\\n",
       "\t14 & (50) Alaska & 2019 &  2 & 04  &  1 &  1 &  1 &  0 & 0 & 0 & 0 & 0 & NA & NA & NA & NA\\\\\n",
       "\t15 & (50) Alaska & 2019 &  3 & 04  &  2 &  1 &  1 &  0 & 0 & 0 & 0 & 0 & NA & NA & NA & NA\\\\\n",
       "\t16 & (50) Alaska & 2019 &  4 & 04  &  1 &  5 &  0 &  0 & 0 & 0 & 0 & 0 & NA & NA & NA & NA\\\\\n",
       "\t17 & (50) Alaska & 2019 &  5 & 04  &  4 &  1 &  0 &  0 & 0 & 0 & 0 & 0 & NA & NA & NA & NA\\\\\n",
       "\t18 & (50) Alaska & 2019 &  6 & 04  &  5 &  2 &  2 &  0 & 0 & 0 & 0 & 0 & NA & NA & NA & NA\\\\\n",
       "\t19 & (50) Alaska & 2019 &  7 & 04  &  0 &  1 &  3 &  0 & 0 & 0 & 0 & 0 & NA & NA & NA & NA\\\\\n",
       "\t20 & (50) Alaska & 2019 &  8 & 04  &  1 &  1 &  1 &  0 & 0 & 0 & 0 & 0 & NA & NA & NA & NA\\\\\n",
       "\t21 & (50) Alaska & 2019 &  9 & 04  &  1 &  1 &  1 &  0 & 0 & 0 & 0 & 0 & NA & NA & NA & NA\\\\\n",
       "\t22 & (50) Alaska & 2019 & 10 & 04  &  2 &  0 &  3 &  0 & 0 & 0 & 0 & 0 & NA & NA & NA & NA\\\\\n",
       "\t23 & (50) Alaska & 2019 & 11 & 04  &  3 &  0 &  2 &  0 & 0 & 0 & 0 & 0 & NA & NA & NA & NA\\\\\n",
       "\t24 & (50) Alaska & 2019 & 12 & 04  &  3 &  0 &  2 &  0 & 0 & 0 & 0 & 0 & NA & NA & NA & NA\\\\\n",
       "\t25 & (50) Alaska & 2019 &  1 & 04  &  3 &  1 &  4 &  0 & 0 & 0 & 0 & 0 & NA & NA & NA & NA\\\\\n",
       "\t26 & (50) Alaska & 2019 &  2 & 04  &  1 &  0 &  2 &  0 & 1 & 0 & 0 & 0 & NA & NA & NA & NA\\\\\n",
       "\t27 & (50) Alaska & 2019 &  3 & 04  &  3 &  0 &  2 &  0 & 1 & 0 & 0 & 0 & NA & NA & NA & NA\\\\\n",
       "\t28 & (50) Alaska & 2019 &  4 & 04  &  3 &  0 &  5 &  1 & 1 & 0 & 0 & 0 & NA & NA & NA & NA\\\\\n",
       "\t29 & (50) Alaska & 2019 &  5 & 04  &  7 &  0 &  1 &  0 & 1 & 0 & 0 & 0 & NA & NA & NA & NA\\\\\n",
       "\t30 & (50) Alaska & 2019 &  6 & 04  &  6 &  0 &  5 &  0 & 0 & 0 & 0 & 0 & NA & NA & NA & NA\\\\\n",
       "\t31 & (50) Alaska & 2019 &  7 & 04  &  4 &  0 &  2 &  0 & 0 & 0 & 0 & 0 & NA & NA & NA & NA\\\\\n",
       "\t32 & (50) Alaska & 2019 &  8 & 04  &  6 &  0 &  4 &  0 & 0 & 0 & 0 & 0 & NA & NA & NA & NA\\\\\n",
       "\t33 & (50) Alaska & 2019 &  9 & 04  &  3 &  0 &  6 &  0 & 0 & 0 & 0 & 0 & NA & NA & NA & NA\\\\\n",
       "\t34 & (50) Alaska & 2019 & 10 & 04  &  4 &  1 &  0 &  0 & 0 & 0 & 0 & 0 & NA & NA & NA & NA\\\\\n",
       "\t35 & (50) Alaska & 2019 & 11 & 04  &  4 &  0 &  4 &  0 & 0 & 0 & 0 & 0 & NA & NA & NA & NA\\\\\n",
       "\t36 & (50) Alaska & 2019 & 12 & 04  &  4 &  0 &  0 &  0 & 0 & 0 & 0 & 0 & NA & NA & NA & NA\\\\\n",
       "\t37 & (50) Alaska & 2019 &  1 & 04  &  1 &  0 &  3 &  0 & 0 & 0 & 0 & 0 & NA & NA & NA & NA\\\\\n",
       "\t38 & (50) Alaska & 2019 &  2 & 04  &  1 &  0 &  0 &  0 & 0 & 0 & 0 & 0 & NA & NA & NA & NA\\\\\n",
       "\t39 & (50) Alaska & 2019 &  3 & 04  &  1 &  0 &  1 &  0 & 0 & 0 & 0 & 0 & NA & NA & NA & NA\\\\\n",
       "\t40 & (50) Alaska & 2019 &  4 & 04  &  3 &  0 &  0 &  0 & 0 & 0 & 0 & 0 & NA & NA & NA & NA\\\\\n",
       "\t41 & (50) Alaska & 2019 &  5 & 04  &  2 &  1 &  1 &  0 & 0 & 0 & 0 & 0 & NA & NA & NA & NA\\\\\n",
       "\t42 & (50) Alaska & 2019 &  6 & 04  &  0 &  0 &  0 &  0 & 0 & 0 & 0 & 0 & NA & NA & NA & NA\\\\\n",
       "\t43 & (50) Alaska & 2019 &  7 & 04  &  1 &  0 &  3 &  0 & 0 & 0 & 0 & 0 & NA & NA & NA & NA\\\\\n",
       "\t44 & (50) Alaska & 2019 &  8 & 04  &  0 &  1 &  1 &  0 & 0 & 0 & 0 & 0 & NA & NA & NA & NA\\\\\n",
       "\t45 & (50) Alaska & 2019 &  9 & 04  &  1 &  0 &  0 &  0 & 0 & 0 & 1 & 0 & NA & NA & NA & NA\\\\\n",
       "\t46 & (50) Alaska & 2019 & 10 & 04  &  1 &  0 &  0 &  0 & 0 & 0 & 0 & 0 & NA & NA & NA & NA\\\\\n",
       "\t47 & (50) Alaska & 2019 & 11 & 04  &  3 &  0 &  0 &  0 & 0 & 0 & 0 & 0 & NA & NA & NA & NA\\\\\n",
       "\t48 & (50) Alaska & 2019 & 12 & 04  &  1 &  0 &  0 &  0 & 0 & 0 & 0 & 0 & NA & NA & NA & NA\\\\\n",
       "\t49 & (50) Alaska & 2019 &  1 & 04  &  0 &  0 &  0 &  0 & 0 & 0 & 0 & 0 & NA & NA & NA & NA\\\\\n",
       "\t50 & (50) Alaska & 2019 &  2 & 04  &  1 &  0 &  0 &  0 & 0 & 0 & 0 & 0 & NA & NA & NA & NA\\\\\n",
       "\\end{tabular}\n"
      ],
      "text/markdown": [
       "\n",
       "A data.frame: 50 × 16\n",
       "\n",
       "| <!--/--> | STATE &lt;fct&gt; | YEAR &lt;dbl&gt; | MONTH &lt;dbl&gt; | OFFENSE &lt;fct&gt; | AW &lt;dbl&gt; | AB &lt;dbl&gt; | AI &lt;dbl&gt; | AA &lt;dbl&gt; | JW &lt;dbl&gt; | JB &lt;dbl&gt; | JI &lt;dbl&gt; | JA &lt;dbl&gt; | AH &lt;dbl&gt; | AN &lt;dbl&gt; | JH &lt;dbl&gt; | JN &lt;dbl&gt; |\n",
       "|---|---|---|---|---|---|---|---|---|---|---|---|---|---|---|---|---|\n",
       "| 1 | (50) Alaska | 2019 |  1 | 04  | 28 | 13 | 36 |  4 | 1 | 0 | 5 | 0 | NA | NA | NA | NA |\n",
       "| 2 | (50) Alaska | 2019 |  2 | 04  | 33 | 18 | 28 |  3 | 3 | 1 | 1 | 0 | NA | NA | NA | NA |\n",
       "| 3 | (50) Alaska | 2019 |  3 | 04  | 36 | 14 | 35 |  8 | 4 | 1 | 1 | 0 | NA | NA | NA | NA |\n",
       "| 4 | (50) Alaska | 2019 |  4 | 04  | 33 | 12 | 39 |  5 | 7 | 1 | 1 | 2 | NA | NA | NA | NA |\n",
       "| 5 | (50) Alaska | 2019 |  5 | 04  | 28 | 11 | 45 |  9 | 4 | 0 | 2 | 0 | NA | NA | NA | NA |\n",
       "| 6 | (50) Alaska | 2019 |  6 | 04  | 29 |  8 | 42 | 13 | 2 | 0 | 2 | 0 | NA | NA | NA | NA |\n",
       "| 7 | (50) Alaska | 2019 |  7 | 04  | 55 | 18 | 33 |  8 | 0 | 0 | 2 | 3 | NA | NA | NA | NA |\n",
       "| 8 | (50) Alaska | 2019 |  8 | 04  | 34 | 15 | 31 |  6 | 0 | 3 | 3 | 0 | NA | NA | NA | NA |\n",
       "| 9 | (50) Alaska | 2019 |  9 | 04  | 36 | 15 | 36 | 12 | 1 | 0 | 1 | 0 | NA | NA | NA | NA |\n",
       "| 10 | (50) Alaska | 2019 | 10 | 04  | 27 | 13 | 35 |  5 | 2 | 1 | 2 | 1 | NA | NA | NA | NA |\n",
       "| 11 | (50) Alaska | 2019 | 11 | 04  | 23 |  9 | 40 | 11 | 1 | 2 | 1 | 0 | NA | NA | NA | NA |\n",
       "| 12 | (50) Alaska | 2019 | 12 | 04  | 39 |  8 | 31 | 11 | 2 | 0 | 1 | 1 | NA | NA | NA | NA |\n",
       "| 13 | (50) Alaska | 2019 |  1 | 04  |  2 |  1 |  2 |  0 | 0 | 0 | 0 | 0 | NA | NA | NA | NA |\n",
       "| 14 | (50) Alaska | 2019 |  2 | 04  |  1 |  1 |  1 |  0 | 0 | 0 | 0 | 0 | NA | NA | NA | NA |\n",
       "| 15 | (50) Alaska | 2019 |  3 | 04  |  2 |  1 |  1 |  0 | 0 | 0 | 0 | 0 | NA | NA | NA | NA |\n",
       "| 16 | (50) Alaska | 2019 |  4 | 04  |  1 |  5 |  0 |  0 | 0 | 0 | 0 | 0 | NA | NA | NA | NA |\n",
       "| 17 | (50) Alaska | 2019 |  5 | 04  |  4 |  1 |  0 |  0 | 0 | 0 | 0 | 0 | NA | NA | NA | NA |\n",
       "| 18 | (50) Alaska | 2019 |  6 | 04  |  5 |  2 |  2 |  0 | 0 | 0 | 0 | 0 | NA | NA | NA | NA |\n",
       "| 19 | (50) Alaska | 2019 |  7 | 04  |  0 |  1 |  3 |  0 | 0 | 0 | 0 | 0 | NA | NA | NA | NA |\n",
       "| 20 | (50) Alaska | 2019 |  8 | 04  |  1 |  1 |  1 |  0 | 0 | 0 | 0 | 0 | NA | NA | NA | NA |\n",
       "| 21 | (50) Alaska | 2019 |  9 | 04  |  1 |  1 |  1 |  0 | 0 | 0 | 0 | 0 | NA | NA | NA | NA |\n",
       "| 22 | (50) Alaska | 2019 | 10 | 04  |  2 |  0 |  3 |  0 | 0 | 0 | 0 | 0 | NA | NA | NA | NA |\n",
       "| 23 | (50) Alaska | 2019 | 11 | 04  |  3 |  0 |  2 |  0 | 0 | 0 | 0 | 0 | NA | NA | NA | NA |\n",
       "| 24 | (50) Alaska | 2019 | 12 | 04  |  3 |  0 |  2 |  0 | 0 | 0 | 0 | 0 | NA | NA | NA | NA |\n",
       "| 25 | (50) Alaska | 2019 |  1 | 04  |  3 |  1 |  4 |  0 | 0 | 0 | 0 | 0 | NA | NA | NA | NA |\n",
       "| 26 | (50) Alaska | 2019 |  2 | 04  |  1 |  0 |  2 |  0 | 1 | 0 | 0 | 0 | NA | NA | NA | NA |\n",
       "| 27 | (50) Alaska | 2019 |  3 | 04  |  3 |  0 |  2 |  0 | 1 | 0 | 0 | 0 | NA | NA | NA | NA |\n",
       "| 28 | (50) Alaska | 2019 |  4 | 04  |  3 |  0 |  5 |  1 | 1 | 0 | 0 | 0 | NA | NA | NA | NA |\n",
       "| 29 | (50) Alaska | 2019 |  5 | 04  |  7 |  0 |  1 |  0 | 1 | 0 | 0 | 0 | NA | NA | NA | NA |\n",
       "| 30 | (50) Alaska | 2019 |  6 | 04  |  6 |  0 |  5 |  0 | 0 | 0 | 0 | 0 | NA | NA | NA | NA |\n",
       "| 31 | (50) Alaska | 2019 |  7 | 04  |  4 |  0 |  2 |  0 | 0 | 0 | 0 | 0 | NA | NA | NA | NA |\n",
       "| 32 | (50) Alaska | 2019 |  8 | 04  |  6 |  0 |  4 |  0 | 0 | 0 | 0 | 0 | NA | NA | NA | NA |\n",
       "| 33 | (50) Alaska | 2019 |  9 | 04  |  3 |  0 |  6 |  0 | 0 | 0 | 0 | 0 | NA | NA | NA | NA |\n",
       "| 34 | (50) Alaska | 2019 | 10 | 04  |  4 |  1 |  0 |  0 | 0 | 0 | 0 | 0 | NA | NA | NA | NA |\n",
       "| 35 | (50) Alaska | 2019 | 11 | 04  |  4 |  0 |  4 |  0 | 0 | 0 | 0 | 0 | NA | NA | NA | NA |\n",
       "| 36 | (50) Alaska | 2019 | 12 | 04  |  4 |  0 |  0 |  0 | 0 | 0 | 0 | 0 | NA | NA | NA | NA |\n",
       "| 37 | (50) Alaska | 2019 |  1 | 04  |  1 |  0 |  3 |  0 | 0 | 0 | 0 | 0 | NA | NA | NA | NA |\n",
       "| 38 | (50) Alaska | 2019 |  2 | 04  |  1 |  0 |  0 |  0 | 0 | 0 | 0 | 0 | NA | NA | NA | NA |\n",
       "| 39 | (50) Alaska | 2019 |  3 | 04  |  1 |  0 |  1 |  0 | 0 | 0 | 0 | 0 | NA | NA | NA | NA |\n",
       "| 40 | (50) Alaska | 2019 |  4 | 04  |  3 |  0 |  0 |  0 | 0 | 0 | 0 | 0 | NA | NA | NA | NA |\n",
       "| 41 | (50) Alaska | 2019 |  5 | 04  |  2 |  1 |  1 |  0 | 0 | 0 | 0 | 0 | NA | NA | NA | NA |\n",
       "| 42 | (50) Alaska | 2019 |  6 | 04  |  0 |  0 |  0 |  0 | 0 | 0 | 0 | 0 | NA | NA | NA | NA |\n",
       "| 43 | (50) Alaska | 2019 |  7 | 04  |  1 |  0 |  3 |  0 | 0 | 0 | 0 | 0 | NA | NA | NA | NA |\n",
       "| 44 | (50) Alaska | 2019 |  8 | 04  |  0 |  1 |  1 |  0 | 0 | 0 | 0 | 0 | NA | NA | NA | NA |\n",
       "| 45 | (50) Alaska | 2019 |  9 | 04  |  1 |  0 |  0 |  0 | 0 | 0 | 1 | 0 | NA | NA | NA | NA |\n",
       "| 46 | (50) Alaska | 2019 | 10 | 04  |  1 |  0 |  0 |  0 | 0 | 0 | 0 | 0 | NA | NA | NA | NA |\n",
       "| 47 | (50) Alaska | 2019 | 11 | 04  |  3 |  0 |  0 |  0 | 0 | 0 | 0 | 0 | NA | NA | NA | NA |\n",
       "| 48 | (50) Alaska | 2019 | 12 | 04  |  1 |  0 |  0 |  0 | 0 | 0 | 0 | 0 | NA | NA | NA | NA |\n",
       "| 49 | (50) Alaska | 2019 |  1 | 04  |  0 |  0 |  0 |  0 | 0 | 0 | 0 | 0 | NA | NA | NA | NA |\n",
       "| 50 | (50) Alaska | 2019 |  2 | 04  |  1 |  0 |  0 |  0 | 0 | 0 | 0 | 0 | NA | NA | NA | NA |\n",
       "\n"
      ],
      "text/plain": [
       "   STATE       YEAR MONTH OFFENSE AW AB AI AA JW JB JI JA AH AN JH JN\n",
       "1  (50) Alaska 2019  1    04      28 13 36  4 1  0  5  0  NA NA NA NA\n",
       "2  (50) Alaska 2019  2    04      33 18 28  3 3  1  1  0  NA NA NA NA\n",
       "3  (50) Alaska 2019  3    04      36 14 35  8 4  1  1  0  NA NA NA NA\n",
       "4  (50) Alaska 2019  4    04      33 12 39  5 7  1  1  2  NA NA NA NA\n",
       "5  (50) Alaska 2019  5    04      28 11 45  9 4  0  2  0  NA NA NA NA\n",
       "6  (50) Alaska 2019  6    04      29  8 42 13 2  0  2  0  NA NA NA NA\n",
       "7  (50) Alaska 2019  7    04      55 18 33  8 0  0  2  3  NA NA NA NA\n",
       "8  (50) Alaska 2019  8    04      34 15 31  6 0  3  3  0  NA NA NA NA\n",
       "9  (50) Alaska 2019  9    04      36 15 36 12 1  0  1  0  NA NA NA NA\n",
       "10 (50) Alaska 2019 10    04      27 13 35  5 2  1  2  1  NA NA NA NA\n",
       "11 (50) Alaska 2019 11    04      23  9 40 11 1  2  1  0  NA NA NA NA\n",
       "12 (50) Alaska 2019 12    04      39  8 31 11 2  0  1  1  NA NA NA NA\n",
       "13 (50) Alaska 2019  1    04       2  1  2  0 0  0  0  0  NA NA NA NA\n",
       "14 (50) Alaska 2019  2    04       1  1  1  0 0  0  0  0  NA NA NA NA\n",
       "15 (50) Alaska 2019  3    04       2  1  1  0 0  0  0  0  NA NA NA NA\n",
       "16 (50) Alaska 2019  4    04       1  5  0  0 0  0  0  0  NA NA NA NA\n",
       "17 (50) Alaska 2019  5    04       4  1  0  0 0  0  0  0  NA NA NA NA\n",
       "18 (50) Alaska 2019  6    04       5  2  2  0 0  0  0  0  NA NA NA NA\n",
       "19 (50) Alaska 2019  7    04       0  1  3  0 0  0  0  0  NA NA NA NA\n",
       "20 (50) Alaska 2019  8    04       1  1  1  0 0  0  0  0  NA NA NA NA\n",
       "21 (50) Alaska 2019  9    04       1  1  1  0 0  0  0  0  NA NA NA NA\n",
       "22 (50) Alaska 2019 10    04       2  0  3  0 0  0  0  0  NA NA NA NA\n",
       "23 (50) Alaska 2019 11    04       3  0  2  0 0  0  0  0  NA NA NA NA\n",
       "24 (50) Alaska 2019 12    04       3  0  2  0 0  0  0  0  NA NA NA NA\n",
       "25 (50) Alaska 2019  1    04       3  1  4  0 0  0  0  0  NA NA NA NA\n",
       "26 (50) Alaska 2019  2    04       1  0  2  0 1  0  0  0  NA NA NA NA\n",
       "27 (50) Alaska 2019  3    04       3  0  2  0 1  0  0  0  NA NA NA NA\n",
       "28 (50) Alaska 2019  4    04       3  0  5  1 1  0  0  0  NA NA NA NA\n",
       "29 (50) Alaska 2019  5    04       7  0  1  0 1  0  0  0  NA NA NA NA\n",
       "30 (50) Alaska 2019  6    04       6  0  5  0 0  0  0  0  NA NA NA NA\n",
       "31 (50) Alaska 2019  7    04       4  0  2  0 0  0  0  0  NA NA NA NA\n",
       "32 (50) Alaska 2019  8    04       6  0  4  0 0  0  0  0  NA NA NA NA\n",
       "33 (50) Alaska 2019  9    04       3  0  6  0 0  0  0  0  NA NA NA NA\n",
       "34 (50) Alaska 2019 10    04       4  1  0  0 0  0  0  0  NA NA NA NA\n",
       "35 (50) Alaska 2019 11    04       4  0  4  0 0  0  0  0  NA NA NA NA\n",
       "36 (50) Alaska 2019 12    04       4  0  0  0 0  0  0  0  NA NA NA NA\n",
       "37 (50) Alaska 2019  1    04       1  0  3  0 0  0  0  0  NA NA NA NA\n",
       "38 (50) Alaska 2019  2    04       1  0  0  0 0  0  0  0  NA NA NA NA\n",
       "39 (50) Alaska 2019  3    04       1  0  1  0 0  0  0  0  NA NA NA NA\n",
       "40 (50) Alaska 2019  4    04       3  0  0  0 0  0  0  0  NA NA NA NA\n",
       "41 (50) Alaska 2019  5    04       2  1  1  0 0  0  0  0  NA NA NA NA\n",
       "42 (50) Alaska 2019  6    04       0  0  0  0 0  0  0  0  NA NA NA NA\n",
       "43 (50) Alaska 2019  7    04       1  0  3  0 0  0  0  0  NA NA NA NA\n",
       "44 (50) Alaska 2019  8    04       0  1  1  0 0  0  0  0  NA NA NA NA\n",
       "45 (50) Alaska 2019  9    04       1  0  0  0 0  0  1  0  NA NA NA NA\n",
       "46 (50) Alaska 2019 10    04       1  0  0  0 0  0  0  0  NA NA NA NA\n",
       "47 (50) Alaska 2019 11    04       3  0  0  0 0  0  0  0  NA NA NA NA\n",
       "48 (50) Alaska 2019 12    04       1  0  0  0 0  0  0  0  NA NA NA NA\n",
       "49 (50) Alaska 2019  1    04       0  0  0  0 0  0  0  0  NA NA NA NA\n",
       "50 (50) Alaska 2019  2    04       1  0  0  0 0  0  0  0  NA NA NA NA"
      ]
     },
     "metadata": {},
     "output_type": "display_data"
    }
   ],
   "source": [
    "head(combined_df, 50)"
   ]
  },
  {
   "cell_type": "code",
   "execution_count": 139,
   "id": "04a0403e",
   "metadata": {},
   "outputs": [
    {
     "data": {
      "text/plain": [
       "               STATE             YEAR          MONTH           OFFENSE      \n",
       " (04) California  : 18000   Min.   :2017   Min.   : 1.000   04     :174335  \n",
       " (42) Texas       : 16672   1st Qu.:2017   1st Qu.: 4.000   00     :     0  \n",
       " (37) Pennsylvania: 10705   Median :2018   Median : 6.000   01A    :     0  \n",
       " (21) Michigan    :  7206   Mean   :2018   Mean   : 6.455   01B    :     0  \n",
       " (41) Tennessee   :  6517   3rd Qu.:2019   3rd Qu.: 9.000   02     :     0  \n",
       " (29) New Jersey  :  6233   Max.   :2019   Max.   :12.000   03     :     0  \n",
       " (Other)          :109002                                   (Other):     0  \n",
       "       AW                AB                AI               AA       \n",
       " Min.   :  0.000   Min.   :   0.00   Min.   :  0.00   Min.   : 0.00  \n",
       " 1st Qu.:  1.000   1st Qu.:   0.00   1st Qu.:  0.00   1st Qu.: 0.00  \n",
       " Median :  1.000   Median :   1.00   Median :  0.00   Median : 0.00  \n",
       " Mean   :  3.456   Mean   :   2.39   Mean   :  0.23   Mean   : 0.15  \n",
       " 3rd Qu.:  3.000   3rd Qu.:   2.00   3rd Qu.:  0.00   3rd Qu.: 0.00  \n",
       " Max.   :581.000   Max.   :1366.00   Max.   :143.00   Max.   :31.00  \n",
       " NA's   :13911     NA's   :49655     NA's   :72658    NA's   :73243  \n",
       "       JW              JB               JI              JA       \n",
       " Min.   : 0.00   Min.   :  0.00   Min.   : 0.00   Min.   :0.00   \n",
       " 1st Qu.: 0.00   1st Qu.:  0.00   1st Qu.: 0.00   1st Qu.:0.00   \n",
       " Median : 0.00   Median :  0.00   Median : 0.00   Median :0.00   \n",
       " Mean   : 0.35   Mean   :  0.27   Mean   : 0.02   Mean   :0.01   \n",
       " 3rd Qu.: 0.00   3rd Qu.:  0.00   3rd Qu.: 0.00   3rd Qu.:0.00   \n",
       " Max.   :57.00   Max.   :116.00   Max.   :10.00   Max.   :5.00   \n",
       " NA's   :66294   NA's   :69869    NA's   :75279   NA's   :75389  \n",
       "       AH               AN               JH               JN        \n",
       " Min.   :  1.00   Min.   :  1.0    Min.   : 1.00    Min.   : 1.00   \n",
       " 1st Qu.:  1.00   1st Qu.:  1.0    1st Qu.: 1.00    1st Qu.: 1.00   \n",
       " Median :  1.00   Median :  2.0    Median : 1.00    Median : 1.00   \n",
       " Mean   :  2.66   Mean   :  3.7    Mean   : 1.49    Mean   : 1.67   \n",
       " 3rd Qu.:  2.00   3rd Qu.:  3.0    3rd Qu.: 1.00    3rd Qu.: 2.00   \n",
       " Max.   :252.00   Max.   :469.0    Max.   :22.00    Max.   :32.00   \n",
       " NA's   :161486   NA's   :117244   NA's   :171894   NA's   :164440  "
      ]
     },
     "metadata": {},
     "output_type": "display_data"
    }
   ],
   "source": [
    "summary(combined_df)"
   ]
  },
  {
   "cell_type": "code",
   "execution_count": null,
   "id": "aea9f280",
   "metadata": {},
   "outputs": [],
   "source": []
  },
  {
   "cell_type": "code",
   "execution_count": 144,
   "id": "9e360c7b",
   "metadata": {},
   "outputs": [
    {
     "data": {
      "image/png": "[encoded data removed]",
      "text/plain": [
       "Plot with title “State Wise Value counts”"
      ]
     },
     "metadata": {
      "image/png": {
       "height": 420,
       "width": 420
      }
     },
     "output_type": "display_data"
    }
   ],
   "source": [
    "value_counts <- combined_df %>%\n",
    "  count(STATE)\n",
    "\n",
    "plot(value_counts, main = \"State Wise Value counts\")"
   ]
  },
  {
   "cell_type": "code",
   "execution_count": 145,
   "id": "c4cbbb0d",
   "metadata": {},
   "outputs": [
    {
     "data": {
      "image/png": "[encoded data removed]",
      "text/plain": [
       "Plot with title “Month Wise Value counts”"
      ]
     },
     "metadata": {
      "image/png": {
       "height": 420,
       "width": 420
      }
     },
     "output_type": "display_data"
    }
   ],
   "source": [
    "value_counts <- combined_df %>% count(MONTH)\n",
    "\n",
    "plot(value_counts, main = \"Month Wise Value counts\")"
   ]
  },
  {
   "cell_type": "code",
   "execution_count": 157,
   "id": "bd7ffe1b",
   "metadata": {},
   "outputs": [
    {
     "data": {
      "image/png": "[encoded data removed]",
      "text/plain": [
       "Plot with title “Month wise breakdown”"
      ]
     },
     "metadata": {
      "image/png": {
       "height": 420,
       "width": 420
      }
     },
     "output_type": "display_data"
    }
   ],
   "source": [
    "barplot(value_counts$n, names.arg = value_counts$MONTH, xlab = 'Months', ylab = 'Crimes', main = 'Month wise breakdown')"
   ]
  },
  {
   "cell_type": "code",
   "execution_count": 159,
   "id": "b0a5016b",
   "metadata": {},
   "outputs": [],
   "source": [
    "value_counts <- combined_df %>% count(YEAR, MONTH)\n"
   ]
  },
  {
   "cell_type": "code",
   "execution_count": 160,
   "id": "836a30f4",
   "metadata": {},
   "outputs": [
    {
     "data": {
      "text/html": [
       "<table class=\"dataframe\">\n",
       "<caption>A data.frame: 36 × 3</caption>\n",
       "<thead>\n",
       "\t<tr><th scope=col>YEAR</th><th scope=col>MONTH</th><th scope=col>n</th></tr>\n",
       "\t<tr><th scope=col>&lt;dbl&gt;</th><th scope=col>&lt;dbl&gt;</th><th scope=col>&lt;int&gt;</th></tr>\n",
       "</thead>\n",
       "<tbody>\n",
       "\t<tr><td>2017</td><td> 1</td><td>5224</td></tr>\n",
       "\t<tr><td>2017</td><td> 2</td><td>5112</td></tr>\n",
       "\t<tr><td>2017</td><td> 3</td><td>5272</td></tr>\n",
       "\t<tr><td>2017</td><td> 4</td><td>5309</td></tr>\n",
       "\t<tr><td>2017</td><td> 5</td><td>5303</td></tr>\n",
       "\t<tr><td>2017</td><td> 6</td><td>5284</td></tr>\n",
       "\t<tr><td>2017</td><td> 7</td><td>5340</td></tr>\n",
       "\t<tr><td>2017</td><td> 8</td><td>5155</td></tr>\n",
       "\t<tr><td>2017</td><td> 9</td><td>5151</td></tr>\n",
       "\t<tr><td>2017</td><td>10</td><td>5104</td></tr>\n",
       "\t<tr><td>2017</td><td>11</td><td>4811</td></tr>\n",
       "\t<tr><td>2017</td><td>12</td><td>4999</td></tr>\n",
       "\t<tr><td>2018</td><td> 1</td><td>4671</td></tr>\n",
       "\t<tr><td>2018</td><td> 2</td><td>4519</td></tr>\n",
       "\t<tr><td>2018</td><td> 3</td><td>4844</td></tr>\n",
       "\t<tr><td>2018</td><td> 4</td><td>4772</td></tr>\n",
       "\t<tr><td>2018</td><td> 5</td><td>5013</td></tr>\n",
       "\t<tr><td>2018</td><td> 6</td><td>4951</td></tr>\n",
       "\t<tr><td>2018</td><td> 7</td><td>4971</td></tr>\n",
       "\t<tr><td>2018</td><td> 8</td><td>5028</td></tr>\n",
       "\t<tr><td>2018</td><td> 9</td><td>4863</td></tr>\n",
       "\t<tr><td>2018</td><td>10</td><td>4789</td></tr>\n",
       "\t<tr><td>2018</td><td>11</td><td>4611</td></tr>\n",
       "\t<tr><td>2018</td><td>12</td><td>4743</td></tr>\n",
       "\t<tr><td>2019</td><td> 1</td><td>4645</td></tr>\n",
       "\t<tr><td>2019</td><td> 2</td><td>4448</td></tr>\n",
       "\t<tr><td>2019</td><td> 3</td><td>4663</td></tr>\n",
       "\t<tr><td>2019</td><td> 4</td><td>4741</td></tr>\n",
       "\t<tr><td>2019</td><td> 5</td><td>4799</td></tr>\n",
       "\t<tr><td>2019</td><td> 6</td><td>4684</td></tr>\n",
       "\t<tr><td>2019</td><td> 7</td><td>4538</td></tr>\n",
       "\t<tr><td>2019</td><td> 8</td><td>4681</td></tr>\n",
       "\t<tr><td>2019</td><td> 9</td><td>4480</td></tr>\n",
       "\t<tr><td>2019</td><td>10</td><td>4292</td></tr>\n",
       "\t<tr><td>2019</td><td>11</td><td>4078</td></tr>\n",
       "\t<tr><td>2019</td><td>12</td><td>4447</td></tr>\n",
       "</tbody>\n",
       "</table>\n"
      ],
      "text/latex": [
       "A data.frame: 36 × 3\n",
       "\\begin{tabular}{lll}\n",
       " YEAR & MONTH & n\\\\\n",
       " <dbl> & <dbl> & <int>\\\\\n",
       "\\hline\n",
       "\t 2017 &  1 & 5224\\\\\n",
       "\t 2017 &  2 & 5112\\\\\n",
       "\t 2017 &  3 & 5272\\\\\n",
       "\t 2017 &  4 & 5309\\\\\n",
       "\t 2017 &  5 & 5303\\\\\n",
       "\t 2017 &  6 & 5284\\\\\n",
       "\t 2017 &  7 & 5340\\\\\n",
       "\t 2017 &  8 & 5155\\\\\n",
       "\t 2017 &  9 & 5151\\\\\n",
       "\t 2017 & 10 & 5104\\\\\n",
       "\t 2017 & 11 & 4811\\\\\n",
       "\t 2017 & 12 & 4999\\\\\n",
       "\t 2018 &  1 & 4671\\\\\n",
       "\t 2018 &  2 & 4519\\\\\n",
       "\t 2018 &  3 & 4844\\\\\n",
       "\t 2018 &  4 & 4772\\\\\n",
       "\t 2018 &  5 & 5013\\\\\n",
       "\t 2018 &  6 & 4951\\\\\n",
       "\t 2018 &  7 & 4971\\\\\n",
       "\t 2018 &  8 & 5028\\\\\n",
       "\t 2018 &  9 & 4863\\\\\n",
       "\t 2018 & 10 & 4789\\\\\n",
       "\t 2018 & 11 & 4611\\\\\n",
       "\t 2018 & 12 & 4743\\\\\n",
       "\t 2019 &  1 & 4645\\\\\n",
       "\t 2019 &  2 & 4448\\\\\n",
       "\t 2019 &  3 & 4663\\\\\n",
       "\t 2019 &  4 & 4741\\\\\n",
       "\t 2019 &  5 & 4799\\\\\n",
       "\t 2019 &  6 & 4684\\\\\n",
       "\t 2019 &  7 & 4538\\\\\n",
       "\t 2019 &  8 & 4681\\\\\n",
       "\t 2019 &  9 & 4480\\\\\n",
       "\t 2019 & 10 & 4292\\\\\n",
       "\t 2019 & 11 & 4078\\\\\n",
       "\t 2019 & 12 & 4447\\\\\n",
       "\\end{tabular}\n"
      ],
      "text/markdown": [
       "\n",
       "A data.frame: 36 × 3\n",
       "\n",
       "| YEAR &lt;dbl&gt; | MONTH &lt;dbl&gt; | n &lt;int&gt; |\n",
       "|---|---|---|\n",
       "| 2017 |  1 | 5224 |\n",
       "| 2017 |  2 | 5112 |\n",
       "| 2017 |  3 | 5272 |\n",
       "| 2017 |  4 | 5309 |\n",
       "| 2017 |  5 | 5303 |\n",
       "| 2017 |  6 | 5284 |\n",
       "| 2017 |  7 | 5340 |\n",
       "| 2017 |  8 | 5155 |\n",
       "| 2017 |  9 | 5151 |\n",
       "| 2017 | 10 | 5104 |\n",
       "| 2017 | 11 | 4811 |\n",
       "| 2017 | 12 | 4999 |\n",
       "| 2018 |  1 | 4671 |\n",
       "| 2018 |  2 | 4519 |\n",
       "| 2018 |  3 | 4844 |\n",
       "| 2018 |  4 | 4772 |\n",
       "| 2018 |  5 | 5013 |\n",
       "| 2018 |  6 | 4951 |\n",
       "| 2018 |  7 | 4971 |\n",
       "| 2018 |  8 | 5028 |\n",
       "| 2018 |  9 | 4863 |\n",
       "| 2018 | 10 | 4789 |\n",
       "| 2018 | 11 | 4611 |\n",
       "| 2018 | 12 | 4743 |\n",
       "| 2019 |  1 | 4645 |\n",
       "| 2019 |  2 | 4448 |\n",
       "| 2019 |  3 | 4663 |\n",
       "| 2019 |  4 | 4741 |\n",
       "| 2019 |  5 | 4799 |\n",
       "| 2019 |  6 | 4684 |\n",
       "| 2019 |  7 | 4538 |\n",
       "| 2019 |  8 | 4681 |\n",
       "| 2019 |  9 | 4480 |\n",
       "| 2019 | 10 | 4292 |\n",
       "| 2019 | 11 | 4078 |\n",
       "| 2019 | 12 | 4447 |\n",
       "\n"
      ],
      "text/plain": [
       "   YEAR MONTH n   \n",
       "1  2017  1    5224\n",
       "2  2017  2    5112\n",
       "3  2017  3    5272\n",
       "4  2017  4    5309\n",
       "5  2017  5    5303\n",
       "6  2017  6    5284\n",
       "7  2017  7    5340\n",
       "8  2017  8    5155\n",
       "9  2017  9    5151\n",
       "10 2017 10    5104\n",
       "11 2017 11    4811\n",
       "12 2017 12    4999\n",
       "13 2018  1    4671\n",
       "14 2018  2    4519\n",
       "15 2018  3    4844\n",
       "16 2018  4    4772\n",
       "17 2018  5    5013\n",
       "18 2018  6    4951\n",
       "19 2018  7    4971\n",
       "20 2018  8    5028\n",
       "21 2018  9    4863\n",
       "22 2018 10    4789\n",
       "23 2018 11    4611\n",
       "24 2018 12    4743\n",
       "25 2019  1    4645\n",
       "26 2019  2    4448\n",
       "27 2019  3    4663\n",
       "28 2019  4    4741\n",
       "29 2019  5    4799\n",
       "30 2019  6    4684\n",
       "31 2019  7    4538\n",
       "32 2019  8    4681\n",
       "33 2019  9    4480\n",
       "34 2019 10    4292\n",
       "35 2019 11    4078\n",
       "36 2019 12    4447"
      ]
     },
     "metadata": {},
     "output_type": "display_data"
    }
   ],
   "source": [
    "value_counts"
   ]
  },
  {
   "cell_type": "code",
   "execution_count": 161,
   "id": "48ad6c1c",
   "metadata": {},
   "outputs": [
    {
     "data": {
      "image/png": "[encoded data removed]",
      "text/plain": [
       "Plot with title “Month wise breakdown”"
      ]
     },
     "metadata": {
      "image/png": {
       "height": 420,
       "width": 420
      }
     },
     "output_type": "display_data"
    }
   ],
   "source": [
    "barplot(value_counts$n, xlab = 'Months', ylab = 'Crimes', main = 'Month wise breakdown')\n",
    "\n",
    "\n"
   ]
  },
  {
   "cell_type": "code",
   "execution_count": null,
   "id": "8ad4af2f",
   "metadata": {},
   "outputs": [],
   "source": []
  },
  {
   "cell_type": "code",
   "execution_count": null,
   "id": "58fa1d2a",
   "metadata": {},
   "outputs": [],
   "source": []
  },
  {
   "cell_type": "code",
   "execution_count": null,
   "id": "145d6650",
   "metadata": {},
   "outputs": [],
   "source": []
  },
  {
   "cell_type": "code",
   "execution_count": null,
   "id": "566b01c9",
   "metadata": {},
   "outputs": [],
   "source": []
  },
  {
   "cell_type": "code",
   "execution_count": null,
   "id": "22bf397a",
   "metadata": {},
   "outputs": [],
   "source": [
    "da4 <- da1 |> \n",
    "  filter(!is.na(STATE) & !is.na(AA)) |> \n",
    "  group_by(STATE) |> \n",
    "  summarize(avg_adult_asian = mean(AA),\n",
    "            count = n())\n",
    "head(da4)"
   ]
  },
  {
   "cell_type": "code",
   "execution_count": null,
   "id": "f30cb34a",
   "metadata": {},
   "outputs": [],
   "source": []
  },
  {
   "cell_type": "code",
   "execution_count": null,
   "id": "6f79edd5",
   "metadata": {},
   "outputs": [],
   "source": []
  },
  {
   "cell_type": "code",
   "execution_count": null,
   "id": "7ac38043",
   "metadata": {},
   "outputs": [],
   "source": []
  },
  {
   "cell_type": "code",
   "execution_count": null,
   "id": "c14600b2",
   "metadata": {},
   "outputs": [],
   "source": []
  }
 ],
 "metadata": {
  "kernelspec": {
   "display_name": "R",
   "language": "R",
   "name": "ir"
  },
  "language_info": {
   "codemirror_mode": "r",
   "file_extension": ".r",
   "mimetype": "text/x-r-source",
   "name": "R",
   "pygments_lexer": "r",
   "version": "4.3.1"
  }
 },
 "nbformat": 4,
 "nbformat_minor": 5
}

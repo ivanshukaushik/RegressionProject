{
 "cells": [
  {
   "cell_type": "code",
   "execution_count": 169,
   "id": "b21b28f0",
   "metadata": {},
   "outputs": [],
   "source": [
    "library(tidyverse)\n",
    "library(dplyr)"
   ]
  },
  {
   "cell_type": "code",
   "execution_count": null,
   "id": "6dce346a",
   "metadata": {},
   "outputs": [],
   "source": []
  },
  {
   "cell_type": "code",
   "execution_count": null,
   "id": "3ac41544",
   "metadata": {},
   "outputs": [],
   "source": []
  },
  {
   "cell_type": "code",
   "execution_count": 210,
   "id": "02a3c4fb",
   "metadata": {},
   "outputs": [
    {
     "data": {
      "text/html": [
       "<style>\n",
       ".list-inline {list-style: none; margin:0; padding: 0}\n",
       ".list-inline>li {display: inline-block}\n",
       ".list-inline>li:not(:last-child)::after {content: \"\\00b7\"; padding: 0 .5ex}\n",
       "</style>\n",
       "<ol class=list-inline><li>'ASR_ID'</li><li>'CONTENTS'</li><li>'STATE'</li><li>'ORI'</li><li>'GROUP'</li><li>'DIV'</li><li>'AGHEADER'</li><li>'YEAR'</li><li>'MSA'</li><li>'COUNTY'</li><li>'SEQNO'</li><li>'SUB'</li><li>'CORE'</li><li>'COVBY'</li><li>'POP'</li><li>'AGENCY'</li><li>'STNAME'</li><li>'MONTH'</li><li>'MOHEADER'</li><li>'BREAK'</li><li>'AREO'</li><li>'ZERO'</li><li>'DTLASTUP'</li><li>'DTPRUP1'</li><li>'DTPRUP2'</li><li>'JUVDISP'</li><li>'JDHANDDP'</li><li>'JDREFJC'</li><li>'JDREFWA'</li><li>'JDREFOPA'</li><li>'JDREFCC'</li><li>'OFFENSE'</li><li>'OCCUR'</li><li>'M0_9'</li><li>'M10_12'</li><li>'M13_14'</li><li>'M15'</li><li>'M16'</li><li>'M17'</li><li>'M18'</li><li>'M19'</li><li>'M20'</li><li>'M21'</li><li>'M22'</li><li>'M23'</li><li>'M24'</li><li>'M25_29'</li><li>'M30_34'</li><li>'M35_39'</li><li>'M40_44'</li><li>'M45_49'</li><li>'M50_54'</li><li>'M55_59'</li><li>'M60_64'</li><li>'M65'</li><li>'F0_9'</li><li>'F10_12'</li><li>'F13_14'</li><li>'F15'</li><li>'F16'</li><li>'F17'</li><li>'F18'</li><li>'F19'</li><li>'F20'</li><li>'F21'</li><li>'F22'</li><li>'F23'</li><li>'F24'</li><li>'F25_29'</li><li>'F30_34'</li><li>'F35_39'</li><li>'F40_44'</li><li>'F45_49'</li><li>'F50_54'</li><li>'F55_59'</li><li>'F60_64'</li><li>'F65'</li><li>'AW'</li><li>'AB'</li><li>'AI'</li><li>'AA'</li><li>'JW'</li><li>'JB'</li><li>'JI'</li><li>'JA'</li><li>'AH'</li><li>'AN'</li><li>'JH'</li><li>'JN'</li></ol>\n"
      ],
      "text/latex": [
       "\\begin{enumerate*}\n",
       "\\item 'ASR\\_ID'\n",
       "\\item 'CONTENTS'\n",
       "\\item 'STATE'\n",
       "\\item 'ORI'\n",
       "\\item 'GROUP'\n",
       "\\item 'DIV'\n",
       "\\item 'AGHEADER'\n",
       "\\item 'YEAR'\n",
       "\\item 'MSA'\n",
       "\\item 'COUNTY'\n",
       "\\item 'SEQNO'\n",
       "\\item 'SUB'\n",
       "\\item 'CORE'\n",
       "\\item 'COVBY'\n",
       "\\item 'POP'\n",
       "\\item 'AGENCY'\n",
       "\\item 'STNAME'\n",
       "\\item 'MONTH'\n",
       "\\item 'MOHEADER'\n",
       "\\item 'BREAK'\n",
       "\\item 'AREO'\n",
       "\\item 'ZERO'\n",
       "\\item 'DTLASTUP'\n",
       "\\item 'DTPRUP1'\n",
       "\\item 'DTPRUP2'\n",
       "\\item 'JUVDISP'\n",
       "\\item 'JDHANDDP'\n",
       "\\item 'JDREFJC'\n",
       "\\item 'JDREFWA'\n",
       "\\item 'JDREFOPA'\n",
       "\\item 'JDREFCC'\n",
       "\\item 'OFFENSE'\n",
       "\\item 'OCCUR'\n",
       "\\item 'M0\\_9'\n",
       "\\item 'M10\\_12'\n",
       "\\item 'M13\\_14'\n",
       "\\item 'M15'\n",
       "\\item 'M16'\n",
       "\\item 'M17'\n",
       "\\item 'M18'\n",
       "\\item 'M19'\n",
       "\\item 'M20'\n",
       "\\item 'M21'\n",
       "\\item 'M22'\n",
       "\\item 'M23'\n",
       "\\item 'M24'\n",
       "\\item 'M25\\_29'\n",
       "\\item 'M30\\_34'\n",
       "\\item 'M35\\_39'\n",
       "\\item 'M40\\_44'\n",
       "\\item 'M45\\_49'\n",
       "\\item 'M50\\_54'\n",
       "\\item 'M55\\_59'\n",
       "\\item 'M60\\_64'\n",
       "\\item 'M65'\n",
       "\\item 'F0\\_9'\n",
       "\\item 'F10\\_12'\n",
       "\\item 'F13\\_14'\n",
       "\\item 'F15'\n",
       "\\item 'F16'\n",
       "\\item 'F17'\n",
       "\\item 'F18'\n",
       "\\item 'F19'\n",
       "\\item 'F20'\n",
       "\\item 'F21'\n",
       "\\item 'F22'\n",
       "\\item 'F23'\n",
       "\\item 'F24'\n",
       "\\item 'F25\\_29'\n",
       "\\item 'F30\\_34'\n",
       "\\item 'F35\\_39'\n",
       "\\item 'F40\\_44'\n",
       "\\item 'F45\\_49'\n",
       "\\item 'F50\\_54'\n",
       "\\item 'F55\\_59'\n",
       "\\item 'F60\\_64'\n",
       "\\item 'F65'\n",
       "\\item 'AW'\n",
       "\\item 'AB'\n",
       "\\item 'AI'\n",
       "\\item 'AA'\n",
       "\\item 'JW'\n",
       "\\item 'JB'\n",
       "\\item 'JI'\n",
       "\\item 'JA'\n",
       "\\item 'AH'\n",
       "\\item 'AN'\n",
       "\\item 'JH'\n",
       "\\item 'JN'\n",
       "\\end{enumerate*}\n"
      ],
      "text/markdown": [
       "1. 'ASR_ID'\n",
       "2. 'CONTENTS'\n",
       "3. 'STATE'\n",
       "4. 'ORI'\n",
       "5. 'GROUP'\n",
       "6. 'DIV'\n",
       "7. 'AGHEADER'\n",
       "8. 'YEAR'\n",
       "9. 'MSA'\n",
       "10. 'COUNTY'\n",
       "11. 'SEQNO'\n",
       "12. 'SUB'\n",
       "13. 'CORE'\n",
       "14. 'COVBY'\n",
       "15. 'POP'\n",
       "16. 'AGENCY'\n",
       "17. 'STNAME'\n",
       "18. 'MONTH'\n",
       "19. 'MOHEADER'\n",
       "20. 'BREAK'\n",
       "21. 'AREO'\n",
       "22. 'ZERO'\n",
       "23. 'DTLASTUP'\n",
       "24. 'DTPRUP1'\n",
       "25. 'DTPRUP2'\n",
       "26. 'JUVDISP'\n",
       "27. 'JDHANDDP'\n",
       "28. 'JDREFJC'\n",
       "29. 'JDREFWA'\n",
       "30. 'JDREFOPA'\n",
       "31. 'JDREFCC'\n",
       "32. 'OFFENSE'\n",
       "33. 'OCCUR'\n",
       "34. 'M0_9'\n",
       "35. 'M10_12'\n",
       "36. 'M13_14'\n",
       "37. 'M15'\n",
       "38. 'M16'\n",
       "39. 'M17'\n",
       "40. 'M18'\n",
       "41. 'M19'\n",
       "42. 'M20'\n",
       "43. 'M21'\n",
       "44. 'M22'\n",
       "45. 'M23'\n",
       "46. 'M24'\n",
       "47. 'M25_29'\n",
       "48. 'M30_34'\n",
       "49. 'M35_39'\n",
       "50. 'M40_44'\n",
       "51. 'M45_49'\n",
       "52. 'M50_54'\n",
       "53. 'M55_59'\n",
       "54. 'M60_64'\n",
       "55. 'M65'\n",
       "56. 'F0_9'\n",
       "57. 'F10_12'\n",
       "58. 'F13_14'\n",
       "59. 'F15'\n",
       "60. 'F16'\n",
       "61. 'F17'\n",
       "62. 'F18'\n",
       "63. 'F19'\n",
       "64. 'F20'\n",
       "65. 'F21'\n",
       "66. 'F22'\n",
       "67. 'F23'\n",
       "68. 'F24'\n",
       "69. 'F25_29'\n",
       "70. 'F30_34'\n",
       "71. 'F35_39'\n",
       "72. 'F40_44'\n",
       "73. 'F45_49'\n",
       "74. 'F50_54'\n",
       "75. 'F55_59'\n",
       "76. 'F60_64'\n",
       "77. 'F65'\n",
       "78. 'AW'\n",
       "79. 'AB'\n",
       "80. 'AI'\n",
       "81. 'AA'\n",
       "82. 'JW'\n",
       "83. 'JB'\n",
       "84. 'JI'\n",
       "85. 'JA'\n",
       "86. 'AH'\n",
       "87. 'AN'\n",
       "88. 'JH'\n",
       "89. 'JN'\n",
       "\n",
       "\n"
      ],
      "text/plain": [
       " [1] \"ASR_ID\"   \"CONTENTS\" \"STATE\"    \"ORI\"      \"GROUP\"    \"DIV\"     \n",
       " [7] \"AGHEADER\" \"YEAR\"     \"MSA\"      \"COUNTY\"   \"SEQNO\"    \"SUB\"     \n",
       "[13] \"CORE\"     \"COVBY\"    \"POP\"      \"AGENCY\"   \"STNAME\"   \"MONTH\"   \n",
       "[19] \"MOHEADER\" \"BREAK\"    \"AREO\"     \"ZERO\"     \"DTLASTUP\" \"DTPRUP1\" \n",
       "[25] \"DTPRUP2\"  \"JUVDISP\"  \"JDHANDDP\" \"JDREFJC\"  \"JDREFWA\"  \"JDREFOPA\"\n",
       "[31] \"JDREFCC\"  \"OFFENSE\"  \"OCCUR\"    \"M0_9\"     \"M10_12\"   \"M13_14\"  \n",
       "[37] \"M15\"      \"M16\"      \"M17\"      \"M18\"      \"M19\"      \"M20\"     \n",
       "[43] \"M21\"      \"M22\"      \"M23\"      \"M24\"      \"M25_29\"   \"M30_34\"  \n",
       "[49] \"M35_39\"   \"M40_44\"   \"M45_49\"   \"M50_54\"   \"M55_59\"   \"M60_64\"  \n",
       "[55] \"M65\"      \"F0_9\"     \"F10_12\"   \"F13_14\"   \"F15\"      \"F16\"     \n",
       "[61] \"F17\"      \"F18\"      \"F19\"      \"F20\"      \"F21\"      \"F22\"     \n",
       "[67] \"F23\"      \"F24\"      \"F25_29\"   \"F30_34\"   \"F35_39\"   \"F40_44\"  \n",
       "[73] \"F45_49\"   \"F50_54\"   \"F55_59\"   \"F60_64\"   \"F65\"      \"AW\"      \n",
       "[79] \"AB\"       \"AI\"       \"AA\"       \"JW\"       \"JB\"       \"JI\"      \n",
       "[85] \"JA\"       \"AH\"       \"AN\"       \"JH\"       \"JN\"      "
      ]
     },
     "metadata": {},
     "output_type": "display_data"
    }
   ],
   "source": [
    "load(\"./ICPSR_38779/DS0001/38779-0001-Data.rda\")\n",
    "\n",
    "load(\"./ICPSR_38740/DS0001/38740-0001-Data.rda\")\n",
    "\n",
    "load(\"./ICPSR_38743/DS0001/38743-0001-Data.rda\")\n",
    "\n",
    "names(da38779.0001)"
   ]
  },
  {
   "cell_type": "code",
   "execution_count": 194,
   "id": "4eabd490",
   "metadata": {},
   "outputs": [
    {
     "data": {
      "text/html": [
       "77"
      ],
      "text/latex": [
       "77"
      ],
      "text/markdown": [
       "77"
      ],
      "text/plain": [
       "[1] 77"
      ]
     },
     "metadata": {},
     "output_type": "display_data"
    }
   ],
   "source": [
    "# Just to check index number of different columns\n",
    "index <- which(colnames(da38779.0001) == 'F65')\n",
    "index"
   ]
  },
  {
   "cell_type": "code",
   "execution_count": 180,
   "id": "76f988db",
   "metadata": {
    "scrolled": true
   },
   "outputs": [
    {
     "data": {
      "text/html": [
       "<table class=\"dataframe\">\n",
       "<caption>A data.frame: 6 × 91</caption>\n",
       "<thead>\n",
       "\t<tr><th></th><th scope=col>ASR_ID</th><th scope=col>CONTENTS</th><th scope=col>STATE</th><th scope=col>ORI</th><th scope=col>GROUP</th><th scope=col>DIV</th><th scope=col>AGHEADER</th><th scope=col>YEAR</th><th scope=col>MSA</th><th scope=col>COUNTY</th><th scope=col>⋯</th><th scope=col>JW</th><th scope=col>JB</th><th scope=col>JI</th><th scope=col>JA</th><th scope=col>AH</th><th scope=col>AN</th><th scope=col>JH</th><th scope=col>JN</th><th scope=col>age_sum</th><th scope=col>age</th></tr>\n",
       "\t<tr><th></th><th scope=col>&lt;fct&gt;</th><th scope=col>&lt;fct&gt;</th><th scope=col>&lt;fct&gt;</th><th scope=col>&lt;fct&gt;</th><th scope=col>&lt;fct&gt;</th><th scope=col>&lt;fct&gt;</th><th scope=col>&lt;fct&gt;</th><th scope=col>&lt;dbl&gt;</th><th scope=col>&lt;dbl&gt;</th><th scope=col>&lt;dbl&gt;</th><th scope=col>⋯</th><th scope=col>&lt;dbl&gt;</th><th scope=col>&lt;dbl&gt;</th><th scope=col>&lt;dbl&gt;</th><th scope=col>&lt;dbl&gt;</th><th scope=col>&lt;dbl&gt;</th><th scope=col>&lt;dbl&gt;</th><th scope=col>&lt;dbl&gt;</th><th scope=col>&lt;dbl&gt;</th><th scope=col>&lt;dbl&gt;</th><th scope=col>&lt;dbl&gt;</th></tr>\n",
       "</thead>\n",
       "<tbody>\n",
       "\t<tr><th scope=row>1</th><td>(3) ASR Master File</td><td>(3) Detail record</td><td>(50) Alaska</td><td>AK00101  </td><td>1C</td><td>(9) Pacific</td><td>(0) Agency header present</td><td>2019</td><td>38</td><td>0</td><td>⋯</td><td>0</td><td>0</td><td>0</td><td>0</td><td>NA</td><td>NA</td><td>NA</td><td>NA</td><td>  0.0</td><td>     NaN</td></tr>\n",
       "\t<tr><th scope=row>2</th><td>(3) ASR Master File</td><td>(3) Detail record</td><td>(50) Alaska</td><td>AK00101  </td><td>1C</td><td>(9) Pacific</td><td>(0) Agency header present</td><td>2019</td><td>38</td><td>0</td><td>⋯</td><td>0</td><td>0</td><td>0</td><td>0</td><td>NA</td><td>NA</td><td>NA</td><td>NA</td><td>  0.0</td><td>0.000000</td></tr>\n",
       "\t<tr><th scope=row>3</th><td>(3) ASR Master File</td><td>(3) Detail record</td><td>(50) Alaska</td><td>AK00101  </td><td>1C</td><td>(9) Pacific</td><td>(0) Agency header present</td><td>2019</td><td>38</td><td>0</td><td>⋯</td><td>0</td><td>0</td><td>0</td><td>0</td><td>NA</td><td>NA</td><td>NA</td><td>NA</td><td>  0.0</td><td>0.000000</td></tr>\n",
       "\t<tr><th scope=row>4</th><td>(3) ASR Master File</td><td>(3) Detail record</td><td>(50) Alaska</td><td>AK00101  </td><td>1C</td><td>(9) Pacific</td><td>(0) Agency header present</td><td>2019</td><td>38</td><td>0</td><td>⋯</td><td>0</td><td>0</td><td>0</td><td>0</td><td>NA</td><td>NA</td><td>NA</td><td>NA</td><td>  0.0</td><td>0.000000</td></tr>\n",
       "\t<tr><th scope=row>5</th><td>(3) ASR Master File</td><td>(3) Detail record</td><td>(50) Alaska</td><td>AK00101  </td><td>1C</td><td>(9) Pacific</td><td>(0) Agency header present</td><td>2019</td><td>38</td><td>0</td><td>⋯</td><td>1</td><td>0</td><td>5</td><td>0</td><td>NA</td><td>NA</td><td>NA</td><td>NA</td><td>106.5</td><td>1.224138</td></tr>\n",
       "\t<tr><th scope=row>6</th><td>(3) ASR Master File</td><td>(3) Detail record</td><td>(50) Alaska</td><td>AK00101  </td><td>1C</td><td>(9) Pacific</td><td>(0) Agency header present</td><td>2019</td><td>38</td><td>0</td><td>⋯</td><td>0</td><td>0</td><td>2</td><td>0</td><td>NA</td><td>NA</td><td>NA</td><td>NA</td><td> 33.0</td><td>1.269231</td></tr>\n",
       "</tbody>\n",
       "</table>\n"
      ],
      "text/latex": [
       "A data.frame: 6 × 91\n",
       "\\begin{tabular}{r|lllllllllllllllllllll}\n",
       "  & ASR\\_ID & CONTENTS & STATE & ORI & GROUP & DIV & AGHEADER & YEAR & MSA & COUNTY & ⋯ & JW & JB & JI & JA & AH & AN & JH & JN & age\\_sum & age\\\\\n",
       "  & <fct> & <fct> & <fct> & <fct> & <fct> & <fct> & <fct> & <dbl> & <dbl> & <dbl> & ⋯ & <dbl> & <dbl> & <dbl> & <dbl> & <dbl> & <dbl> & <dbl> & <dbl> & <dbl> & <dbl>\\\\\n",
       "\\hline\n",
       "\t1 & (3) ASR Master File & (3) Detail record & (50) Alaska & AK00101   & 1C & (9) Pacific & (0) Agency header present & 2019 & 38 & 0 & ⋯ & 0 & 0 & 0 & 0 & NA & NA & NA & NA &   0.0 &      NaN\\\\\n",
       "\t2 & (3) ASR Master File & (3) Detail record & (50) Alaska & AK00101   & 1C & (9) Pacific & (0) Agency header present & 2019 & 38 & 0 & ⋯ & 0 & 0 & 0 & 0 & NA & NA & NA & NA &   0.0 & 0.000000\\\\\n",
       "\t3 & (3) ASR Master File & (3) Detail record & (50) Alaska & AK00101   & 1C & (9) Pacific & (0) Agency header present & 2019 & 38 & 0 & ⋯ & 0 & 0 & 0 & 0 & NA & NA & NA & NA &   0.0 & 0.000000\\\\\n",
       "\t4 & (3) ASR Master File & (3) Detail record & (50) Alaska & AK00101   & 1C & (9) Pacific & (0) Agency header present & 2019 & 38 & 0 & ⋯ & 0 & 0 & 0 & 0 & NA & NA & NA & NA &   0.0 & 0.000000\\\\\n",
       "\t5 & (3) ASR Master File & (3) Detail record & (50) Alaska & AK00101   & 1C & (9) Pacific & (0) Agency header present & 2019 & 38 & 0 & ⋯ & 1 & 0 & 5 & 0 & NA & NA & NA & NA & 106.5 & 1.224138\\\\\n",
       "\t6 & (3) ASR Master File & (3) Detail record & (50) Alaska & AK00101   & 1C & (9) Pacific & (0) Agency header present & 2019 & 38 & 0 & ⋯ & 0 & 0 & 2 & 0 & NA & NA & NA & NA &  33.0 & 1.269231\\\\\n",
       "\\end{tabular}\n"
      ],
      "text/markdown": [
       "\n",
       "A data.frame: 6 × 91\n",
       "\n",
       "| <!--/--> | ASR_ID &lt;fct&gt; | CONTENTS &lt;fct&gt; | STATE &lt;fct&gt; | ORI &lt;fct&gt; | GROUP &lt;fct&gt; | DIV &lt;fct&gt; | AGHEADER &lt;fct&gt; | YEAR &lt;dbl&gt; | MSA &lt;dbl&gt; | COUNTY &lt;dbl&gt; | ⋯ ⋯ | JW &lt;dbl&gt; | JB &lt;dbl&gt; | JI &lt;dbl&gt; | JA &lt;dbl&gt; | AH &lt;dbl&gt; | AN &lt;dbl&gt; | JH &lt;dbl&gt; | JN &lt;dbl&gt; | age_sum &lt;dbl&gt; | age &lt;dbl&gt; |\n",
       "|---|---|---|---|---|---|---|---|---|---|---|---|---|---|---|---|---|---|---|---|---|---|\n",
       "| 1 | (3) ASR Master File | (3) Detail record | (50) Alaska | AK00101   | 1C | (9) Pacific | (0) Agency header present | 2019 | 38 | 0 | ⋯ | 0 | 0 | 0 | 0 | NA | NA | NA | NA |   0.0 |      NaN |\n",
       "| 2 | (3) ASR Master File | (3) Detail record | (50) Alaska | AK00101   | 1C | (9) Pacific | (0) Agency header present | 2019 | 38 | 0 | ⋯ | 0 | 0 | 0 | 0 | NA | NA | NA | NA |   0.0 | 0.000000 |\n",
       "| 3 | (3) ASR Master File | (3) Detail record | (50) Alaska | AK00101   | 1C | (9) Pacific | (0) Agency header present | 2019 | 38 | 0 | ⋯ | 0 | 0 | 0 | 0 | NA | NA | NA | NA |   0.0 | 0.000000 |\n",
       "| 4 | (3) ASR Master File | (3) Detail record | (50) Alaska | AK00101   | 1C | (9) Pacific | (0) Agency header present | 2019 | 38 | 0 | ⋯ | 0 | 0 | 0 | 0 | NA | NA | NA | NA |   0.0 | 0.000000 |\n",
       "| 5 | (3) ASR Master File | (3) Detail record | (50) Alaska | AK00101   | 1C | (9) Pacific | (0) Agency header present | 2019 | 38 | 0 | ⋯ | 1 | 0 | 5 | 0 | NA | NA | NA | NA | 106.5 | 1.224138 |\n",
       "| 6 | (3) ASR Master File | (3) Detail record | (50) Alaska | AK00101   | 1C | (9) Pacific | (0) Agency header present | 2019 | 38 | 0 | ⋯ | 0 | 0 | 2 | 0 | NA | NA | NA | NA |  33.0 | 1.269231 |\n",
       "\n"
      ],
      "text/plain": [
       "  ASR_ID              CONTENTS          STATE       ORI       GROUP DIV        \n",
       "1 (3) ASR Master File (3) Detail record (50) Alaska AK00101   1C    (9) Pacific\n",
       "2 (3) ASR Master File (3) Detail record (50) Alaska AK00101   1C    (9) Pacific\n",
       "3 (3) ASR Master File (3) Detail record (50) Alaska AK00101   1C    (9) Pacific\n",
       "4 (3) ASR Master File (3) Detail record (50) Alaska AK00101   1C    (9) Pacific\n",
       "5 (3) ASR Master File (3) Detail record (50) Alaska AK00101   1C    (9) Pacific\n",
       "6 (3) ASR Master File (3) Detail record (50) Alaska AK00101   1C    (9) Pacific\n",
       "  AGHEADER                  YEAR MSA COUNTY ⋯ JW JB JI JA AH AN JH JN age_sum\n",
       "1 (0) Agency header present 2019 38  0      ⋯ 0  0  0  0  NA NA NA NA   0.0  \n",
       "2 (0) Agency header present 2019 38  0      ⋯ 0  0  0  0  NA NA NA NA   0.0  \n",
       "3 (0) Agency header present 2019 38  0      ⋯ 0  0  0  0  NA NA NA NA   0.0  \n",
       "4 (0) Agency header present 2019 38  0      ⋯ 0  0  0  0  NA NA NA NA   0.0  \n",
       "5 (0) Agency header present 2019 38  0      ⋯ 1  0  5  0  NA NA NA NA 106.5  \n",
       "6 (0) Agency header present 2019 38  0      ⋯ 0  0  2  0  NA NA NA NA  33.0  \n",
       "  age     \n",
       "1      NaN\n",
       "2 0.000000\n",
       "3 0.000000\n",
       "4 0.000000\n",
       "5 1.224138\n",
       "6 1.269231"
      ]
     },
     "metadata": {},
     "output_type": "display_data"
    }
   ],
   "source": [
    "head(da38779.0001)"
   ]
  },
  {
   "cell_type": "code",
   "execution_count": 209,
   "id": "1cea4c44",
   "metadata": {
    "scrolled": true
   },
   "outputs": [
    {
     "name": "stdout",
     "output_type": "stream",
     "text": [
      "               ASR_ID          CONTENTS       STATE       ORI GROUP         DIV\n",
      "5 (3) ASR Master File (3) Detail record (50) Alaska AK00101      1C (9) Pacific\n",
      "                   AGHEADER YEAR MSA COUNTY SEQNO              SUB CORE COVBY\n",
      "5 (0) Agency header present 2019  38      0     0 (0) Non-Suburban    Y    NA\n",
      "     POP                   AGENCY STNAME MONTH                 MOHEADER BREAK\n",
      "5 287731 ANCHORAGE                ALASKA     1 (0) Month header present     G\n",
      "  AREO         ZERO DTLASTUP DTPRUP1 DTPRUP2 JUVDISP JDHANDDP JDREFJC JDREFWA\n",
      "5    1 (0) Not used    70618   70218   62918       0        0       0       0\n",
      "  JDREFOPA JDREFCC OFFENSE OCCUR M0_9 M10_12 M13_14 M15 M16 M17 M18 M19 M20 M21\n",
      "5        0       0     04     58    0      1      1   2   1   0   2   1   0   2\n",
      "  M22 M23 M24 M25_29 M30_34 M35_39 M40_44 M45_49 M50_54 M55_59 M60_64 M65 F0_9\n",
      "5   3   2   1     13     10      9      7      2      4      4      0   0    0\n",
      "  F10_12 F13_14 F15 F16 F17 F18 F19 F20 F21 F22 F23 F24 F25_29 F30_34 F35_39\n",
      "5      0      1   0   0   0   0   0   1   0   3   1   0      3      3      2\n",
      "  F40_44 F45_49 F50_54 F55_59 F60_64 F65 AW AB AI AA JW JB JI JA AH AN JH JN\n",
      "5      3      2      1      1      0   1 28 13 36  4  1  0  5  0 NA NA NA NA\n",
      "  age_sum\n",
      "5   106.5\n"
     ]
    }
   ],
   "source": [
    "print(da38779.0001[5,])"
   ]
  },
  {
   "cell_type": "code",
   "execution_count": null,
   "id": "24e7afac",
   "metadata": {},
   "outputs": [],
   "source": []
  },
  {
   "cell_type": "code",
   "execution_count": 264,
   "id": "1fac1321",
   "metadata": {},
   "outputs": [],
   "source": [
    "da1 = da38779.0001[,c(3, 8, 12, 13, 18, 32, 34:77, 78, 79, 80, 81, 82, 83, 84, 85, 86, 87, 88, 89)]\n",
    "da2 = da38740.0001[,c(3, 8, 12, 13, 18, 32, 34:77, 78, 79, 80, 81, 82, 83, 84, 85, 86, 87, 88, 89)]\n",
    "da3 = da38743.0001[,c(3, 8, 12, 13, 18, 32, 34:77, 78, 79, 80, 81, 82, 83, 84, 85, 86, 87, 88, 89)]"
   ]
  },
  {
   "cell_type": "code",
   "execution_count": 265,
   "id": "d27780d3",
   "metadata": {},
   "outputs": [
    {
     "data": {
      "text/plain": [
       "               STATE             YEAR                    SUB        \n",
       " (04) California  :117232   Min.   :2019   (0) Non-Suburban:647266  \n",
       " (42) Texas       : 98576   1st Qu.:2019   (1) Suburban    :708759  \n",
       " (37) Pennsylvania: 85692   Median :2019                            \n",
       " (29) New Jersey  : 60935   Mean   :2019                            \n",
       " (31) New York    : 48869   3rd Qu.:2019                            \n",
       " (21) Michigan    : 47643   Max.   :2019                            \n",
       " (Other)          :897078                                           \n",
       " CORE            MONTH           OFFENSE            M0_9       \n",
       " N:1205685   Min.   : 1.000   26     :110445   Min.   : 0      \n",
       " Y: 150340   1st Qu.: 3.000   18     : 97363   1st Qu.: 0      \n",
       "             Median : 6.000   21     : 92035   Median : 0      \n",
       "             Mean   : 6.309   185    : 91698   Mean   : 0      \n",
       "             3rd Qu.: 9.000   08     : 88036   3rd Qu.: 0      \n",
       "             Max.   :12.000   (Other):871739   Max.   :10      \n",
       "             NA's   :4709     NA's   :  4709   NA's   :677892  \n",
       "     M10_12           M13_14            M15              M16        \n",
       " Min.   : 0       Min.   :  0.0    Min.   : 0.0     Min.   :  0.0   \n",
       " 1st Qu.: 0       1st Qu.:  0.0    1st Qu.: 0.0     1st Qu.:  0.0   \n",
       " Median : 0       Median :  0.0    Median : 0.0     Median :  0.0   \n",
       " Mean   : 0       Mean   :  0.1    Mean   : 0.1     Mean   :  0.2   \n",
       " 3rd Qu.: 0       3rd Qu.:  0.0    3rd Qu.: 0.0     3rd Qu.:  0.0   \n",
       " Max.   :54       Max.   :127.0    Max.   :91.0     Max.   :120.0   \n",
       " NA's   :666846   NA's   :644746   NA's   :646789   NA's   :639310  \n",
       "      M17              M18              M19              M20        \n",
       " Min.   :  0.0    Min.   :  0.0    Min.   :  0.0    Min.   :  0.0   \n",
       " 1st Qu.:  0.0    1st Qu.:  0.0    1st Qu.:  0.0    1st Qu.:  0.0   \n",
       " Median :  0.0    Median :  0.0    Median :  0.0    Median :  0.0   \n",
       " Mean   :  0.2    Mean   :  0.3    Mean   :  0.3    Mean   :  0.3   \n",
       " 3rd Qu.:  0.0    3rd Qu.:  0.0    3rd Qu.:  0.0    3rd Qu.:  0.0   \n",
       " Max.   :111.0    Max.   :315.0    Max.   :193.0    Max.   :104.0   \n",
       " NA's   :630752   NA's   :612299   NA's   :608316   NA's   :608717  \n",
       "      M21              M22              M23              M24        \n",
       " Min.   : 0.0     Min.   : 0.0     Min.   : 0.0     Min.   : 0.0    \n",
       " 1st Qu.: 0.0     1st Qu.: 0.0     1st Qu.: 0.0     1st Qu.: 0.0    \n",
       " Median : 0.0     Median : 0.0     Median : 0.0     Median : 0.0    \n",
       " Mean   : 0.3     Mean   : 0.3     Mean   : 0.3     Mean   : 0.3    \n",
       " 3rd Qu.: 0.0     3rd Qu.: 0.0     3rd Qu.: 0.0     3rd Qu.: 0.0    \n",
       " Max.   :65.0     Max.   :71.0     Max.   :78.0     Max.   :81.0    \n",
       " NA's   :608498   NA's   :609435   NA's   :609312   NA's   :608415  \n",
       "     M25_29           M30_34           M35_39           M40_44      \n",
       " Min.   :  0.0    Min.   :  0.0    Min.   :  0.0    Min.   :  0.0   \n",
       " 1st Qu.:  0.0    1st Qu.:  0.0    1st Qu.:  0.0    1st Qu.:  0.0   \n",
       " Median :  0.0    Median :  0.0    Median :  0.0    Median :  0.0   \n",
       " Mean   :  1.4    Mean   :  1.3    Mean   :  1.1    Mean   :  0.8   \n",
       " 3rd Qu.:  1.0    3rd Qu.:  1.0    3rd Qu.:  1.0    3rd Qu.:  1.0   \n",
       " Max.   :401.0    Max.   :421.0    Max.   :405.0    Max.   :330.0   \n",
       " NA's   :452757   NA's   :467590   NA's   :488001   NA's   :528133  \n",
       "     M45_49           M50_54           M55_59           M60_64      \n",
       " Min.   :  0.0    Min.   :  0.0    Min.   :  0.0    Min.   :  0.0   \n",
       " 1st Qu.:  0.0    1st Qu.:  0.0    1st Qu.:  0.0    1st Qu.:  0.0   \n",
       " Median :  0.0    Median :  0.0    Median :  0.0    Median :  0.0   \n",
       " Mean   :  0.6    Mean   :  0.5    Mean   :  0.4    Mean   :  0.2   \n",
       " 3rd Qu.:  1.0    3rd Qu.:  1.0    3rd Qu.:  0.0    3rd Qu.:  0.0   \n",
       " Max.   :249.0    Max.   :249.0    Max.   :197.0    Max.   :103.0   \n",
       " NA's   :556783   NA's   :577129   NA's   :595107   NA's   :628129  \n",
       "      M65              F0_9            F10_12           F13_14      \n",
       " Min.   :  0.0    Min.   :0        Min.   : 0       Min.   : 0.0    \n",
       " 1st Qu.:  0.0    1st Qu.:0        1st Qu.: 0       1st Qu.: 0.0    \n",
       " Median :  0.0    Median :0        Median : 0       Median : 0.0    \n",
       " Mean   :  0.1    Mean   :0        Mean   : 0       Mean   : 0.1    \n",
       " 3rd Qu.:  0.0    3rd Qu.:0        3rd Qu.: 0       3rd Qu.: 0.0    \n",
       " Max.   :277.0    Max.   :9        Max.   :45       Max.   :69.0    \n",
       " NA's   :642514   NA's   :678610   NA's   :672820   NA's   :660719  \n",
       "      F15              F16              F17              F18        \n",
       " Min.   : 0.0     Min.   : 0.0     Min.   : 0.0     Min.   :  0.0   \n",
       " 1st Qu.: 0.0     1st Qu.: 0.0     1st Qu.: 0.0     1st Qu.:  0.0   \n",
       " Median : 0.0     Median : 0.0     Median : 0.0     Median :  0.0   \n",
       " Mean   : 0.1     Mean   : 0.1     Mean   : 0.1     Mean   :  0.1   \n",
       " 3rd Qu.: 0.0     3rd Qu.: 0.0     3rd Qu.: 0.0     3rd Qu.:  0.0   \n",
       " Max.   :36.0     Max.   :36.0     Max.   :38.0     Max.   :177.0   \n",
       " NA's   :663179   NA's   :660975   NA's   :657505   NA's   :649788  \n",
       "      F19              F20              F21              F22        \n",
       " Min.   : 0.0     Min.   : 0.0     Min.   : 0.0     Min.   : 0.0    \n",
       " 1st Qu.: 0.0     1st Qu.: 0.0     1st Qu.: 0.0     1st Qu.: 0.0    \n",
       " Median : 0.0     Median : 0.0     Median : 0.0     Median : 0.0    \n",
       " Mean   : 0.1     Mean   : 0.1     Mean   : 0.1     Mean   : 0.1    \n",
       " 3rd Qu.: 0.0     3rd Qu.: 0.0     3rd Qu.: 0.0     3rd Qu.: 0.0    \n",
       " Max.   :68.0     Max.   :41.0     Max.   :26.0     Max.   :43.0    \n",
       " NA's   :646534   NA's   :646219   NA's   :646296   NA's   :647010  \n",
       "      F23              F24             F25_29           F30_34      \n",
       " Min.   : 0.0     Min.   : 0.0     Min.   :  0.0    Min.   :  0.0   \n",
       " 1st Qu.: 0.0     1st Qu.: 0.0     1st Qu.:  0.0    1st Qu.:  0.0   \n",
       " Median : 0.0     Median : 0.0     Median :  0.0    Median :  0.0   \n",
       " Mean   : 0.1     Mean   : 0.1     Mean   :  0.6    Mean   :  0.6   \n",
       " 3rd Qu.: 0.0     3rd Qu.: 0.0     3rd Qu.:  1.0    3rd Qu.:  1.0   \n",
       " Max.   :44.0     Max.   :49.0     Max.   :213.0    Max.   :194.0   \n",
       " NA's   :646528   NA's   :646376   NA's   :555503   NA's   :560989  \n",
       "     F35_39           F40_44           F45_49           F50_54      \n",
       " Min.   :  0.0    Min.   : 0.0     Min.   :  0.0    Min.   : 0.0    \n",
       " 1st Qu.:  0.0    1st Qu.: 0.0     1st Qu.:  0.0    1st Qu.: 0.0    \n",
       " Median :  0.0    Median : 0.0     Median :  0.0    Median : 0.0    \n",
       " Mean   :  0.5    Mean   : 0.3     Mean   :  0.2    Mean   : 0.2    \n",
       " 3rd Qu.:  1.0    3rd Qu.: 0.0     3rd Qu.:  0.0    3rd Qu.: 0.0    \n",
       " Max.   :153.0    Max.   :93.0     Max.   :410.0    Max.   :63.0    \n",
       " NA's   :574039   NA's   :601351   NA's   :618950   NA's   :633471  \n",
       "     F55_59           F60_64            F65               AW         \n",
       " Min.   : 0.0     Min.   : 0.0     Min.   : 0       Min.   :   0.00  \n",
       " 1st Qu.: 0.0     1st Qu.: 0.0     1st Qu.: 0       1st Qu.:   1.00  \n",
       " Median : 0.0     Median : 0.0     Median : 0       Median :   2.00  \n",
       " Mean   : 0.1     Mean   : 0.1     Mean   : 0       Mean   :   5.38  \n",
       " 3rd Qu.: 0.0     3rd Qu.: 0.0     3rd Qu.: 0       3rd Qu.:   4.00  \n",
       " Max.   :40.0     Max.   :26.0     Max.   :20       Max.   :2043.00  \n",
       " NA's   :646454   NA's   :662081   NA's   :667926   NA's   :118057   \n",
       "       AB               AI               AA               JW        \n",
       " Min.   :   0.0   Min.   :  0.0    Min.   :  0.0    Min.   :  0.0   \n",
       " 1st Qu.:   0.0   1st Qu.:  0.0    1st Qu.:  0.0    1st Qu.:  0.0   \n",
       " Median :   1.0   Median :  0.0    Median :  0.0    Median :  0.0   \n",
       " Mean   :   2.8   Mean   :  0.3    Mean   :  0.2    Mean   :  0.6   \n",
       " 3rd Qu.:   2.0   3rd Qu.:  0.0    3rd Qu.:  0.0    3rd Qu.:  1.0   \n",
       " Max.   :1321.0   Max.   :966.0    Max.   :118.0    Max.   :115.0   \n",
       " NA's   :433551   NA's   :648972   NA's   :653875   NA's   :577245  \n",
       "       JB               JI               JA               AH         \n",
       " Min.   :  0.0    Min.   : 0       Min.   : 0       Min.   :  1.0    \n",
       " 1st Qu.:  0.0    1st Qu.: 0       1st Qu.: 0       1st Qu.:  1.0    \n",
       " Median :  0.0    Median : 0       Median : 0       Median :  1.0    \n",
       " Mean   :  0.3    Mean   : 0       Mean   : 0       Mean   :  3.4    \n",
       " 3rd Qu.:  0.0    3rd Qu.: 0       3rd Qu.: 0       3rd Qu.:  3.0    \n",
       " Max.   :575.0    Max.   :24       Max.   :17       Max.   :440.0    \n",
       " NA's   :631331   NA's   :674648   NA's   :675812   NA's   :1221278  \n",
       "       AN               JH                JN         \n",
       " Min.   :   1.0   Min.   : 1        Min.   :  1.0    \n",
       " 1st Qu.:   1.0   1st Qu.: 1        1st Qu.:  1.0    \n",
       " Median :   2.0   Median : 1        Median :  1.0    \n",
       " Mean   :   6.5   Mean   : 2        Mean   :  2.5    \n",
       " 3rd Qu.:   5.0   3rd Qu.: 2        3rd Qu.:  2.0    \n",
       " Max.   :1551.0   Max.   :59        Max.   :192.0    \n",
       " NA's   :835993   NA's   :1325921   NA's   :1258741  "
      ]
     },
     "metadata": {},
     "output_type": "display_data"
    }
   ],
   "source": [
    "summary(da1)"
   ]
  },
  {
   "cell_type": "code",
   "execution_count": 266,
   "id": "9b9f9852",
   "metadata": {},
   "outputs": [],
   "source": [
    "subset_da1 <- subset(da1, OFFENSE == '04 ')\n",
    "subset_da2 <- subset(da2, OFFENSE == '04 ')\n",
    "subset_da3 <- subset(da3, OFFENSE == '04 ')\n"
   ]
  },
  {
   "cell_type": "code",
   "execution_count": 267,
   "id": "460c32c8",
   "metadata": {},
   "outputs": [
    {
     "data": {
      "text/html": [
       "<style>\n",
       ".list-inline {list-style: none; margin:0; padding: 0}\n",
       ".list-inline>li {display: inline-block}\n",
       ".list-inline>li:not(:last-child)::after {content: \"\\00b7\"; padding: 0 .5ex}\n",
       "</style>\n",
       "<ol class=list-inline><li>54496</li><li>62</li></ol>\n"
      ],
      "text/latex": [
       "\\begin{enumerate*}\n",
       "\\item 54496\n",
       "\\item 62\n",
       "\\end{enumerate*}\n"
      ],
      "text/markdown": [
       "1. 54496\n",
       "2. 62\n",
       "\n",
       "\n"
      ],
      "text/plain": [
       "[1] 54496    62"
      ]
     },
     "metadata": {},
     "output_type": "display_data"
    }
   ],
   "source": [
    "dim(subset_da1)"
   ]
  },
  {
   "cell_type": "code",
   "execution_count": 268,
   "id": "8ae4ace6",
   "metadata": {},
   "outputs": [
    {
     "data": {
      "text/html": [
       "<style>\n",
       ".list-inline {list-style: none; margin:0; padding: 0}\n",
       ".list-inline>li {display: inline-block}\n",
       ".list-inline>li:not(:last-child)::after {content: \"\\00b7\"; padding: 0 .5ex}\n",
       "</style>\n",
       "<ol class=list-inline><li>62064</li><li>62</li></ol>\n"
      ],
      "text/latex": [
       "\\begin{enumerate*}\n",
       "\\item 62064\n",
       "\\item 62\n",
       "\\end{enumerate*}\n"
      ],
      "text/markdown": [
       "1. 62064\n",
       "2. 62\n",
       "\n",
       "\n"
      ],
      "text/plain": [
       "[1] 62064    62"
      ]
     },
     "metadata": {},
     "output_type": "display_data"
    }
   ],
   "source": [
    "dim(subset_da2)"
   ]
  },
  {
   "cell_type": "code",
   "execution_count": 269,
   "id": "de68152f",
   "metadata": {},
   "outputs": [
    {
     "data": {
      "text/html": [
       "<style>\n",
       ".list-inline {list-style: none; margin:0; padding: 0}\n",
       ".list-inline>li {display: inline-block}\n",
       ".list-inline>li:not(:last-child)::after {content: \"\\00b7\"; padding: 0 .5ex}\n",
       "</style>\n",
       "<ol class=list-inline><li>57775</li><li>62</li></ol>\n"
      ],
      "text/latex": [
       "\\begin{enumerate*}\n",
       "\\item 57775\n",
       "\\item 62\n",
       "\\end{enumerate*}\n"
      ],
      "text/markdown": [
       "1. 57775\n",
       "2. 62\n",
       "\n",
       "\n"
      ],
      "text/plain": [
       "[1] 57775    62"
      ]
     },
     "metadata": {},
     "output_type": "display_data"
    }
   ],
   "source": [
    "dim(subset_da3)"
   ]
  },
  {
   "cell_type": "code",
   "execution_count": 270,
   "id": "58020a2d",
   "metadata": {},
   "outputs": [
    {
     "data": {
      "text/html": [
       "<style>\n",
       ".list-inline {list-style: none; margin:0; padding: 0}\n",
       ".list-inline>li {display: inline-block}\n",
       ".list-inline>li:not(:last-child)::after {content: \"\\00b7\"; padding: 0 .5ex}\n",
       "</style>\n",
       "<ol class=list-inline><li>174335</li><li>62</li></ol>\n"
      ],
      "text/latex": [
       "\\begin{enumerate*}\n",
       "\\item 174335\n",
       "\\item 62\n",
       "\\end{enumerate*}\n"
      ],
      "text/markdown": [
       "1. 174335\n",
       "2. 62\n",
       "\n",
       "\n"
      ],
      "text/plain": [
       "[1] 174335     62"
      ]
     },
     "metadata": {},
     "output_type": "display_data"
    }
   ],
   "source": [
    "combined_df <- bind_rows(subset_da1, subset_da2, subset_da3)\n",
    "dim(combined_df)"
   ]
  },
  {
   "cell_type": "code",
   "execution_count": 271,
   "id": "e3daf24d",
   "metadata": {},
   "outputs": [
    {
     "data": {
      "text/html": [
       "<table class=\"dataframe\">\n",
       "<caption>A data.frame: 10 × 62</caption>\n",
       "<thead>\n",
       "\t<tr><th></th><th scope=col>STATE</th><th scope=col>YEAR</th><th scope=col>SUB</th><th scope=col>CORE</th><th scope=col>MONTH</th><th scope=col>OFFENSE</th><th scope=col>M0_9</th><th scope=col>M10_12</th><th scope=col>M13_14</th><th scope=col>M15</th><th scope=col>⋯</th><th scope=col>AI</th><th scope=col>AA</th><th scope=col>JW</th><th scope=col>JB</th><th scope=col>JI</th><th scope=col>JA</th><th scope=col>AH</th><th scope=col>AN</th><th scope=col>JH</th><th scope=col>JN</th></tr>\n",
       "\t<tr><th></th><th scope=col>&lt;fct&gt;</th><th scope=col>&lt;dbl&gt;</th><th scope=col>&lt;fct&gt;</th><th scope=col>&lt;fct&gt;</th><th scope=col>&lt;dbl&gt;</th><th scope=col>&lt;fct&gt;</th><th scope=col>&lt;dbl&gt;</th><th scope=col>&lt;dbl&gt;</th><th scope=col>&lt;dbl&gt;</th><th scope=col>&lt;dbl&gt;</th><th scope=col>⋯</th><th scope=col>&lt;dbl&gt;</th><th scope=col>&lt;dbl&gt;</th><th scope=col>&lt;dbl&gt;</th><th scope=col>&lt;dbl&gt;</th><th scope=col>&lt;dbl&gt;</th><th scope=col>&lt;dbl&gt;</th><th scope=col>&lt;dbl&gt;</th><th scope=col>&lt;dbl&gt;</th><th scope=col>&lt;dbl&gt;</th><th scope=col>&lt;dbl&gt;</th></tr>\n",
       "</thead>\n",
       "<tbody>\n",
       "\t<tr><th scope=row>1</th><td>(50) Alaska</td><td>2019</td><td>(0) Non-Suburban</td><td>Y</td><td> 1</td><td>04 </td><td>0</td><td>1</td><td>1</td><td>2</td><td>⋯</td><td>36</td><td> 4</td><td>1</td><td>0</td><td>5</td><td>0</td><td>NA</td><td>NA</td><td>NA</td><td>NA</td></tr>\n",
       "\t<tr><th scope=row>2</th><td>(50) Alaska</td><td>2019</td><td>(0) Non-Suburban</td><td>Y</td><td> 2</td><td>04 </td><td>1</td><td>1</td><td>1</td><td>0</td><td>⋯</td><td>28</td><td> 3</td><td>3</td><td>1</td><td>1</td><td>0</td><td>NA</td><td>NA</td><td>NA</td><td>NA</td></tr>\n",
       "\t<tr><th scope=row>3</th><td>(50) Alaska</td><td>2019</td><td>(0) Non-Suburban</td><td>Y</td><td> 3</td><td>04 </td><td>0</td><td>1</td><td>1</td><td>2</td><td>⋯</td><td>35</td><td> 8</td><td>4</td><td>1</td><td>1</td><td>0</td><td>NA</td><td>NA</td><td>NA</td><td>NA</td></tr>\n",
       "\t<tr><th scope=row>4</th><td>(50) Alaska</td><td>2019</td><td>(0) Non-Suburban</td><td>Y</td><td> 4</td><td>04 </td><td>0</td><td>0</td><td>1</td><td>3</td><td>⋯</td><td>39</td><td> 5</td><td>7</td><td>1</td><td>1</td><td>2</td><td>NA</td><td>NA</td><td>NA</td><td>NA</td></tr>\n",
       "\t<tr><th scope=row>5</th><td>(50) Alaska</td><td>2019</td><td>(0) Non-Suburban</td><td>Y</td><td> 5</td><td>04 </td><td>0</td><td>1</td><td>2</td><td>1</td><td>⋯</td><td>45</td><td> 9</td><td>4</td><td>0</td><td>2</td><td>0</td><td>NA</td><td>NA</td><td>NA</td><td>NA</td></tr>\n",
       "\t<tr><th scope=row>6</th><td>(50) Alaska</td><td>2019</td><td>(0) Non-Suburban</td><td>Y</td><td> 6</td><td>04 </td><td>0</td><td>0</td><td>1</td><td>0</td><td>⋯</td><td>42</td><td>13</td><td>2</td><td>0</td><td>2</td><td>0</td><td>NA</td><td>NA</td><td>NA</td><td>NA</td></tr>\n",
       "\t<tr><th scope=row>7</th><td>(50) Alaska</td><td>2019</td><td>(0) Non-Suburban</td><td>Y</td><td> 7</td><td>04 </td><td>0</td><td>1</td><td>0</td><td>0</td><td>⋯</td><td>33</td><td> 8</td><td>0</td><td>0</td><td>2</td><td>3</td><td>NA</td><td>NA</td><td>NA</td><td>NA</td></tr>\n",
       "\t<tr><th scope=row>8</th><td>(50) Alaska</td><td>2019</td><td>(0) Non-Suburban</td><td>Y</td><td> 8</td><td>04 </td><td>0</td><td>0</td><td>2</td><td>0</td><td>⋯</td><td>31</td><td> 6</td><td>0</td><td>3</td><td>3</td><td>0</td><td>NA</td><td>NA</td><td>NA</td><td>NA</td></tr>\n",
       "\t<tr><th scope=row>9</th><td>(50) Alaska</td><td>2019</td><td>(0) Non-Suburban</td><td>Y</td><td> 9</td><td>04 </td><td>0</td><td>0</td><td>0</td><td>0</td><td>⋯</td><td>36</td><td>12</td><td>1</td><td>0</td><td>1</td><td>0</td><td>NA</td><td>NA</td><td>NA</td><td>NA</td></tr>\n",
       "\t<tr><th scope=row>10</th><td>(50) Alaska</td><td>2019</td><td>(0) Non-Suburban</td><td>Y</td><td>10</td><td>04 </td><td>0</td><td>2</td><td>1</td><td>1</td><td>⋯</td><td>35</td><td> 5</td><td>2</td><td>1</td><td>2</td><td>1</td><td>NA</td><td>NA</td><td>NA</td><td>NA</td></tr>\n",
       "</tbody>\n",
       "</table>\n"
      ],
      "text/latex": [
       "A data.frame: 10 × 62\n",
       "\\begin{tabular}{r|lllllllllllllllllllll}\n",
       "  & STATE & YEAR & SUB & CORE & MONTH & OFFENSE & M0\\_9 & M10\\_12 & M13\\_14 & M15 & ⋯ & AI & AA & JW & JB & JI & JA & AH & AN & JH & JN\\\\\n",
       "  & <fct> & <dbl> & <fct> & <fct> & <dbl> & <fct> & <dbl> & <dbl> & <dbl> & <dbl> & ⋯ & <dbl> & <dbl> & <dbl> & <dbl> & <dbl> & <dbl> & <dbl> & <dbl> & <dbl> & <dbl>\\\\\n",
       "\\hline\n",
       "\t1 & (50) Alaska & 2019 & (0) Non-Suburban & Y &  1 & 04  & 0 & 1 & 1 & 2 & ⋯ & 36 &  4 & 1 & 0 & 5 & 0 & NA & NA & NA & NA\\\\\n",
       "\t2 & (50) Alaska & 2019 & (0) Non-Suburban & Y &  2 & 04  & 1 & 1 & 1 & 0 & ⋯ & 28 &  3 & 3 & 1 & 1 & 0 & NA & NA & NA & NA\\\\\n",
       "\t3 & (50) Alaska & 2019 & (0) Non-Suburban & Y &  3 & 04  & 0 & 1 & 1 & 2 & ⋯ & 35 &  8 & 4 & 1 & 1 & 0 & NA & NA & NA & NA\\\\\n",
       "\t4 & (50) Alaska & 2019 & (0) Non-Suburban & Y &  4 & 04  & 0 & 0 & 1 & 3 & ⋯ & 39 &  5 & 7 & 1 & 1 & 2 & NA & NA & NA & NA\\\\\n",
       "\t5 & (50) Alaska & 2019 & (0) Non-Suburban & Y &  5 & 04  & 0 & 1 & 2 & 1 & ⋯ & 45 &  9 & 4 & 0 & 2 & 0 & NA & NA & NA & NA\\\\\n",
       "\t6 & (50) Alaska & 2019 & (0) Non-Suburban & Y &  6 & 04  & 0 & 0 & 1 & 0 & ⋯ & 42 & 13 & 2 & 0 & 2 & 0 & NA & NA & NA & NA\\\\\n",
       "\t7 & (50) Alaska & 2019 & (0) Non-Suburban & Y &  7 & 04  & 0 & 1 & 0 & 0 & ⋯ & 33 &  8 & 0 & 0 & 2 & 3 & NA & NA & NA & NA\\\\\n",
       "\t8 & (50) Alaska & 2019 & (0) Non-Suburban & Y &  8 & 04  & 0 & 0 & 2 & 0 & ⋯ & 31 &  6 & 0 & 3 & 3 & 0 & NA & NA & NA & NA\\\\\n",
       "\t9 & (50) Alaska & 2019 & (0) Non-Suburban & Y &  9 & 04  & 0 & 0 & 0 & 0 & ⋯ & 36 & 12 & 1 & 0 & 1 & 0 & NA & NA & NA & NA\\\\\n",
       "\t10 & (50) Alaska & 2019 & (0) Non-Suburban & Y & 10 & 04  & 0 & 2 & 1 & 1 & ⋯ & 35 &  5 & 2 & 1 & 2 & 1 & NA & NA & NA & NA\\\\\n",
       "\\end{tabular}\n"
      ],
      "text/markdown": [
       "\n",
       "A data.frame: 10 × 62\n",
       "\n",
       "| <!--/--> | STATE &lt;fct&gt; | YEAR &lt;dbl&gt; | SUB &lt;fct&gt; | CORE &lt;fct&gt; | MONTH &lt;dbl&gt; | OFFENSE &lt;fct&gt; | M0_9 &lt;dbl&gt; | M10_12 &lt;dbl&gt; | M13_14 &lt;dbl&gt; | M15 &lt;dbl&gt; | ⋯ ⋯ | AI &lt;dbl&gt; | AA &lt;dbl&gt; | JW &lt;dbl&gt; | JB &lt;dbl&gt; | JI &lt;dbl&gt; | JA &lt;dbl&gt; | AH &lt;dbl&gt; | AN &lt;dbl&gt; | JH &lt;dbl&gt; | JN &lt;dbl&gt; |\n",
       "|---|---|---|---|---|---|---|---|---|---|---|---|---|---|---|---|---|---|---|---|---|---|\n",
       "| 1 | (50) Alaska | 2019 | (0) Non-Suburban | Y |  1 | 04  | 0 | 1 | 1 | 2 | ⋯ | 36 |  4 | 1 | 0 | 5 | 0 | NA | NA | NA | NA |\n",
       "| 2 | (50) Alaska | 2019 | (0) Non-Suburban | Y |  2 | 04  | 1 | 1 | 1 | 0 | ⋯ | 28 |  3 | 3 | 1 | 1 | 0 | NA | NA | NA | NA |\n",
       "| 3 | (50) Alaska | 2019 | (0) Non-Suburban | Y |  3 | 04  | 0 | 1 | 1 | 2 | ⋯ | 35 |  8 | 4 | 1 | 1 | 0 | NA | NA | NA | NA |\n",
       "| 4 | (50) Alaska | 2019 | (0) Non-Suburban | Y |  4 | 04  | 0 | 0 | 1 | 3 | ⋯ | 39 |  5 | 7 | 1 | 1 | 2 | NA | NA | NA | NA |\n",
       "| 5 | (50) Alaska | 2019 | (0) Non-Suburban | Y |  5 | 04  | 0 | 1 | 2 | 1 | ⋯ | 45 |  9 | 4 | 0 | 2 | 0 | NA | NA | NA | NA |\n",
       "| 6 | (50) Alaska | 2019 | (0) Non-Suburban | Y |  6 | 04  | 0 | 0 | 1 | 0 | ⋯ | 42 | 13 | 2 | 0 | 2 | 0 | NA | NA | NA | NA |\n",
       "| 7 | (50) Alaska | 2019 | (0) Non-Suburban | Y |  7 | 04  | 0 | 1 | 0 | 0 | ⋯ | 33 |  8 | 0 | 0 | 2 | 3 | NA | NA | NA | NA |\n",
       "| 8 | (50) Alaska | 2019 | (0) Non-Suburban | Y |  8 | 04  | 0 | 0 | 2 | 0 | ⋯ | 31 |  6 | 0 | 3 | 3 | 0 | NA | NA | NA | NA |\n",
       "| 9 | (50) Alaska | 2019 | (0) Non-Suburban | Y |  9 | 04  | 0 | 0 | 0 | 0 | ⋯ | 36 | 12 | 1 | 0 | 1 | 0 | NA | NA | NA | NA |\n",
       "| 10 | (50) Alaska | 2019 | (0) Non-Suburban | Y | 10 | 04  | 0 | 2 | 1 | 1 | ⋯ | 35 |  5 | 2 | 1 | 2 | 1 | NA | NA | NA | NA |\n",
       "\n"
      ],
      "text/plain": [
       "   STATE       YEAR SUB              CORE MONTH OFFENSE M0_9 M10_12 M13_14 M15\n",
       "1  (50) Alaska 2019 (0) Non-Suburban Y     1    04      0    1      1      2  \n",
       "2  (50) Alaska 2019 (0) Non-Suburban Y     2    04      1    1      1      0  \n",
       "3  (50) Alaska 2019 (0) Non-Suburban Y     3    04      0    1      1      2  \n",
       "4  (50) Alaska 2019 (0) Non-Suburban Y     4    04      0    0      1      3  \n",
       "5  (50) Alaska 2019 (0) Non-Suburban Y     5    04      0    1      2      1  \n",
       "6  (50) Alaska 2019 (0) Non-Suburban Y     6    04      0    0      1      0  \n",
       "7  (50) Alaska 2019 (0) Non-Suburban Y     7    04      0    1      0      0  \n",
       "8  (50) Alaska 2019 (0) Non-Suburban Y     8    04      0    0      2      0  \n",
       "9  (50) Alaska 2019 (0) Non-Suburban Y     9    04      0    0      0      0  \n",
       "10 (50) Alaska 2019 (0) Non-Suburban Y    10    04      0    2      1      1  \n",
       "   ⋯ AI AA JW JB JI JA AH AN JH JN\n",
       "1  ⋯ 36  4 1  0  5  0  NA NA NA NA\n",
       "2  ⋯ 28  3 3  1  1  0  NA NA NA NA\n",
       "3  ⋯ 35  8 4  1  1  0  NA NA NA NA\n",
       "4  ⋯ 39  5 7  1  1  2  NA NA NA NA\n",
       "5  ⋯ 45  9 4  0  2  0  NA NA NA NA\n",
       "6  ⋯ 42 13 2  0  2  0  NA NA NA NA\n",
       "7  ⋯ 33  8 0  0  2  3  NA NA NA NA\n",
       "8  ⋯ 31  6 0  3  3  0  NA NA NA NA\n",
       "9  ⋯ 36 12 1  0  1  0  NA NA NA NA\n",
       "10 ⋯ 35  5 2  1  2  1  NA NA NA NA"
      ]
     },
     "metadata": {},
     "output_type": "display_data"
    }
   ],
   "source": [
    "head(combined_df, 10)"
   ]
  },
  {
   "cell_type": "code",
   "execution_count": 272,
   "id": "e1020584",
   "metadata": {},
   "outputs": [],
   "source": [
    "columns_to_replace_na <- c(7:62)\n",
    "\n",
    "combined_df[, columns_to_replace_na] <- lapply(combined_df[, columns_to_replace_na], function(x) replace(x, is.na(x), 0))\n",
    "                                               \n",
    "                                               "
   ]
  },
  {
   "cell_type": "code",
   "execution_count": 273,
   "id": "2d1aad9d",
   "metadata": {
    "scrolled": true
   },
   "outputs": [
    {
     "data": {
      "text/plain": [
       "               STATE             YEAR                    SUB        CORE      \n",
       " (04) California  : 18000   Min.   :2017   (0) Non-Suburban:84991   N:155452  \n",
       " (42) Texas       : 16672   1st Qu.:2017   (1) Suburban    :89344   Y: 18883  \n",
       " (37) Pennsylvania: 10705   Median :2018                                      \n",
       " (21) Michigan    :  7206   Mean   :2018                                      \n",
       " (41) Tennessee   :  6517   3rd Qu.:2019                                      \n",
       " (29) New Jersey  :  6233   Max.   :2019                                      \n",
       " (Other)          :109002                                                     \n",
       "     MONTH           OFFENSE            M0_9              M10_12        \n",
       " Min.   : 1.000   04     :174335   Min.   :0.000000   Min.   : 0.00000  \n",
       " 1st Qu.: 4.000   00     :     0   1st Qu.:0.000000   1st Qu.: 0.00000  \n",
       " Median : 6.000   01A    :     0   Median :0.000000   Median : 0.00000  \n",
       " Mean   : 6.455   01B    :     0   Mean   :0.002604   Mean   : 0.02741  \n",
       " 3rd Qu.: 9.000   02     :     0   3rd Qu.:0.000000   3rd Qu.: 0.00000  \n",
       " Max.   :12.000   03     :     0   Max.   :3.000000   Max.   :22.00000  \n",
       "                  (Other):     0                                        \n",
       "     M13_14              M15                M16                M17         \n",
       " Min.   : 0.00000   Min.   : 0.00000   Min.   : 0.00000   Min.   : 0.0000  \n",
       " 1st Qu.: 0.00000   1st Qu.: 0.00000   1st Qu.: 0.00000   1st Qu.: 0.0000  \n",
       " Median : 0.00000   Median : 0.00000   Median : 0.00000   Median : 0.0000  \n",
       " Mean   : 0.06682   Mean   : 0.05265   Mean   : 0.06494   Mean   : 0.0772  \n",
       " 3rd Qu.: 0.00000   3rd Qu.: 0.00000   3rd Qu.: 0.00000   3rd Qu.: 0.0000  \n",
       " Max.   :31.00000   Max.   :32.00000   Max.   :44.00000   Max.   :45.0000  \n",
       "                                                                           \n",
       "      M18                M19               M20               M21         \n",
       " Min.   : 0.00000   Min.   : 0.0000   Min.   : 0.0000   Min.   : 0.0000  \n",
       " 1st Qu.: 0.00000   1st Qu.: 0.0000   1st Qu.: 0.0000   1st Qu.: 0.0000  \n",
       " Median : 0.00000   Median : 0.0000   Median : 0.0000   Median : 0.0000  \n",
       " Mean   : 0.09541   Mean   : 0.1039   Mean   : 0.1116   Mean   : 0.1259  \n",
       " 3rd Qu.: 0.00000   3rd Qu.: 0.0000   3rd Qu.: 0.0000   3rd Qu.: 0.0000  \n",
       " Max.   :45.00000   Max.   :29.0000   Max.   :32.0000   Max.   :34.0000  \n",
       "                                                                         \n",
       "      M22               M23               M24               M25_29        \n",
       " Min.   : 0.0000   Min.   : 0.0000   Min.   :  0.0000   Min.   :  0.0000  \n",
       " 1st Qu.: 0.0000   1st Qu.: 0.0000   1st Qu.:  0.0000   1st Qu.:  0.0000  \n",
       " Median : 0.0000   Median : 0.0000   Median :  0.0000   Median :  0.0000  \n",
       " Mean   : 0.1302   Mean   : 0.1365   Mean   :  0.1459   Mean   :  0.7491  \n",
       " 3rd Qu.: 0.0000   3rd Qu.: 0.0000   3rd Qu.:  0.0000   3rd Qu.:  1.0000  \n",
       " Max.   :40.0000   Max.   :37.0000   Max.   :389.0000   Max.   :210.0000  \n",
       "                                                                          \n",
       "     M30_34             M35_39             M40_44           M45_49       \n",
       " Min.   :  0.0000   Min.   :  0.0000   Min.   : 0.000   Min.   : 0.0000  \n",
       " 1st Qu.:  0.0000   1st Qu.:  0.0000   1st Qu.: 0.000   1st Qu.: 0.0000  \n",
       " Median :  0.0000   Median :  0.0000   Median : 0.000   Median : 0.0000  \n",
       " Mean   :  0.6403   Mean   :  0.5256   Mean   : 0.356   Mean   : 0.2844  \n",
       " 3rd Qu.:  1.0000   3rd Qu.:  1.0000   3rd Qu.: 0.000   3rd Qu.: 0.0000  \n",
       " Max.   :159.0000   Max.   :125.0000   Max.   :83.000   Max.   :75.0000  \n",
       "                                                                         \n",
       "     M50_54            M55_59            M60_64              M65          \n",
       " Min.   : 0.0000   Min.   : 0.0000   Min.   : 0.00000   Min.   : 0.00000  \n",
       " 1st Qu.: 0.0000   1st Qu.: 0.0000   1st Qu.: 0.00000   1st Qu.: 0.00000  \n",
       " Median : 0.0000   Median : 0.0000   Median : 0.00000   Median : 0.00000  \n",
       " Mean   : 0.2316   Mean   : 0.1743   Mean   : 0.09321   Mean   : 0.07257  \n",
       " 3rd Qu.: 0.0000   3rd Qu.: 0.0000   3rd Qu.: 0.00000   3rd Qu.: 0.00000  \n",
       " Max.   :71.0000   Max.   :65.0000   Max.   :40.00000   Max.   :27.00000  \n",
       "                                                                          \n",
       "      F0_9               F10_12              F13_14              F15         \n",
       " Min.   :0.0000000   Min.   : 0.000000   Min.   : 0.00000   Min.   :0.00000  \n",
       " 1st Qu.:0.0000000   1st Qu.: 0.000000   1st Qu.: 0.00000   1st Qu.:0.00000  \n",
       " Median :0.0000000   Median : 0.000000   Median : 0.00000   Median :0.00000  \n",
       " Mean   :0.0004417   Mean   : 0.009459   Mean   : 0.02946   Mean   :0.02052  \n",
       " 3rd Qu.:0.0000000   3rd Qu.: 0.000000   3rd Qu.: 0.00000   3rd Qu.:0.00000  \n",
       " Max.   :3.0000000   Max.   :13.000000   Max.   :22.00000   Max.   :9.00000  \n",
       "                                                                             \n",
       "      F16               F17               F18                F19          \n",
       " Min.   : 0.0000   Min.   :0.00000   Min.   : 0.00000   Min.   : 0.00000  \n",
       " 1st Qu.: 0.0000   1st Qu.:0.00000   1st Qu.: 0.00000   1st Qu.: 0.00000  \n",
       " Median : 0.0000   Median :0.00000   Median : 0.00000   Median : 0.00000  \n",
       " Mean   : 0.0234   Mean   :0.02406   Mean   : 0.02843   Mean   : 0.03263  \n",
       " 3rd Qu.: 0.0000   3rd Qu.:0.00000   3rd Qu.: 0.00000   3rd Qu.: 0.00000  \n",
       " Max.   :10.0000   Max.   :8.00000   Max.   :12.00000   Max.   :10.00000  \n",
       "                                                                          \n",
       "      F20                F21                F22                F23          \n",
       " Min.   : 0.00000   Min.   : 0.00000   Min.   : 0.00000   Min.   : 0.00000  \n",
       " 1st Qu.: 0.00000   1st Qu.: 0.00000   1st Qu.: 0.00000   1st Qu.: 0.00000  \n",
       " Median : 0.00000   Median : 0.00000   Median : 0.00000   Median : 0.00000  \n",
       " Mean   : 0.03722   Mean   : 0.04175   Mean   : 0.04197   Mean   : 0.04466  \n",
       " 3rd Qu.: 0.00000   3rd Qu.: 0.00000   3rd Qu.: 0.00000   3rd Qu.: 0.00000  \n",
       " Max.   :12.00000   Max.   :14.00000   Max.   :17.00000   Max.   :12.00000  \n",
       "                                                                            \n",
       "      F24                F25_29            F30_34            F35_39       \n",
       " Min.   :  0.00000   Min.   : 0.0000   Min.   : 0.0000   Min.   : 0.0000  \n",
       " 1st Qu.:  0.00000   1st Qu.: 0.0000   1st Qu.: 0.0000   1st Qu.: 0.0000  \n",
       " Median :  0.00000   Median : 0.0000   Median : 0.0000   Median : 0.0000  \n",
       " Mean   :  0.04656   Mean   : 0.2384   Mean   : 0.1981   Mean   : 0.1569  \n",
       " 3rd Qu.:  0.00000   3rd Qu.: 0.0000   3rd Qu.: 0.0000   3rd Qu.: 0.0000  \n",
       " Max.   :106.00000   Max.   :48.0000   Max.   :42.0000   Max.   :34.0000  \n",
       "                                                                          \n",
       "     F40_44            F45_49             F50_54             F55_59        \n",
       " Min.   : 0.0000   Min.   : 0.00000   Min.   : 0.00000   Min.   : 0.00000  \n",
       " 1st Qu.: 0.0000   1st Qu.: 0.00000   1st Qu.: 0.00000   1st Qu.: 0.00000  \n",
       " Median : 0.0000   Median : 0.00000   Median : 0.00000   Median : 0.00000  \n",
       " Mean   : 0.1053   Mean   : 0.08193   Mean   : 0.06631   Mean   : 0.04384  \n",
       " 3rd Qu.: 0.0000   3rd Qu.: 0.00000   3rd Qu.: 0.00000   3rd Qu.: 0.00000  \n",
       " Max.   :20.0000   Max.   :19.00000   Max.   :17.00000   Max.   :14.00000  \n",
       "                                                                           \n",
       "     F60_64              F65                AW               AB         \n",
       " Min.   : 0.00000   Min.   :0.00000   Min.   :  0.00   Min.   :   0.00  \n",
       " 1st Qu.: 0.00000   1st Qu.:0.00000   1st Qu.:  1.00   1st Qu.:   0.00  \n",
       " Median : 0.00000   Median :0.00000   Median :  1.00   Median :   0.00  \n",
       " Mean   : 0.02037   Mean   :0.01438   Mean   :  3.18   Mean   :   1.71  \n",
       " 3rd Qu.: 0.00000   3rd Qu.:0.00000   3rd Qu.:  3.00   3rd Qu.:   1.00  \n",
       " Max.   :10.00000   Max.   :8.00000   Max.   :581.00   Max.   :1366.00  \n",
       "                                                                        \n",
       "       AI                AA                 JW                JB          \n",
       " Min.   :  0.000   Min.   : 0.00000   Min.   : 0.0000   Min.   :  0.0000  \n",
       " 1st Qu.:  0.000   1st Qu.: 0.00000   1st Qu.: 0.0000   1st Qu.:  0.0000  \n",
       " Median :  0.000   Median : 0.00000   Median : 0.0000   Median :  0.0000  \n",
       " Mean   :  0.135   Mean   : 0.08497   Mean   : 0.2151   Mean   :  0.1646  \n",
       " 3rd Qu.:  0.000   3rd Qu.: 0.00000   3rd Qu.: 0.0000   3rd Qu.:  0.0000  \n",
       " Max.   :143.000   Max.   :31.00000   Max.   :57.0000   Max.   :116.0000  \n",
       "                                                                          \n",
       "       JI                  JA                 AH                 AN         \n",
       " Min.   : 0.000000   Min.   :0.000000   Min.   :  0.0000   Min.   :  0.000  \n",
       " 1st Qu.: 0.000000   1st Qu.:0.000000   1st Qu.:  0.0000   1st Qu.:  0.000  \n",
       " Median : 0.000000   Median :0.000000   Median :  0.0000   Median :  0.000  \n",
       " Mean   : 0.008954   Mean   :0.004342   Mean   :  0.1962   Mean   :  1.211  \n",
       " 3rd Qu.: 0.000000   3rd Qu.:0.000000   3rd Qu.:  0.0000   3rd Qu.:  1.000  \n",
       " Max.   :10.000000   Max.   :5.000000   Max.   :252.0000   Max.   :469.000  \n",
       "                                                                            \n",
       "       JH                 JN          \n",
       " Min.   : 0.00000   Min.   : 0.00000  \n",
       " 1st Qu.: 0.00000   1st Qu.: 0.00000  \n",
       " Median : 0.00000   Median : 0.00000  \n",
       " Mean   : 0.02087   Mean   : 0.09504  \n",
       " 3rd Qu.: 0.00000   3rd Qu.: 0.00000  \n",
       " Max.   :22.00000   Max.   :32.00000  \n",
       "                                      "
      ]
     },
     "metadata": {},
     "output_type": "display_data"
    }
   ],
   "source": [
    "summary(combined_df)"
   ]
  },
  {
   "cell_type": "code",
   "execution_count": 274,
   "id": "a4e00808",
   "metadata": {},
   "outputs": [
    {
     "data": {
      "text/html": [
       "0"
      ],
      "text/latex": [
       "0"
      ],
      "text/markdown": [
       "0"
      ],
      "text/plain": [
       "[1] 0"
      ]
     },
     "metadata": {},
     "output_type": "display_data"
    }
   ],
   "source": [
    "total_na_count <- sum(is.na(combined_df))\n",
    "total_na_count"
   ]
  },
  {
   "cell_type": "code",
   "execution_count": 293,
   "id": "1b3d5dc5",
   "metadata": {},
   "outputs": [],
   "source": [
    "# combined_df$juve_age_sum <- combined_df[,7]*4.5 + combined_df[,8]*11 + combined_df[,9]*13.5 + \n",
    "#                     combined_df[,10]*15 + combined_df[,11]*16 + combined_df[,12]*17 + combined_df[,13]*18 \n",
    "#                     + combined_df[,29]*4.5 + combined_df[,30]*11 + combined_df[,31]*13.5 +\n",
    "#                     combined_df[,32]*15 + combined_df[,33]*16 + combined_df[,34]*17 + combined_df[,35]*18\n",
    "\n",
    "\n",
    "# combined_df$adult_age_sum <- combined_df[,14]*19 + combined_df[,15]*20 + combined_df[,16]*21 + combined_df[,17]*22\n",
    "#                     + combined_df[,18]*23 + combined_df[,19]*24 + combined_df[,20]*27 + combined_df[,21]*32\n",
    "#                     + combined_df[,22]*37 + combined_df[,23]*42 + combined_df[,24]*47\n",
    "#                     + combined_df[,25]*52 + combined_df[,26]*57 + combined_df[,27]*62\n",
    "#                     + combined_df[,28]*65 + combined_df[,36]*19 + combined_df[,37]*20 + combined_df[,38]*21\n",
    "#                     + combined_df[,39]*22 + combined_df[,40]*23 + combined_df[,41]*24 + combined_df[,42]*27 \n",
    "#                     + combined_df[,43]*32 + combined_df[,44]*37 + combined_df[,45]*42 \n",
    "#                     + combined_df[,46]*47 + combined_df[,47]*52 + combined_df[,48]*57\n",
    "#                     + combined_df[,49]*62 + combined_df[,50]*65\n",
    "# head(combined_df)\n",
    "\n",
    "\n",
    "weights <- c(4.5, 11, 13.5, 15, 16, 17, 18, 19, 20, 21, 22, 23, 24, 27, 32, 37, 42, 47, 52, 57, 62, 65, \n",
    "             4.5, 11, 13.5, 15, 16, 17, 18, 19, 20, 21, 22, 23, 24, 27, 32, 37, 42, 47, 52, 57, 62, 65)\n",
    "\n",
    "weights1 <- c(4.5, 11, 13.5, 15, 16, 17, 18, 4.5, 11, 13.5, 15, 16, 17, 18)\n",
    "\n",
    "weights2 <- c(19, 20, 21, 22, 23, 24, 27, 32, 37, 42, 47, 52, 57, 62, 65,\n",
    "             19, 20, 21, 22, 23, 24, 27, 32, 37, 42, 47, 52, 57, 62, 65)\n",
    "\n",
    "\n",
    "columns_to_sum <- c(7:50)\n",
    "combined_df$Age_total <- rowSums(combined_df[, columns_to_sum] * weights[1:length(weights)])\n",
    "\n",
    "juve_cols <- c(7:13, 29:35)\n",
    "combined_df$Age_juve <- rowSums(combined_df[, juve_cols] * weights1[1:length(weights1)])\n",
    "\n",
    "adult_cols <- c(14:28, 36:50)\n",
    "combined_df$Age_adult <- rowSums(combined_df[, adult_cols] * weights2[1:length(weights2)])"
   ]
  },
  {
   "cell_type": "code",
   "execution_count": 294,
   "id": "862803b7",
   "metadata": {},
   "outputs": [
    {
     "data": {
      "text/html": [
       "14"
      ],
      "text/latex": [
       "14"
      ],
      "text/markdown": [
       "14"
      ],
      "text/plain": [
       "[1] 14"
      ]
     },
     "metadata": {},
     "output_type": "display_data"
    }
   ],
   "source": [
    "length(weights1)"
   ]
  },
  {
   "cell_type": "code",
   "execution_count": 295,
   "id": "79304f9e",
   "metadata": {},
   "outputs": [
    {
     "data": {
      "text/html": [
       "<table class=\"dataframe\">\n",
       "<caption>A data.frame: 6 × 68</caption>\n",
       "<thead>\n",
       "\t<tr><th></th><th scope=col>STATE</th><th scope=col>YEAR</th><th scope=col>SUB</th><th scope=col>CORE</th><th scope=col>MONTH</th><th scope=col>OFFENSE</th><th scope=col>M0_9</th><th scope=col>M10_12</th><th scope=col>M13_14</th><th scope=col>M15</th><th scope=col>⋯</th><th scope=col>AH</th><th scope=col>AN</th><th scope=col>JH</th><th scope=col>JN</th><th scope=col>Age_total</th><th scope=col>Age_juve</th><th scope=col>Age_adult</th><th scope=col>Total</th><th scope=col>juve</th><th scope=col>adult</th></tr>\n",
       "\t<tr><th></th><th scope=col>&lt;fct&gt;</th><th scope=col>&lt;dbl&gt;</th><th scope=col>&lt;fct&gt;</th><th scope=col>&lt;fct&gt;</th><th scope=col>&lt;dbl&gt;</th><th scope=col>&lt;fct&gt;</th><th scope=col>&lt;dbl&gt;</th><th scope=col>&lt;dbl&gt;</th><th scope=col>&lt;dbl&gt;</th><th scope=col>&lt;dbl&gt;</th><th scope=col>⋯</th><th scope=col>&lt;dbl&gt;</th><th scope=col>&lt;dbl&gt;</th><th scope=col>&lt;dbl&gt;</th><th scope=col>&lt;dbl&gt;</th><th scope=col>&lt;dbl&gt;</th><th scope=col>&lt;dbl&gt;</th><th scope=col>&lt;dbl&gt;</th><th scope=col>&lt;dbl&gt;</th><th scope=col>&lt;dbl&gt;</th><th scope=col>&lt;dbl&gt;</th></tr>\n",
       "</thead>\n",
       "<tbody>\n",
       "\t<tr><th scope=row>1</th><td>(50) Alaska</td><td>2019</td><td>(0) Non-Suburban</td><td>Y</td><td>1</td><td>04 </td><td>0</td><td>1</td><td>1</td><td>2</td><td>⋯</td><td>0</td><td>0</td><td>0</td><td>0</td><td>2016.0</td><td>114.0</td><td>2810</td><td> 87</td><td> 8</td><td>79</td></tr>\n",
       "\t<tr><th scope=row>2</th><td>(50) Alaska</td><td>2019</td><td>(0) Non-Suburban</td><td>Y</td><td>2</td><td>04 </td><td>1</td><td>1</td><td>1</td><td>0</td><td>⋯</td><td>0</td><td>0</td><td>0</td><td>0</td><td>1943.0</td><td> 66.5</td><td>3044</td><td> 87</td><td> 5</td><td>82</td></tr>\n",
       "\t<tr><th scope=row>3</th><td>(50) Alaska</td><td>2019</td><td>(0) Non-Suburban</td><td>Y</td><td>3</td><td>04 </td><td>0</td><td>1</td><td>1</td><td>2</td><td>⋯</td><td>0</td><td>0</td><td>0</td><td>0</td><td>2374.5</td><td> 67.0</td><td>3675</td><td> 99</td><td> 6</td><td>93</td></tr>\n",
       "\t<tr><th scope=row>4</th><td>(50) Alaska</td><td>2019</td><td>(0) Non-Suburban</td><td>Y</td><td>4</td><td>04 </td><td>0</td><td>0</td><td>1</td><td>3</td><td>⋯</td><td>0</td><td>0</td><td>0</td><td>0</td><td>2578.0</td><td>165.0</td><td>2770</td><td>100</td><td>13</td><td>87</td></tr>\n",
       "\t<tr><th scope=row>5</th><td>(50) Alaska</td><td>2019</td><td>(0) Non-Suburban</td><td>Y</td><td>5</td><td>04 </td><td>0</td><td>1</td><td>2</td><td>1</td><td>⋯</td><td>0</td><td>0</td><td>0</td><td>0</td><td>2676.0</td><td>105.5</td><td>3431</td><td> 99</td><td> 8</td><td>91</td></tr>\n",
       "\t<tr><th scope=row>6</th><td>(50) Alaska</td><td>2019</td><td>(0) Non-Suburban</td><td>Y</td><td>6</td><td>04 </td><td>0</td><td>0</td><td>1</td><td>0</td><td>⋯</td><td>0</td><td>0</td><td>0</td><td>0</td><td>3016.5</td><td> 64.5</td><td>3348</td><td> 96</td><td> 6</td><td>90</td></tr>\n",
       "</tbody>\n",
       "</table>\n"
      ],
      "text/latex": [
       "A data.frame: 6 × 68\n",
       "\\begin{tabular}{r|lllllllllllllllllllll}\n",
       "  & STATE & YEAR & SUB & CORE & MONTH & OFFENSE & M0\\_9 & M10\\_12 & M13\\_14 & M15 & ⋯ & AH & AN & JH & JN & Age\\_total & Age\\_juve & Age\\_adult & Total & juve & adult\\\\\n",
       "  & <fct> & <dbl> & <fct> & <fct> & <dbl> & <fct> & <dbl> & <dbl> & <dbl> & <dbl> & ⋯ & <dbl> & <dbl> & <dbl> & <dbl> & <dbl> & <dbl> & <dbl> & <dbl> & <dbl> & <dbl>\\\\\n",
       "\\hline\n",
       "\t1 & (50) Alaska & 2019 & (0) Non-Suburban & Y & 1 & 04  & 0 & 1 & 1 & 2 & ⋯ & 0 & 0 & 0 & 0 & 2016.0 & 114.0 & 2810 &  87 &  8 & 79\\\\\n",
       "\t2 & (50) Alaska & 2019 & (0) Non-Suburban & Y & 2 & 04  & 1 & 1 & 1 & 0 & ⋯ & 0 & 0 & 0 & 0 & 1943.0 &  66.5 & 3044 &  87 &  5 & 82\\\\\n",
       "\t3 & (50) Alaska & 2019 & (0) Non-Suburban & Y & 3 & 04  & 0 & 1 & 1 & 2 & ⋯ & 0 & 0 & 0 & 0 & 2374.5 &  67.0 & 3675 &  99 &  6 & 93\\\\\n",
       "\t4 & (50) Alaska & 2019 & (0) Non-Suburban & Y & 4 & 04  & 0 & 0 & 1 & 3 & ⋯ & 0 & 0 & 0 & 0 & 2578.0 & 165.0 & 2770 & 100 & 13 & 87\\\\\n",
       "\t5 & (50) Alaska & 2019 & (0) Non-Suburban & Y & 5 & 04  & 0 & 1 & 2 & 1 & ⋯ & 0 & 0 & 0 & 0 & 2676.0 & 105.5 & 3431 &  99 &  8 & 91\\\\\n",
       "\t6 & (50) Alaska & 2019 & (0) Non-Suburban & Y & 6 & 04  & 0 & 0 & 1 & 0 & ⋯ & 0 & 0 & 0 & 0 & 3016.5 &  64.5 & 3348 &  96 &  6 & 90\\\\\n",
       "\\end{tabular}\n"
      ],
      "text/markdown": [
       "\n",
       "A data.frame: 6 × 68\n",
       "\n",
       "| <!--/--> | STATE &lt;fct&gt; | YEAR &lt;dbl&gt; | SUB &lt;fct&gt; | CORE &lt;fct&gt; | MONTH &lt;dbl&gt; | OFFENSE &lt;fct&gt; | M0_9 &lt;dbl&gt; | M10_12 &lt;dbl&gt; | M13_14 &lt;dbl&gt; | M15 &lt;dbl&gt; | ⋯ ⋯ | AH &lt;dbl&gt; | AN &lt;dbl&gt; | JH &lt;dbl&gt; | JN &lt;dbl&gt; | Age_total &lt;dbl&gt; | Age_juve &lt;dbl&gt; | Age_adult &lt;dbl&gt; | Total &lt;dbl&gt; | juve &lt;dbl&gt; | adult &lt;dbl&gt; |\n",
       "|---|---|---|---|---|---|---|---|---|---|---|---|---|---|---|---|---|---|---|---|---|---|\n",
       "| 1 | (50) Alaska | 2019 | (0) Non-Suburban | Y | 1 | 04  | 0 | 1 | 1 | 2 | ⋯ | 0 | 0 | 0 | 0 | 2016.0 | 114.0 | 2810 |  87 |  8 | 79 |\n",
       "| 2 | (50) Alaska | 2019 | (0) Non-Suburban | Y | 2 | 04  | 1 | 1 | 1 | 0 | ⋯ | 0 | 0 | 0 | 0 | 1943.0 |  66.5 | 3044 |  87 |  5 | 82 |\n",
       "| 3 | (50) Alaska | 2019 | (0) Non-Suburban | Y | 3 | 04  | 0 | 1 | 1 | 2 | ⋯ | 0 | 0 | 0 | 0 | 2374.5 |  67.0 | 3675 |  99 |  6 | 93 |\n",
       "| 4 | (50) Alaska | 2019 | (0) Non-Suburban | Y | 4 | 04  | 0 | 0 | 1 | 3 | ⋯ | 0 | 0 | 0 | 0 | 2578.0 | 165.0 | 2770 | 100 | 13 | 87 |\n",
       "| 5 | (50) Alaska | 2019 | (0) Non-Suburban | Y | 5 | 04  | 0 | 1 | 2 | 1 | ⋯ | 0 | 0 | 0 | 0 | 2676.0 | 105.5 | 3431 |  99 |  8 | 91 |\n",
       "| 6 | (50) Alaska | 2019 | (0) Non-Suburban | Y | 6 | 04  | 0 | 0 | 1 | 0 | ⋯ | 0 | 0 | 0 | 0 | 3016.5 |  64.5 | 3348 |  96 |  6 | 90 |\n",
       "\n"
      ],
      "text/plain": [
       "  STATE       YEAR SUB              CORE MONTH OFFENSE M0_9 M10_12 M13_14 M15 ⋯\n",
       "1 (50) Alaska 2019 (0) Non-Suburban Y    1     04      0    1      1      2   ⋯\n",
       "2 (50) Alaska 2019 (0) Non-Suburban Y    2     04      1    1      1      0   ⋯\n",
       "3 (50) Alaska 2019 (0) Non-Suburban Y    3     04      0    1      1      2   ⋯\n",
       "4 (50) Alaska 2019 (0) Non-Suburban Y    4     04      0    0      1      3   ⋯\n",
       "5 (50) Alaska 2019 (0) Non-Suburban Y    5     04      0    1      2      1   ⋯\n",
       "6 (50) Alaska 2019 (0) Non-Suburban Y    6     04      0    0      1      0   ⋯\n",
       "  AH AN JH JN Age_total Age_juve Age_adult Total juve adult\n",
       "1 0  0  0  0  2016.0    114.0    2810       87    8   79   \n",
       "2 0  0  0  0  1943.0     66.5    3044       87    5   82   \n",
       "3 0  0  0  0  2374.5     67.0    3675       99    6   93   \n",
       "4 0  0  0  0  2578.0    165.0    2770      100   13   87   \n",
       "5 0  0  0  0  2676.0    105.5    3431       99    8   91   \n",
       "6 0  0  0  0  3016.5     64.5    3348       96    6   90   "
      ]
     },
     "metadata": {},
     "output_type": "display_data"
    }
   ],
   "source": [
    "head(combined_df)"
   ]
  },
  {
   "cell_type": "code",
   "execution_count": 290,
   "id": "da07c36d",
   "metadata": {},
   "outputs": [],
   "source": [
    "combined_df$Total <- rowSums(combined_df[, 51:62], na.rm = TRUE)\n",
    "combined_df$juve <- rowSums(combined_df[, juve_cols], na.rm = TRUE)\n",
    "combined_df$adult <- rowSums(combined_df[, adult_cols], na.rm = TRUE)\n",
    "\n",
    "\n",
    "\n",
    "combined_df <- combined_df[combined_df$Total != 0, ]"
   ]
  },
  {
   "cell_type": "code",
   "execution_count": 291,
   "id": "44819a00",
   "metadata": {},
   "outputs": [
    {
     "data": {
      "text/html": [
       "<style>\n",
       ".list-inline {list-style: none; margin:0; padding: 0}\n",
       ".list-inline>li {display: inline-block}\n",
       ".list-inline>li:not(:last-child)::after {content: \"\\00b7\"; padding: 0 .5ex}\n",
       "</style>\n",
       "<ol class=list-inline><li>165681</li><li>68</li></ol>\n"
      ],
      "text/latex": [
       "\\begin{enumerate*}\n",
       "\\item 165681\n",
       "\\item 68\n",
       "\\end{enumerate*}\n"
      ],
      "text/markdown": [
       "1. 165681\n",
       "2. 68\n",
       "\n",
       "\n"
      ],
      "text/plain": [
       "[1] 165681     68"
      ]
     },
     "metadata": {},
     "output_type": "display_data"
    }
   ],
   "source": [
    "dim(combined_df)"
   ]
  },
  {
   "cell_type": "code",
   "execution_count": 296,
   "id": "47dedc28",
   "metadata": {},
   "outputs": [
    {
     "name": "stdout",
     "output_type": "stream",
     "text": [
      "        STATE YEAR              SUB CORE MONTH OFFENSE M0_9 M10_12 M13_14 M15\n",
      "1 (50) Alaska 2019 (0) Non-Suburban    Y     1     04     0      1      1   2\n",
      "2 (50) Alaska 2019 (0) Non-Suburban    Y     2     04     1      1      1   0\n",
      "3 (50) Alaska 2019 (0) Non-Suburban    Y     3     04     0      1      1   2\n",
      "  M16 M17 M18 M19 M20 M21 M22 M23 M24 M25_29 M30_34 M35_39 M40_44 M45_49 M50_54\n",
      "1   1   0   2   1   0   2   3   2   1     13     10      9      7      2      4\n",
      "2   0   1   0   0   2   1   3   1   4     11      6     10     12      6      1\n",
      "3   1   0   0   3   2   2   2   2   1     16      6     11      7      7      3\n",
      "  M55_59 M60_64 M65 F0_9 F10_12 F13_14 F15 F16 F17 F18 F19 F20 F21 F22 F23 F24\n",
      "1      4      0   0    0      0      1   0   0   0   0   0   1   0   3   1   0\n",
      "2      2      1   1    0      0      0   0   1   0   0   0   1   2   0   0   0\n",
      "3      1      1   2    0      1      0   0   0   0   0   0   1   0   0   1   0\n",
      "  F25_29 F30_34 F35_39 F40_44 F45_49 F50_54 F55_59 F60_64 F65 AW AB AI AA JW JB\n",
      "1      3      3      2      3      2      1      1      0   1 28 13 36  4  1  0\n",
      "2      7      4      3      1      1      1      1      0   0 33 18 28  3  3  1\n",
      "3      9      5      3      3      1      2      0      0   2 36 14 35  8  4  1\n",
      "  JI JA AH AN JH JN Age_total Age_juve Age_adult Total juve adult\n",
      "1  5  0  0  0  0  0    2016.0    114.0      2810    87    8    79\n",
      "2  1  0  0  0  0  0    1943.0     66.5      3044    87    5    82\n",
      "3  1  0  0  0  0  0    2374.5     67.0      3675    99    6    93\n"
     ]
    }
   ],
   "source": [
    "print(combined_df[1:3,])"
   ]
  },
  {
   "cell_type": "code",
   "execution_count": 299,
   "id": "9c05c76b",
   "metadata": {},
   "outputs": [],
   "source": [
    "combined_df$avg_total <- ifelse(combined_df$Total != 0, combined_df$Age_total / combined_df$Total, 0)\n",
    "\n",
    "combined_df$avg_juve = ifelse(combined_df$juve != 0, combined_df$Age_juve / combined_df$juve, 0)\n",
    "combined_df$avg_adult = ifelse( combined_df$adult != 0,combined_df$Age_adult / combined_df$adult,0)\n",
    "\n",
    "\n",
    "\n"
   ]
  },
  {
   "cell_type": "code",
   "execution_count": 300,
   "id": "51a7343c",
   "metadata": {},
   "outputs": [
    {
     "data": {
      "text/html": [
       "<table class=\"dataframe\">\n",
       "<caption>A data.frame: 6 × 71</caption>\n",
       "<thead>\n",
       "\t<tr><th></th><th scope=col>STATE</th><th scope=col>YEAR</th><th scope=col>SUB</th><th scope=col>CORE</th><th scope=col>MONTH</th><th scope=col>OFFENSE</th><th scope=col>M0_9</th><th scope=col>M10_12</th><th scope=col>M13_14</th><th scope=col>M15</th><th scope=col>⋯</th><th scope=col>JN</th><th scope=col>Age_total</th><th scope=col>Age_juve</th><th scope=col>Age_adult</th><th scope=col>Total</th><th scope=col>juve</th><th scope=col>adult</th><th scope=col>avg_total</th><th scope=col>avg_juve</th><th scope=col>avg_adult</th></tr>\n",
       "\t<tr><th></th><th scope=col>&lt;fct&gt;</th><th scope=col>&lt;dbl&gt;</th><th scope=col>&lt;fct&gt;</th><th scope=col>&lt;fct&gt;</th><th scope=col>&lt;dbl&gt;</th><th scope=col>&lt;fct&gt;</th><th scope=col>&lt;dbl&gt;</th><th scope=col>&lt;dbl&gt;</th><th scope=col>&lt;dbl&gt;</th><th scope=col>&lt;dbl&gt;</th><th scope=col>⋯</th><th scope=col>&lt;dbl&gt;</th><th scope=col>&lt;dbl&gt;</th><th scope=col>&lt;dbl&gt;</th><th scope=col>&lt;dbl&gt;</th><th scope=col>&lt;dbl&gt;</th><th scope=col>&lt;dbl&gt;</th><th scope=col>&lt;dbl&gt;</th><th scope=col>&lt;dbl&gt;</th><th scope=col>&lt;dbl&gt;</th><th scope=col>&lt;dbl&gt;</th></tr>\n",
       "</thead>\n",
       "<tbody>\n",
       "\t<tr><th scope=row>1</th><td>(50) Alaska</td><td>2019</td><td>(0) Non-Suburban</td><td>Y</td><td>1</td><td>04 </td><td>0</td><td>1</td><td>1</td><td>2</td><td>⋯</td><td>0</td><td>2016.0</td><td>114.0</td><td>2810</td><td> 87</td><td> 8</td><td>79</td><td>23.17241</td><td>14.25000</td><td>35.56962</td></tr>\n",
       "\t<tr><th scope=row>2</th><td>(50) Alaska</td><td>2019</td><td>(0) Non-Suburban</td><td>Y</td><td>2</td><td>04 </td><td>1</td><td>1</td><td>1</td><td>0</td><td>⋯</td><td>0</td><td>1943.0</td><td> 66.5</td><td>3044</td><td> 87</td><td> 5</td><td>82</td><td>22.33333</td><td>13.30000</td><td>37.12195</td></tr>\n",
       "\t<tr><th scope=row>3</th><td>(50) Alaska</td><td>2019</td><td>(0) Non-Suburban</td><td>Y</td><td>3</td><td>04 </td><td>0</td><td>1</td><td>1</td><td>2</td><td>⋯</td><td>0</td><td>2374.5</td><td> 67.0</td><td>3675</td><td> 99</td><td> 6</td><td>93</td><td>23.98485</td><td>11.16667</td><td>39.51613</td></tr>\n",
       "\t<tr><th scope=row>4</th><td>(50) Alaska</td><td>2019</td><td>(0) Non-Suburban</td><td>Y</td><td>4</td><td>04 </td><td>0</td><td>0</td><td>1</td><td>3</td><td>⋯</td><td>0</td><td>2578.0</td><td>165.0</td><td>2770</td><td>100</td><td>13</td><td>87</td><td>25.78000</td><td>12.69231</td><td>31.83908</td></tr>\n",
       "\t<tr><th scope=row>5</th><td>(50) Alaska</td><td>2019</td><td>(0) Non-Suburban</td><td>Y</td><td>5</td><td>04 </td><td>0</td><td>1</td><td>2</td><td>1</td><td>⋯</td><td>0</td><td>2676.0</td><td>105.5</td><td>3431</td><td> 99</td><td> 8</td><td>91</td><td>27.03030</td><td>13.18750</td><td>37.70330</td></tr>\n",
       "\t<tr><th scope=row>6</th><td>(50) Alaska</td><td>2019</td><td>(0) Non-Suburban</td><td>Y</td><td>6</td><td>04 </td><td>0</td><td>0</td><td>1</td><td>0</td><td>⋯</td><td>0</td><td>3016.5</td><td> 64.5</td><td>3348</td><td> 96</td><td> 6</td><td>90</td><td>31.42188</td><td>10.75000</td><td>37.20000</td></tr>\n",
       "</tbody>\n",
       "</table>\n"
      ],
      "text/latex": [
       "A data.frame: 6 × 71\n",
       "\\begin{tabular}{r|lllllllllllllllllllll}\n",
       "  & STATE & YEAR & SUB & CORE & MONTH & OFFENSE & M0\\_9 & M10\\_12 & M13\\_14 & M15 & ⋯ & JN & Age\\_total & Age\\_juve & Age\\_adult & Total & juve & adult & avg\\_total & avg\\_juve & avg\\_adult\\\\\n",
       "  & <fct> & <dbl> & <fct> & <fct> & <dbl> & <fct> & <dbl> & <dbl> & <dbl> & <dbl> & ⋯ & <dbl> & <dbl> & <dbl> & <dbl> & <dbl> & <dbl> & <dbl> & <dbl> & <dbl> & <dbl>\\\\\n",
       "\\hline\n",
       "\t1 & (50) Alaska & 2019 & (0) Non-Suburban & Y & 1 & 04  & 0 & 1 & 1 & 2 & ⋯ & 0 & 2016.0 & 114.0 & 2810 &  87 &  8 & 79 & 23.17241 & 14.25000 & 35.56962\\\\\n",
       "\t2 & (50) Alaska & 2019 & (0) Non-Suburban & Y & 2 & 04  & 1 & 1 & 1 & 0 & ⋯ & 0 & 1943.0 &  66.5 & 3044 &  87 &  5 & 82 & 22.33333 & 13.30000 & 37.12195\\\\\n",
       "\t3 & (50) Alaska & 2019 & (0) Non-Suburban & Y & 3 & 04  & 0 & 1 & 1 & 2 & ⋯ & 0 & 2374.5 &  67.0 & 3675 &  99 &  6 & 93 & 23.98485 & 11.16667 & 39.51613\\\\\n",
       "\t4 & (50) Alaska & 2019 & (0) Non-Suburban & Y & 4 & 04  & 0 & 0 & 1 & 3 & ⋯ & 0 & 2578.0 & 165.0 & 2770 & 100 & 13 & 87 & 25.78000 & 12.69231 & 31.83908\\\\\n",
       "\t5 & (50) Alaska & 2019 & (0) Non-Suburban & Y & 5 & 04  & 0 & 1 & 2 & 1 & ⋯ & 0 & 2676.0 & 105.5 & 3431 &  99 &  8 & 91 & 27.03030 & 13.18750 & 37.70330\\\\\n",
       "\t6 & (50) Alaska & 2019 & (0) Non-Suburban & Y & 6 & 04  & 0 & 0 & 1 & 0 & ⋯ & 0 & 3016.5 &  64.5 & 3348 &  96 &  6 & 90 & 31.42188 & 10.75000 & 37.20000\\\\\n",
       "\\end{tabular}\n"
      ],
      "text/markdown": [
       "\n",
       "A data.frame: 6 × 71\n",
       "\n",
       "| <!--/--> | STATE &lt;fct&gt; | YEAR &lt;dbl&gt; | SUB &lt;fct&gt; | CORE &lt;fct&gt; | MONTH &lt;dbl&gt; | OFFENSE &lt;fct&gt; | M0_9 &lt;dbl&gt; | M10_12 &lt;dbl&gt; | M13_14 &lt;dbl&gt; | M15 &lt;dbl&gt; | ⋯ ⋯ | JN &lt;dbl&gt; | Age_total &lt;dbl&gt; | Age_juve &lt;dbl&gt; | Age_adult &lt;dbl&gt; | Total &lt;dbl&gt; | juve &lt;dbl&gt; | adult &lt;dbl&gt; | avg_total &lt;dbl&gt; | avg_juve &lt;dbl&gt; | avg_adult &lt;dbl&gt; |\n",
       "|---|---|---|---|---|---|---|---|---|---|---|---|---|---|---|---|---|---|---|---|---|---|\n",
       "| 1 | (50) Alaska | 2019 | (0) Non-Suburban | Y | 1 | 04  | 0 | 1 | 1 | 2 | ⋯ | 0 | 2016.0 | 114.0 | 2810 |  87 |  8 | 79 | 23.17241 | 14.25000 | 35.56962 |\n",
       "| 2 | (50) Alaska | 2019 | (0) Non-Suburban | Y | 2 | 04  | 1 | 1 | 1 | 0 | ⋯ | 0 | 1943.0 |  66.5 | 3044 |  87 |  5 | 82 | 22.33333 | 13.30000 | 37.12195 |\n",
       "| 3 | (50) Alaska | 2019 | (0) Non-Suburban | Y | 3 | 04  | 0 | 1 | 1 | 2 | ⋯ | 0 | 2374.5 |  67.0 | 3675 |  99 |  6 | 93 | 23.98485 | 11.16667 | 39.51613 |\n",
       "| 4 | (50) Alaska | 2019 | (0) Non-Suburban | Y | 4 | 04  | 0 | 0 | 1 | 3 | ⋯ | 0 | 2578.0 | 165.0 | 2770 | 100 | 13 | 87 | 25.78000 | 12.69231 | 31.83908 |\n",
       "| 5 | (50) Alaska | 2019 | (0) Non-Suburban | Y | 5 | 04  | 0 | 1 | 2 | 1 | ⋯ | 0 | 2676.0 | 105.5 | 3431 |  99 |  8 | 91 | 27.03030 | 13.18750 | 37.70330 |\n",
       "| 6 | (50) Alaska | 2019 | (0) Non-Suburban | Y | 6 | 04  | 0 | 0 | 1 | 0 | ⋯ | 0 | 3016.5 |  64.5 | 3348 |  96 |  6 | 90 | 31.42188 | 10.75000 | 37.20000 |\n",
       "\n"
      ],
      "text/plain": [
       "  STATE       YEAR SUB              CORE MONTH OFFENSE M0_9 M10_12 M13_14 M15 ⋯\n",
       "1 (50) Alaska 2019 (0) Non-Suburban Y    1     04      0    1      1      2   ⋯\n",
       "2 (50) Alaska 2019 (0) Non-Suburban Y    2     04      1    1      1      0   ⋯\n",
       "3 (50) Alaska 2019 (0) Non-Suburban Y    3     04      0    1      1      2   ⋯\n",
       "4 (50) Alaska 2019 (0) Non-Suburban Y    4     04      0    0      1      3   ⋯\n",
       "5 (50) Alaska 2019 (0) Non-Suburban Y    5     04      0    1      2      1   ⋯\n",
       "6 (50) Alaska 2019 (0) Non-Suburban Y    6     04      0    0      1      0   ⋯\n",
       "  JN Age_total Age_juve Age_adult Total juve adult avg_total avg_juve avg_adult\n",
       "1 0  2016.0    114.0    2810       87    8   79    23.17241  14.25000 35.56962 \n",
       "2 0  1943.0     66.5    3044       87    5   82    22.33333  13.30000 37.12195 \n",
       "3 0  2374.5     67.0    3675       99    6   93    23.98485  11.16667 39.51613 \n",
       "4 0  2578.0    165.0    2770      100   13   87    25.78000  12.69231 31.83908 \n",
       "5 0  2676.0    105.5    3431       99    8   91    27.03030  13.18750 37.70330 \n",
       "6 0  3016.5     64.5    3348       96    6   90    31.42188  10.75000 37.20000 "
      ]
     },
     "metadata": {},
     "output_type": "display_data"
    }
   ],
   "source": [
    "head(combined_df)"
   ]
  },
  {
   "cell_type": "code",
   "execution_count": 301,
   "id": "294130e7",
   "metadata": {},
   "outputs": [],
   "source": [
    "combined_df <- combined_df[,-c(6:50)]"
   ]
  },
  {
   "cell_type": "code",
   "execution_count": 303,
   "id": "2775d7a8",
   "metadata": {},
   "outputs": [],
   "source": [
    "summer_months <- c(5, 6, 7, 8, 9, 10)\n",
    "winter_months <- c(1, 2, 3, 4, 11, 12)\n",
    "\n",
    "combined_df$summer <- ifelse(combined_df$MONTH %in% summer_months, 1, 0)"
   ]
  },
  {
   "cell_type": "code",
   "execution_count": 304,
   "id": "82dc2f6a",
   "metadata": {},
   "outputs": [
    {
     "data": {
      "text/html": [
       "<table class=\"dataframe\">\n",
       "<caption>A data.frame: 6 × 27</caption>\n",
       "<thead>\n",
       "\t<tr><th></th><th scope=col>STATE</th><th scope=col>YEAR</th><th scope=col>SUB</th><th scope=col>CORE</th><th scope=col>MONTH</th><th scope=col>AW</th><th scope=col>AB</th><th scope=col>AI</th><th scope=col>AA</th><th scope=col>JW</th><th scope=col>⋯</th><th scope=col>Age_total</th><th scope=col>Age_juve</th><th scope=col>Age_adult</th><th scope=col>Total</th><th scope=col>juve</th><th scope=col>adult</th><th scope=col>avg_total</th><th scope=col>avg_juve</th><th scope=col>avg_adult</th><th scope=col>summer</th></tr>\n",
       "\t<tr><th></th><th scope=col>&lt;fct&gt;</th><th scope=col>&lt;dbl&gt;</th><th scope=col>&lt;fct&gt;</th><th scope=col>&lt;fct&gt;</th><th scope=col>&lt;dbl&gt;</th><th scope=col>&lt;dbl&gt;</th><th scope=col>&lt;dbl&gt;</th><th scope=col>&lt;dbl&gt;</th><th scope=col>&lt;dbl&gt;</th><th scope=col>&lt;dbl&gt;</th><th scope=col>⋯</th><th scope=col>&lt;dbl&gt;</th><th scope=col>&lt;dbl&gt;</th><th scope=col>&lt;dbl&gt;</th><th scope=col>&lt;dbl&gt;</th><th scope=col>&lt;dbl&gt;</th><th scope=col>&lt;dbl&gt;</th><th scope=col>&lt;dbl&gt;</th><th scope=col>&lt;dbl&gt;</th><th scope=col>&lt;dbl&gt;</th><th scope=col>&lt;dbl&gt;</th></tr>\n",
       "</thead>\n",
       "<tbody>\n",
       "\t<tr><th scope=row>1</th><td>(50) Alaska</td><td>2019</td><td>(0) Non-Suburban</td><td>Y</td><td>1</td><td>28</td><td>13</td><td>36</td><td> 4</td><td>1</td><td>⋯</td><td>2016.0</td><td>114.0</td><td>2810</td><td> 87</td><td> 8</td><td>79</td><td>23.17241</td><td>14.25000</td><td>35.56962</td><td>0</td></tr>\n",
       "\t<tr><th scope=row>2</th><td>(50) Alaska</td><td>2019</td><td>(0) Non-Suburban</td><td>Y</td><td>2</td><td>33</td><td>18</td><td>28</td><td> 3</td><td>3</td><td>⋯</td><td>1943.0</td><td> 66.5</td><td>3044</td><td> 87</td><td> 5</td><td>82</td><td>22.33333</td><td>13.30000</td><td>37.12195</td><td>0</td></tr>\n",
       "\t<tr><th scope=row>3</th><td>(50) Alaska</td><td>2019</td><td>(0) Non-Suburban</td><td>Y</td><td>3</td><td>36</td><td>14</td><td>35</td><td> 8</td><td>4</td><td>⋯</td><td>2374.5</td><td> 67.0</td><td>3675</td><td> 99</td><td> 6</td><td>93</td><td>23.98485</td><td>11.16667</td><td>39.51613</td><td>0</td></tr>\n",
       "\t<tr><th scope=row>4</th><td>(50) Alaska</td><td>2019</td><td>(0) Non-Suburban</td><td>Y</td><td>4</td><td>33</td><td>12</td><td>39</td><td> 5</td><td>7</td><td>⋯</td><td>2578.0</td><td>165.0</td><td>2770</td><td>100</td><td>13</td><td>87</td><td>25.78000</td><td>12.69231</td><td>31.83908</td><td>0</td></tr>\n",
       "\t<tr><th scope=row>5</th><td>(50) Alaska</td><td>2019</td><td>(0) Non-Suburban</td><td>Y</td><td>5</td><td>28</td><td>11</td><td>45</td><td> 9</td><td>4</td><td>⋯</td><td>2676.0</td><td>105.5</td><td>3431</td><td> 99</td><td> 8</td><td>91</td><td>27.03030</td><td>13.18750</td><td>37.70330</td><td>1</td></tr>\n",
       "\t<tr><th scope=row>6</th><td>(50) Alaska</td><td>2019</td><td>(0) Non-Suburban</td><td>Y</td><td>6</td><td>29</td><td> 8</td><td>42</td><td>13</td><td>2</td><td>⋯</td><td>3016.5</td><td> 64.5</td><td>3348</td><td> 96</td><td> 6</td><td>90</td><td>31.42188</td><td>10.75000</td><td>37.20000</td><td>1</td></tr>\n",
       "</tbody>\n",
       "</table>\n"
      ],
      "text/latex": [
       "A data.frame: 6 × 27\n",
       "\\begin{tabular}{r|lllllllllllllllllllll}\n",
       "  & STATE & YEAR & SUB & CORE & MONTH & AW & AB & AI & AA & JW & ⋯ & Age\\_total & Age\\_juve & Age\\_adult & Total & juve & adult & avg\\_total & avg\\_juve & avg\\_adult & summer\\\\\n",
       "  & <fct> & <dbl> & <fct> & <fct> & <dbl> & <dbl> & <dbl> & <dbl> & <dbl> & <dbl> & ⋯ & <dbl> & <dbl> & <dbl> & <dbl> & <dbl> & <dbl> & <dbl> & <dbl> & <dbl> & <dbl>\\\\\n",
       "\\hline\n",
       "\t1 & (50) Alaska & 2019 & (0) Non-Suburban & Y & 1 & 28 & 13 & 36 &  4 & 1 & ⋯ & 2016.0 & 114.0 & 2810 &  87 &  8 & 79 & 23.17241 & 14.25000 & 35.56962 & 0\\\\\n",
       "\t2 & (50) Alaska & 2019 & (0) Non-Suburban & Y & 2 & 33 & 18 & 28 &  3 & 3 & ⋯ & 1943.0 &  66.5 & 3044 &  87 &  5 & 82 & 22.33333 & 13.30000 & 37.12195 & 0\\\\\n",
       "\t3 & (50) Alaska & 2019 & (0) Non-Suburban & Y & 3 & 36 & 14 & 35 &  8 & 4 & ⋯ & 2374.5 &  67.0 & 3675 &  99 &  6 & 93 & 23.98485 & 11.16667 & 39.51613 & 0\\\\\n",
       "\t4 & (50) Alaska & 2019 & (0) Non-Suburban & Y & 4 & 33 & 12 & 39 &  5 & 7 & ⋯ & 2578.0 & 165.0 & 2770 & 100 & 13 & 87 & 25.78000 & 12.69231 & 31.83908 & 0\\\\\n",
       "\t5 & (50) Alaska & 2019 & (0) Non-Suburban & Y & 5 & 28 & 11 & 45 &  9 & 4 & ⋯ & 2676.0 & 105.5 & 3431 &  99 &  8 & 91 & 27.03030 & 13.18750 & 37.70330 & 1\\\\\n",
       "\t6 & (50) Alaska & 2019 & (0) Non-Suburban & Y & 6 & 29 &  8 & 42 & 13 & 2 & ⋯ & 3016.5 &  64.5 & 3348 &  96 &  6 & 90 & 31.42188 & 10.75000 & 37.20000 & 1\\\\\n",
       "\\end{tabular}\n"
      ],
      "text/markdown": [
       "\n",
       "A data.frame: 6 × 27\n",
       "\n",
       "| <!--/--> | STATE &lt;fct&gt; | YEAR &lt;dbl&gt; | SUB &lt;fct&gt; | CORE &lt;fct&gt; | MONTH &lt;dbl&gt; | AW &lt;dbl&gt; | AB &lt;dbl&gt; | AI &lt;dbl&gt; | AA &lt;dbl&gt; | JW &lt;dbl&gt; | ⋯ ⋯ | Age_total &lt;dbl&gt; | Age_juve &lt;dbl&gt; | Age_adult &lt;dbl&gt; | Total &lt;dbl&gt; | juve &lt;dbl&gt; | adult &lt;dbl&gt; | avg_total &lt;dbl&gt; | avg_juve &lt;dbl&gt; | avg_adult &lt;dbl&gt; | summer &lt;dbl&gt; |\n",
       "|---|---|---|---|---|---|---|---|---|---|---|---|---|---|---|---|---|---|---|---|---|---|\n",
       "| 1 | (50) Alaska | 2019 | (0) Non-Suburban | Y | 1 | 28 | 13 | 36 |  4 | 1 | ⋯ | 2016.0 | 114.0 | 2810 |  87 |  8 | 79 | 23.17241 | 14.25000 | 35.56962 | 0 |\n",
       "| 2 | (50) Alaska | 2019 | (0) Non-Suburban | Y | 2 | 33 | 18 | 28 |  3 | 3 | ⋯ | 1943.0 |  66.5 | 3044 |  87 |  5 | 82 | 22.33333 | 13.30000 | 37.12195 | 0 |\n",
       "| 3 | (50) Alaska | 2019 | (0) Non-Suburban | Y | 3 | 36 | 14 | 35 |  8 | 4 | ⋯ | 2374.5 |  67.0 | 3675 |  99 |  6 | 93 | 23.98485 | 11.16667 | 39.51613 | 0 |\n",
       "| 4 | (50) Alaska | 2019 | (0) Non-Suburban | Y | 4 | 33 | 12 | 39 |  5 | 7 | ⋯ | 2578.0 | 165.0 | 2770 | 100 | 13 | 87 | 25.78000 | 12.69231 | 31.83908 | 0 |\n",
       "| 5 | (50) Alaska | 2019 | (0) Non-Suburban | Y | 5 | 28 | 11 | 45 |  9 | 4 | ⋯ | 2676.0 | 105.5 | 3431 |  99 |  8 | 91 | 27.03030 | 13.18750 | 37.70330 | 1 |\n",
       "| 6 | (50) Alaska | 2019 | (0) Non-Suburban | Y | 6 | 29 |  8 | 42 | 13 | 2 | ⋯ | 3016.5 |  64.5 | 3348 |  96 |  6 | 90 | 31.42188 | 10.75000 | 37.20000 | 1 |\n",
       "\n"
      ],
      "text/plain": [
       "  STATE       YEAR SUB              CORE MONTH AW AB AI AA JW ⋯ Age_total\n",
       "1 (50) Alaska 2019 (0) Non-Suburban Y    1     28 13 36  4 1  ⋯ 2016.0   \n",
       "2 (50) Alaska 2019 (0) Non-Suburban Y    2     33 18 28  3 3  ⋯ 1943.0   \n",
       "3 (50) Alaska 2019 (0) Non-Suburban Y    3     36 14 35  8 4  ⋯ 2374.5   \n",
       "4 (50) Alaska 2019 (0) Non-Suburban Y    4     33 12 39  5 7  ⋯ 2578.0   \n",
       "5 (50) Alaska 2019 (0) Non-Suburban Y    5     28 11 45  9 4  ⋯ 2676.0   \n",
       "6 (50) Alaska 2019 (0) Non-Suburban Y    6     29  8 42 13 2  ⋯ 3016.5   \n",
       "  Age_juve Age_adult Total juve adult avg_total avg_juve avg_adult summer\n",
       "1 114.0    2810       87    8   79    23.17241  14.25000 35.56962  0     \n",
       "2  66.5    3044       87    5   82    22.33333  13.30000 37.12195  0     \n",
       "3  67.0    3675       99    6   93    23.98485  11.16667 39.51613  0     \n",
       "4 165.0    2770      100   13   87    25.78000  12.69231 31.83908  0     \n",
       "5 105.5    3431       99    8   91    27.03030  13.18750 37.70330  1     \n",
       "6  64.5    3348       96    6   90    31.42188  10.75000 37.20000  1     "
      ]
     },
     "metadata": {},
     "output_type": "display_data"
    }
   ],
   "source": [
    "head(combined_df)"
   ]
  },
  {
   "cell_type": "markdown",
   "id": "4e453699",
   "metadata": {},
   "source": [
    "### Regression"
   ]
  },
  {
   "cell_type": "code",
   "execution_count": 308,
   "id": "8e4711f0",
   "metadata": {},
   "outputs": [
    {
     "data": {
      "text/html": [
       "53"
      ],
      "text/latex": [
       "53"
      ],
      "text/markdown": [
       "53"
      ],
      "text/plain": [
       "[1] 53"
      ]
     },
     "metadata": {},
     "output_type": "display_data"
    },
    {
     "data": {
      "text/html": [
       "2"
      ],
      "text/latex": [
       "2"
      ],
      "text/markdown": [
       "2"
      ],
      "text/plain": [
       "[1] 2"
      ]
     },
     "metadata": {},
     "output_type": "display_data"
    }
   ],
   "source": [
    "length(unique(combined_df$STATE))\n",
    "length(unique(combined_df$SUB))\n"
   ]
  },
  {
   "cell_type": "code",
   "execution_count": 310,
   "id": "68a08691",
   "metadata": {},
   "outputs": [],
   "source": [
    "# First we notice STATE, SUB, CORE are factors so we convert them into factors\n",
    "combined_df$STATE = factor(combined_df$STATE, labels = c(1:53))\n",
    "combined_df$SUB = factor(combined_df$SUB, labels = c(0, 1))\n"
   ]
  },
  {
   "cell_type": "code",
   "execution_count": 316,
   "id": "58f89cd3",
   "metadata": {},
   "outputs": [
    {
     "data": {
      "text/html": [
       "<table class=\"dataframe\">\n",
       "<caption>A data.frame: 165681 × 27</caption>\n",
       "<thead>\n",
       "\t<tr><th></th><th scope=col>STATE</th><th scope=col>YEAR</th><th scope=col>SUB</th><th scope=col>CORE</th><th scope=col>MONTH</th><th scope=col>AW</th><th scope=col>AB</th><th scope=col>AI</th><th scope=col>AA</th><th scope=col>JW</th><th scope=col>⋯</th><th scope=col>Age_total</th><th scope=col>Age_juve</th><th scope=col>Age_adult</th><th scope=col>Total</th><th scope=col>juve</th><th scope=col>adult</th><th scope=col>avg_total</th><th scope=col>avg_juve</th><th scope=col>avg_adult</th><th scope=col>summer</th></tr>\n",
       "\t<tr><th></th><th scope=col>&lt;fct&gt;</th><th scope=col>&lt;dbl&gt;</th><th scope=col>&lt;fct&gt;</th><th scope=col>&lt;fct&gt;</th><th scope=col>&lt;dbl&gt;</th><th scope=col>&lt;dbl&gt;</th><th scope=col>&lt;dbl&gt;</th><th scope=col>&lt;dbl&gt;</th><th scope=col>&lt;dbl&gt;</th><th scope=col>&lt;dbl&gt;</th><th scope=col>⋯</th><th scope=col>&lt;dbl&gt;</th><th scope=col>&lt;dbl&gt;</th><th scope=col>&lt;dbl&gt;</th><th scope=col>&lt;dbl&gt;</th><th scope=col>&lt;dbl&gt;</th><th scope=col>&lt;dbl&gt;</th><th scope=col>&lt;dbl&gt;</th><th scope=col>&lt;dbl&gt;</th><th scope=col>&lt;dbl&gt;</th><th scope=col>&lt;dbl&gt;</th></tr>\n",
       "</thead>\n",
       "<tbody>\n",
       "\t<tr><th scope=row>1</th><td>50</td><td>2019</td><td>0</td><td>Y</td><td> 1</td><td>28</td><td>13</td><td>36</td><td> 4</td><td>1</td><td>⋯</td><td>2016.0</td><td>114.0</td><td>2810</td><td> 87</td><td> 8</td><td> 79</td><td>23.17241</td><td>14.25000</td><td>35.56962</td><td>0</td></tr>\n",
       "\t<tr><th scope=row>2</th><td>50</td><td>2019</td><td>0</td><td>Y</td><td> 2</td><td>33</td><td>18</td><td>28</td><td> 3</td><td>3</td><td>⋯</td><td>1943.0</td><td> 66.5</td><td>3044</td><td> 87</td><td> 5</td><td> 82</td><td>22.33333</td><td>13.30000</td><td>37.12195</td><td>0</td></tr>\n",
       "\t<tr><th scope=row>3</th><td>50</td><td>2019</td><td>0</td><td>Y</td><td> 3</td><td>36</td><td>14</td><td>35</td><td> 8</td><td>4</td><td>⋯</td><td>2374.5</td><td> 67.0</td><td>3675</td><td> 99</td><td> 6</td><td> 93</td><td>23.98485</td><td>11.16667</td><td>39.51613</td><td>0</td></tr>\n",
       "\t<tr><th scope=row>4</th><td>50</td><td>2019</td><td>0</td><td>Y</td><td> 4</td><td>33</td><td>12</td><td>39</td><td> 5</td><td>7</td><td>⋯</td><td>2578.0</td><td>165.0</td><td>2770</td><td>100</td><td>13</td><td> 87</td><td>25.78000</td><td>12.69231</td><td>31.83908</td><td>0</td></tr>\n",
       "\t<tr><th scope=row>5</th><td>50</td><td>2019</td><td>0</td><td>Y</td><td> 5</td><td>28</td><td>11</td><td>45</td><td> 9</td><td>4</td><td>⋯</td><td>2676.0</td><td>105.5</td><td>3431</td><td> 99</td><td> 8</td><td> 91</td><td>27.03030</td><td>13.18750</td><td>37.70330</td><td>1</td></tr>\n",
       "\t<tr><th scope=row>6</th><td>50</td><td>2019</td><td>0</td><td>Y</td><td> 6</td><td>29</td><td> 8</td><td>42</td><td>13</td><td>2</td><td>⋯</td><td>3016.5</td><td> 64.5</td><td>3348</td><td> 96</td><td> 6</td><td> 90</td><td>31.42188</td><td>10.75000</td><td>37.20000</td><td>1</td></tr>\n",
       "\t<tr><th scope=row>7</th><td>50</td><td>2019</td><td>0</td><td>Y</td><td> 7</td><td>55</td><td>18</td><td>33</td><td> 8</td><td>0</td><td>⋯</td><td>3794.0</td><td>109.5</td><td>3933</td><td>119</td><td> 8</td><td>111</td><td>31.88235</td><td>13.68750</td><td>35.43243</td><td>1</td></tr>\n",
       "\t<tr><th scope=row>8</th><td>50</td><td>2019</td><td>0</td><td>Y</td><td> 8</td><td>34</td><td>15</td><td>31</td><td> 6</td><td>0</td><td>⋯</td><td>3100.0</td><td>103.5</td><td>3206</td><td> 92</td><td> 7</td><td> 85</td><td>33.69565</td><td>14.78571</td><td>37.71765</td><td>1</td></tr>\n",
       "\t<tr><th scope=row>9</th><td>50</td><td>2019</td><td>0</td><td>Y</td><td> 9</td><td>36</td><td>15</td><td>36</td><td>12</td><td>1</td><td>⋯</td><td>3705.5</td><td> 24.0</td><td>4083</td><td>101</td><td> 3</td><td> 98</td><td>36.68812</td><td> 8.00000</td><td>41.66327</td><td>1</td></tr>\n",
       "\t<tr><th scope=row>10</th><td>50</td><td>2019</td><td>0</td><td>Y</td><td>10</td><td>27</td><td>13</td><td>35</td><td> 5</td><td>2</td><td>⋯</td><td>3132.0</td><td> 86.0</td><td>2661</td><td> 86</td><td> 7</td><td> 79</td><td>36.41860</td><td>12.28571</td><td>33.68354</td><td>1</td></tr>\n",
       "\t<tr><th scope=row>11</th><td>50</td><td>2019</td><td>0</td><td>Y</td><td>11</td><td>23</td><td> 9</td><td>40</td><td>11</td><td>1</td><td>⋯</td><td>3653.0</td><td> 51.5</td><td>2854</td><td> 87</td><td> 4</td><td> 83</td><td>41.98851</td><td>12.87500</td><td>34.38554</td><td>0</td></tr>\n",
       "\t<tr><th scope=row>12</th><td>50</td><td>2019</td><td>0</td><td>Y</td><td>12</td><td>39</td><td> 8</td><td>31</td><td>11</td><td>2</td><td>⋯</td><td>4427.0</td><td> 62.0</td><td>3405</td><td> 93</td><td> 5</td><td> 88</td><td>47.60215</td><td>12.40000</td><td>38.69318</td><td>0</td></tr>\n",
       "\t<tr><th scope=row>13</th><td>50</td><td>2019</td><td>0</td><td>Y</td><td> 1</td><td> 2</td><td> 1</td><td> 2</td><td> 0</td><td>0</td><td>⋯</td><td> 191.0</td><td>  0.0</td><td> 137</td><td>  5</td><td> 0</td><td>  5</td><td>38.20000</td><td> 0.00000</td><td>27.40000</td><td>0</td></tr>\n",
       "\t<tr><th scope=row>14</th><td>50</td><td>2019</td><td>0</td><td>Y</td><td> 2</td><td> 1</td><td> 1</td><td> 1</td><td> 0</td><td>0</td><td>⋯</td><td> 125.0</td><td>  0.0</td><td> 141</td><td>  3</td><td> 0</td><td>  3</td><td>41.66667</td><td> 0.00000</td><td>47.00000</td><td>0</td></tr>\n",
       "\t<tr><th scope=row>15</th><td>50</td><td>2019</td><td>0</td><td>Y</td><td> 3</td><td> 2</td><td> 1</td><td> 1</td><td> 0</td><td>0</td><td>⋯</td><td> 148.5</td><td>  0.0</td><td> 162</td><td>  4</td><td> 0</td><td>  4</td><td>37.12500</td><td> 0.00000</td><td>40.50000</td><td>0</td></tr>\n",
       "\t<tr><th scope=row>16</th><td>50</td><td>2019</td><td>0</td><td>Y</td><td> 4</td><td> 1</td><td> 5</td><td> 0</td><td> 0</td><td>0</td><td>⋯</td><td> 151.5</td><td>  0.0</td><td> 259</td><td>  6</td><td> 0</td><td>  6</td><td>25.25000</td><td> 0.00000</td><td>43.16667</td><td>0</td></tr>\n",
       "\t<tr><th scope=row>17</th><td>50</td><td>2019</td><td>0</td><td>Y</td><td> 5</td><td> 4</td><td> 1</td><td> 0</td><td> 0</td><td>0</td><td>⋯</td><td> 104.0</td><td>  0.0</td><td> 226</td><td>  5</td><td> 0</td><td>  5</td><td>20.80000</td><td> 0.00000</td><td>45.20000</td><td>1</td></tr>\n",
       "\t<tr><th scope=row>18</th><td>50</td><td>2019</td><td>0</td><td>Y</td><td> 6</td><td> 5</td><td> 2</td><td> 2</td><td> 0</td><td>0</td><td>⋯</td><td> 191.5</td><td> 17.0</td><td> 427</td><td>  9</td><td> 1</td><td>  8</td><td>21.27778</td><td>17.00000</td><td>53.37500</td><td>1</td></tr>\n",
       "\t<tr><th scope=row>19</th><td>50</td><td>2019</td><td>0</td><td>Y</td><td> 7</td><td> 0</td><td> 1</td><td> 3</td><td> 0</td><td>0</td><td>⋯</td><td> 107.0</td><td>  0.0</td><td>  87</td><td>  4</td><td> 0</td><td>  4</td><td>26.75000</td><td> 0.00000</td><td>21.75000</td><td>1</td></tr>\n",
       "\t<tr><th scope=row>20</th><td>50</td><td>2019</td><td>0</td><td>Y</td><td> 8</td><td> 1</td><td> 1</td><td> 1</td><td> 0</td><td>0</td><td>⋯</td><td>  62.0</td><td>  0.0</td><td> 132</td><td>  3</td><td> 0</td><td>  3</td><td>20.66667</td><td> 0.00000</td><td>44.00000</td><td>1</td></tr>\n",
       "\t<tr><th scope=row>21</th><td>50</td><td>2019</td><td>0</td><td>Y</td><td> 9</td><td> 1</td><td> 1</td><td> 1</td><td> 0</td><td>0</td><td>⋯</td><td>  53.0</td><td>  0.0</td><td> 126</td><td>  3</td><td> 0</td><td>  3</td><td>17.66667</td><td> 0.00000</td><td>42.00000</td><td>1</td></tr>\n",
       "\t<tr><th scope=row>22</th><td>50</td><td>2019</td><td>0</td><td>Y</td><td>10</td><td> 2</td><td> 0</td><td> 3</td><td> 0</td><td>0</td><td>⋯</td><td>  95.0</td><td>  0.0</td><td> 179</td><td>  5</td><td> 0</td><td>  5</td><td>19.00000</td><td> 0.00000</td><td>35.80000</td><td>1</td></tr>\n",
       "\t<tr><th scope=row>23</th><td>50</td><td>2019</td><td>0</td><td>Y</td><td>11</td><td> 3</td><td> 0</td><td> 2</td><td> 0</td><td>0</td><td>⋯</td><td> 102.0</td><td>  0.0</td><td> 268</td><td>  5</td><td> 0</td><td>  5</td><td>20.40000</td><td> 0.00000</td><td>53.60000</td><td>0</td></tr>\n",
       "\t<tr><th scope=row>24</th><td>50</td><td>2019</td><td>0</td><td>Y</td><td>12</td><td> 3</td><td> 0</td><td> 2</td><td> 0</td><td>0</td><td>⋯</td><td> 112.0</td><td>  0.0</td><td> 183</td><td>  5</td><td> 0</td><td>  5</td><td>22.40000</td><td> 0.00000</td><td>36.60000</td><td>0</td></tr>\n",
       "\t<tr><th scope=row>25</th><td>50</td><td>2019</td><td>0</td><td>N</td><td> 1</td><td> 3</td><td> 1</td><td> 4</td><td> 0</td><td>0</td><td>⋯</td><td> 157.0</td><td>  0.0</td><td> 303</td><td>  8</td><td> 0</td><td>  8</td><td>19.62500</td><td> 0.00000</td><td>37.87500</td><td>0</td></tr>\n",
       "\t<tr><th scope=row>26</th><td>50</td><td>2019</td><td>0</td><td>N</td><td> 2</td><td> 1</td><td> 0</td><td> 2</td><td> 0</td><td>1</td><td>⋯</td><td> 128.0</td><td> 15.0</td><td> 132</td><td>  4</td><td> 1</td><td>  3</td><td>32.00000</td><td>15.00000</td><td>44.00000</td><td>0</td></tr>\n",
       "\t<tr><th scope=row>27</th><td>50</td><td>2019</td><td>0</td><td>N</td><td> 3</td><td> 3</td><td> 0</td><td> 2</td><td> 0</td><td>1</td><td>⋯</td><td> 132.5</td><td> 11.0</td><td> 212</td><td>  6</td><td> 1</td><td>  5</td><td>22.08333</td><td>11.00000</td><td>42.40000</td><td>0</td></tr>\n",
       "\t<tr><th scope=row>28</th><td>50</td><td>2019</td><td>0</td><td>N</td><td> 4</td><td> 3</td><td> 0</td><td> 5</td><td> 1</td><td>1</td><td>⋯</td><td> 263.0</td><td> 16.0</td><td> 235</td><td> 10</td><td> 1</td><td>  9</td><td>26.30000</td><td>16.00000</td><td>26.11111</td><td>0</td></tr>\n",
       "\t<tr><th scope=row>29</th><td>50</td><td>2019</td><td>0</td><td>N</td><td> 5</td><td> 7</td><td> 0</td><td> 1</td><td> 0</td><td>1</td><td>⋯</td><td> 242.0</td><td> 15.0</td><td> 286</td><td>  9</td><td> 1</td><td>  8</td><td>26.88889</td><td>15.00000</td><td>35.75000</td><td>1</td></tr>\n",
       "\t<tr><th scope=row>30</th><td>50</td><td>2019</td><td>0</td><td>N</td><td> 6</td><td> 6</td><td> 0</td><td> 5</td><td> 0</td><td>0</td><td>⋯</td><td> 327.5</td><td>  0.0</td><td> 409</td><td> 11</td><td> 0</td><td> 11</td><td>29.77273</td><td> 0.00000</td><td>37.18182</td><td>1</td></tr>\n",
       "\t<tr><th scope=row>⋮</th><td>⋮</td><td>⋮</td><td>⋮</td><td>⋮</td><td>⋮</td><td>⋮</td><td>⋮</td><td>⋮</td><td>⋮</td><td>⋮</td><td>⋱</td><td>⋮</td><td>⋮</td><td>⋮</td><td>⋮</td><td>⋮</td><td>⋮</td><td>⋮</td><td>⋮</td><td>⋮</td><td>⋮</td></tr>\n",
       "\t<tr><th scope=row>174302</th><td>49</td><td>2018</td><td>0</td><td>N</td><td> 8</td><td>1</td><td>0</td><td>0</td><td>0</td><td>0</td><td>⋯</td><td> 11.0</td><td> 0.0</td><td> 27</td><td>1</td><td>0</td><td>1</td><td>11.00000</td><td> 0.00</td><td>27.00000</td><td>1</td></tr>\n",
       "\t<tr><th scope=row>174303</th><td>49</td><td>2018</td><td>0</td><td>N</td><td>10</td><td>1</td><td>0</td><td>0</td><td>0</td><td>0</td><td>⋯</td><td> 62.0</td><td> 0.0</td><td> 20</td><td>1</td><td>0</td><td>1</td><td>62.00000</td><td> 0.00</td><td>20.00000</td><td>1</td></tr>\n",
       "\t<tr><th scope=row>174304</th><td>49</td><td>2018</td><td>0</td><td>N</td><td>11</td><td>1</td><td>0</td><td>0</td><td>0</td><td>0</td><td>⋯</td><td>  4.5</td><td> 0.0</td><td> 52</td><td>1</td><td>0</td><td>1</td><td> 4.50000</td><td> 0.00</td><td>52.00000</td><td>0</td></tr>\n",
       "\t<tr><th scope=row>174306</th><td>49</td><td>2018</td><td>0</td><td>N</td><td> 2</td><td>1</td><td>0</td><td>0</td><td>0</td><td>0</td><td>⋯</td><td> 57.0</td><td> 0.0</td><td> 27</td><td>1</td><td>0</td><td>1</td><td>57.00000</td><td> 0.00</td><td>27.00000</td><td>0</td></tr>\n",
       "\t<tr><th scope=row>174307</th><td>49</td><td>2018</td><td>0</td><td>N</td><td> 4</td><td>0</td><td>0</td><td>0</td><td>1</td><td>0</td><td>⋯</td><td> 62.0</td><td> 0.0</td><td> 32</td><td>1</td><td>0</td><td>1</td><td>62.00000</td><td> 0.00</td><td>32.00000</td><td>0</td></tr>\n",
       "\t<tr><th scope=row>174308</th><td>49</td><td>2018</td><td>0</td><td>N</td><td> 7</td><td>1</td><td>0</td><td>0</td><td>0</td><td>0</td><td>⋯</td><td> 11.0</td><td> 0.0</td><td> 52</td><td>1</td><td>0</td><td>1</td><td>11.00000</td><td> 0.00</td><td>52.00000</td><td>1</td></tr>\n",
       "\t<tr><th scope=row>174311</th><td>49</td><td>2018</td><td>0</td><td>N</td><td> 1</td><td>1</td><td>0</td><td>0</td><td>0</td><td>0</td><td>⋯</td><td> 17.0</td><td> 0.0</td><td> 42</td><td>1</td><td>0</td><td>1</td><td>17.00000</td><td> 0.00</td><td>42.00000</td><td>0</td></tr>\n",
       "\t<tr><th scope=row>174312</th><td>49</td><td>2018</td><td>0</td><td>N</td><td> 2</td><td>0</td><td>0</td><td>0</td><td>0</td><td>1</td><td>⋯</td><td> 42.0</td><td>13.5</td><td>  0</td><td>1</td><td>1</td><td>0</td><td>42.00000</td><td>13.50</td><td> 0.00000</td><td>0</td></tr>\n",
       "\t<tr><th scope=row>174313</th><td>49</td><td>2018</td><td>0</td><td>N</td><td> 3</td><td>2</td><td>0</td><td>0</td><td>0</td><td>0</td><td>⋯</td><td> 39.0</td><td> 0.0</td><td> 76</td><td>2</td><td>0</td><td>2</td><td>19.50000</td><td> 0.00</td><td>38.00000</td><td>0</td></tr>\n",
       "\t<tr><th scope=row>174314</th><td>49</td><td>2018</td><td>0</td><td>N</td><td> 7</td><td>1</td><td>0</td><td>0</td><td>0</td><td>0</td><td>⋯</td><td> 17.0</td><td> 0.0</td><td> 19</td><td>1</td><td>0</td><td>1</td><td>17.00000</td><td> 0.00</td><td>19.00000</td><td>1</td></tr>\n",
       "\t<tr><th scope=row>174315</th><td>49</td><td>2018</td><td>0</td><td>N</td><td> 9</td><td>3</td><td>0</td><td>0</td><td>0</td><td>0</td><td>⋯</td><td> 83.0</td><td> 0.0</td><td> 99</td><td>3</td><td>0</td><td>3</td><td>27.66667</td><td> 0.00</td><td>33.00000</td><td>1</td></tr>\n",
       "\t<tr><th scope=row>174316</th><td>49</td><td>2018</td><td>0</td><td>N</td><td>11</td><td>2</td><td>2</td><td>0</td><td>0</td><td>0</td><td>⋯</td><td> 84.0</td><td> 0.0</td><td>118</td><td>4</td><td>0</td><td>4</td><td>21.00000</td><td> 0.00</td><td>29.50000</td><td>0</td></tr>\n",
       "\t<tr><th scope=row>174317</th><td>49</td><td>2018</td><td>0</td><td>N</td><td>12</td><td>2</td><td>0</td><td>0</td><td>0</td><td>0</td><td>⋯</td><td> 45.0</td><td> 0.0</td><td> 46</td><td>2</td><td>0</td><td>2</td><td>22.50000</td><td> 0.00</td><td>23.00000</td><td>0</td></tr>\n",
       "\t<tr><th scope=row>174318</th><td>49</td><td>2018</td><td>0</td><td>N</td><td> 3</td><td>1</td><td>0</td><td>0</td><td>0</td><td>1</td><td>⋯</td><td> 27.5</td><td>11.0</td><td> 32</td><td>2</td><td>1</td><td>1</td><td>13.75000</td><td>11.00</td><td>32.00000</td><td>0</td></tr>\n",
       "\t<tr><th scope=row>174319</th><td>49</td><td>2018</td><td>0</td><td>N</td><td> 6</td><td>3</td><td>0</td><td>0</td><td>0</td><td>0</td><td>⋯</td><td> 67.0</td><td> 0.0</td><td> 63</td><td>3</td><td>0</td><td>3</td><td>22.33333</td><td> 0.00</td><td>21.00000</td><td>1</td></tr>\n",
       "\t<tr><th scope=row>174320</th><td>49</td><td>2018</td><td>0</td><td>N</td><td> 1</td><td>2</td><td>0</td><td>0</td><td>0</td><td>0</td><td>⋯</td><td> 59.0</td><td> 0.0</td><td>114</td><td>2</td><td>0</td><td>2</td><td>29.50000</td><td> 0.00</td><td>57.00000</td><td>0</td></tr>\n",
       "\t<tr><th scope=row>174321</th><td>49</td><td>2018</td><td>0</td><td>N</td><td> 3</td><td>1</td><td>0</td><td>0</td><td>0</td><td>0</td><td>⋯</td><td> 27.0</td><td> 0.0</td><td> 20</td><td>1</td><td>0</td><td>1</td><td>27.00000</td><td> 0.00</td><td>20.00000</td><td>0</td></tr>\n",
       "\t<tr><th scope=row>174322</th><td>49</td><td>2018</td><td>0</td><td>N</td><td> 8</td><td>1</td><td>0</td><td>0</td><td>0</td><td>0</td><td>⋯</td><td> 42.0</td><td> 0.0</td><td> 24</td><td>1</td><td>0</td><td>1</td><td>42.00000</td><td> 0.00</td><td>24.00000</td><td>1</td></tr>\n",
       "\t<tr><th scope=row>174323</th><td>49</td><td>2018</td><td>0</td><td>N</td><td> 9</td><td>0</td><td>0</td><td>0</td><td>0</td><td>1</td><td>⋯</td><td> 20.0</td><td>17.0</td><td>  0</td><td>1</td><td>1</td><td>0</td><td>20.00000</td><td>17.00</td><td> 0.00000</td><td>1</td></tr>\n",
       "\t<tr><th scope=row>174325</th><td>49</td><td>2018</td><td>0</td><td>N</td><td> 1</td><td>0</td><td>0</td><td>2</td><td>0</td><td>0</td><td>⋯</td><td> 89.0</td><td> 0.0</td><td> 85</td><td>2</td><td>0</td><td>2</td><td>44.50000</td><td> 0.00</td><td>42.50000</td><td>0</td></tr>\n",
       "\t<tr><th scope=row>174326</th><td>49</td><td>2018</td><td>0</td><td>N</td><td> 2</td><td>0</td><td>0</td><td>4</td><td>0</td><td>0</td><td>⋯</td><td>242.0</td><td>22.5</td><td>115</td><td>6</td><td>2</td><td>4</td><td>40.33333</td><td>11.25</td><td>28.75000</td><td>0</td></tr>\n",
       "\t<tr><th scope=row>174327</th><td>49</td><td>2018</td><td>0</td><td>N</td><td> 3</td><td>0</td><td>0</td><td>3</td><td>0</td><td>0</td><td>⋯</td><td>127.0</td><td>17.0</td><td> 46</td><td>3</td><td>1</td><td>2</td><td>42.33333</td><td>17.00</td><td>23.00000</td><td>0</td></tr>\n",
       "\t<tr><th scope=row>174328</th><td>49</td><td>2018</td><td>0</td><td>N</td><td> 4</td><td>0</td><td>0</td><td>4</td><td>0</td><td>0</td><td>⋯</td><td>164.0</td><td>18.0</td><td>114</td><td>4</td><td>1</td><td>3</td><td>41.00000</td><td>18.00</td><td>38.00000</td><td>0</td></tr>\n",
       "\t<tr><th scope=row>174329</th><td>49</td><td>2018</td><td>0</td><td>N</td><td> 5</td><td>0</td><td>0</td><td>2</td><td>0</td><td>0</td><td>⋯</td><td>108.5</td><td>22.0</td><td>117</td><td>4</td><td>2</td><td>2</td><td>27.12500</td><td>11.00</td><td>58.50000</td><td>1</td></tr>\n",
       "\t<tr><th scope=row>174330</th><td>49</td><td>2018</td><td>0</td><td>N</td><td> 6</td><td>0</td><td>0</td><td>1</td><td>0</td><td>0</td><td>⋯</td><td> 20.0</td><td> 0.0</td><td> 19</td><td>1</td><td>0</td><td>1</td><td>20.00000</td><td> 0.00</td><td>19.00000</td><td>1</td></tr>\n",
       "\t<tr><th scope=row>174331</th><td>49</td><td>2018</td><td>0</td><td>N</td><td> 7</td><td>0</td><td>0</td><td>2</td><td>0</td><td>0</td><td>⋯</td><td> 44.0</td><td>27.0</td><td>  0</td><td>2</td><td>2</td><td>0</td><td>22.00000</td><td>13.50</td><td> 0.00000</td><td>1</td></tr>\n",
       "\t<tr><th scope=row>174332</th><td>49</td><td>2018</td><td>0</td><td>N</td><td> 8</td><td>0</td><td>0</td><td>3</td><td>0</td><td>0</td><td>⋯</td><td> 46.0</td><td> 0.0</td><td>167</td><td>3</td><td>0</td><td>3</td><td>15.33333</td><td> 0.00</td><td>55.66667</td><td>1</td></tr>\n",
       "\t<tr><th scope=row>174333</th><td>49</td><td>2018</td><td>0</td><td>N</td><td> 9</td><td>0</td><td>0</td><td>3</td><td>0</td><td>0</td><td>⋯</td><td> 96.0</td><td> 4.5</td><td>156</td><td>4</td><td>1</td><td>3</td><td>24.00000</td><td> 4.50</td><td>52.00000</td><td>1</td></tr>\n",
       "\t<tr><th scope=row>174334</th><td>49</td><td>2018</td><td>0</td><td>N</td><td>10</td><td>0</td><td>0</td><td>1</td><td>0</td><td>0</td><td>⋯</td><td> 17.0</td><td> 0.0</td><td> 20</td><td>1</td><td>0</td><td>1</td><td>17.00000</td><td> 0.00</td><td>20.00000</td><td>1</td></tr>\n",
       "\t<tr><th scope=row>174335</th><td>49</td><td>2018</td><td>0</td><td>N</td><td>11</td><td>0</td><td>0</td><td>1</td><td>0</td><td>0</td><td>⋯</td><td> 19.0</td><td> 0.0</td><td> 52</td><td>1</td><td>0</td><td>1</td><td>19.00000</td><td> 0.00</td><td>52.00000</td><td>0</td></tr>\n",
       "</tbody>\n",
       "</table>\n"
      ],
      "text/latex": [
       "A data.frame: 165681 × 27\n",
       "\\begin{tabular}{r|lllllllllllllllllllll}\n",
       "  & STATE & YEAR & SUB & CORE & MONTH & AW & AB & AI & AA & JW & ⋯ & Age\\_total & Age\\_juve & Age\\_adult & Total & juve & adult & avg\\_total & avg\\_juve & avg\\_adult & summer\\\\\n",
       "  & <fct> & <dbl> & <fct> & <fct> & <dbl> & <dbl> & <dbl> & <dbl> & <dbl> & <dbl> & ⋯ & <dbl> & <dbl> & <dbl> & <dbl> & <dbl> & <dbl> & <dbl> & <dbl> & <dbl> & <dbl>\\\\\n",
       "\\hline\n",
       "\t1 & 50 & 2019 & 0 & Y &  1 & 28 & 13 & 36 &  4 & 1 & ⋯ & 2016.0 & 114.0 & 2810 &  87 &  8 &  79 & 23.17241 & 14.25000 & 35.56962 & 0\\\\\n",
       "\t2 & 50 & 2019 & 0 & Y &  2 & 33 & 18 & 28 &  3 & 3 & ⋯ & 1943.0 &  66.5 & 3044 &  87 &  5 &  82 & 22.33333 & 13.30000 & 37.12195 & 0\\\\\n",
       "\t3 & 50 & 2019 & 0 & Y &  3 & 36 & 14 & 35 &  8 & 4 & ⋯ & 2374.5 &  67.0 & 3675 &  99 &  6 &  93 & 23.98485 & 11.16667 & 39.51613 & 0\\\\\n",
       "\t4 & 50 & 2019 & 0 & Y &  4 & 33 & 12 & 39 &  5 & 7 & ⋯ & 2578.0 & 165.0 & 2770 & 100 & 13 &  87 & 25.78000 & 12.69231 & 31.83908 & 0\\\\\n",
       "\t5 & 50 & 2019 & 0 & Y &  5 & 28 & 11 & 45 &  9 & 4 & ⋯ & 2676.0 & 105.5 & 3431 &  99 &  8 &  91 & 27.03030 & 13.18750 & 37.70330 & 1\\\\\n",
       "\t6 & 50 & 2019 & 0 & Y &  6 & 29 &  8 & 42 & 13 & 2 & ⋯ & 3016.5 &  64.5 & 3348 &  96 &  6 &  90 & 31.42188 & 10.75000 & 37.20000 & 1\\\\\n",
       "\t7 & 50 & 2019 & 0 & Y &  7 & 55 & 18 & 33 &  8 & 0 & ⋯ & 3794.0 & 109.5 & 3933 & 119 &  8 & 111 & 31.88235 & 13.68750 & 35.43243 & 1\\\\\n",
       "\t8 & 50 & 2019 & 0 & Y &  8 & 34 & 15 & 31 &  6 & 0 & ⋯ & 3100.0 & 103.5 & 3206 &  92 &  7 &  85 & 33.69565 & 14.78571 & 37.71765 & 1\\\\\n",
       "\t9 & 50 & 2019 & 0 & Y &  9 & 36 & 15 & 36 & 12 & 1 & ⋯ & 3705.5 &  24.0 & 4083 & 101 &  3 &  98 & 36.68812 &  8.00000 & 41.66327 & 1\\\\\n",
       "\t10 & 50 & 2019 & 0 & Y & 10 & 27 & 13 & 35 &  5 & 2 & ⋯ & 3132.0 &  86.0 & 2661 &  86 &  7 &  79 & 36.41860 & 12.28571 & 33.68354 & 1\\\\\n",
       "\t11 & 50 & 2019 & 0 & Y & 11 & 23 &  9 & 40 & 11 & 1 & ⋯ & 3653.0 &  51.5 & 2854 &  87 &  4 &  83 & 41.98851 & 12.87500 & 34.38554 & 0\\\\\n",
       "\t12 & 50 & 2019 & 0 & Y & 12 & 39 &  8 & 31 & 11 & 2 & ⋯ & 4427.0 &  62.0 & 3405 &  93 &  5 &  88 & 47.60215 & 12.40000 & 38.69318 & 0\\\\\n",
       "\t13 & 50 & 2019 & 0 & Y &  1 &  2 &  1 &  2 &  0 & 0 & ⋯ &  191.0 &   0.0 &  137 &   5 &  0 &   5 & 38.20000 &  0.00000 & 27.40000 & 0\\\\\n",
       "\t14 & 50 & 2019 & 0 & Y &  2 &  1 &  1 &  1 &  0 & 0 & ⋯ &  125.0 &   0.0 &  141 &   3 &  0 &   3 & 41.66667 &  0.00000 & 47.00000 & 0\\\\\n",
       "\t15 & 50 & 2019 & 0 & Y &  3 &  2 &  1 &  1 &  0 & 0 & ⋯ &  148.5 &   0.0 &  162 &   4 &  0 &   4 & 37.12500 &  0.00000 & 40.50000 & 0\\\\\n",
       "\t16 & 50 & 2019 & 0 & Y &  4 &  1 &  5 &  0 &  0 & 0 & ⋯ &  151.5 &   0.0 &  259 &   6 &  0 &   6 & 25.25000 &  0.00000 & 43.16667 & 0\\\\\n",
       "\t17 & 50 & 2019 & 0 & Y &  5 &  4 &  1 &  0 &  0 & 0 & ⋯ &  104.0 &   0.0 &  226 &   5 &  0 &   5 & 20.80000 &  0.00000 & 45.20000 & 1\\\\\n",
       "\t18 & 50 & 2019 & 0 & Y &  6 &  5 &  2 &  2 &  0 & 0 & ⋯ &  191.5 &  17.0 &  427 &   9 &  1 &   8 & 21.27778 & 17.00000 & 53.37500 & 1\\\\\n",
       "\t19 & 50 & 2019 & 0 & Y &  7 &  0 &  1 &  3 &  0 & 0 & ⋯ &  107.0 &   0.0 &   87 &   4 &  0 &   4 & 26.75000 &  0.00000 & 21.75000 & 1\\\\\n",
       "\t20 & 50 & 2019 & 0 & Y &  8 &  1 &  1 &  1 &  0 & 0 & ⋯ &   62.0 &   0.0 &  132 &   3 &  0 &   3 & 20.66667 &  0.00000 & 44.00000 & 1\\\\\n",
       "\t21 & 50 & 2019 & 0 & Y &  9 &  1 &  1 &  1 &  0 & 0 & ⋯ &   53.0 &   0.0 &  126 &   3 &  0 &   3 & 17.66667 &  0.00000 & 42.00000 & 1\\\\\n",
       "\t22 & 50 & 2019 & 0 & Y & 10 &  2 &  0 &  3 &  0 & 0 & ⋯ &   95.0 &   0.0 &  179 &   5 &  0 &   5 & 19.00000 &  0.00000 & 35.80000 & 1\\\\\n",
       "\t23 & 50 & 2019 & 0 & Y & 11 &  3 &  0 &  2 &  0 & 0 & ⋯ &  102.0 &   0.0 &  268 &   5 &  0 &   5 & 20.40000 &  0.00000 & 53.60000 & 0\\\\\n",
       "\t24 & 50 & 2019 & 0 & Y & 12 &  3 &  0 &  2 &  0 & 0 & ⋯ &  112.0 &   0.0 &  183 &   5 &  0 &   5 & 22.40000 &  0.00000 & 36.60000 & 0\\\\\n",
       "\t25 & 50 & 2019 & 0 & N &  1 &  3 &  1 &  4 &  0 & 0 & ⋯ &  157.0 &   0.0 &  303 &   8 &  0 &   8 & 19.62500 &  0.00000 & 37.87500 & 0\\\\\n",
       "\t26 & 50 & 2019 & 0 & N &  2 &  1 &  0 &  2 &  0 & 1 & ⋯ &  128.0 &  15.0 &  132 &   4 &  1 &   3 & 32.00000 & 15.00000 & 44.00000 & 0\\\\\n",
       "\t27 & 50 & 2019 & 0 & N &  3 &  3 &  0 &  2 &  0 & 1 & ⋯ &  132.5 &  11.0 &  212 &   6 &  1 &   5 & 22.08333 & 11.00000 & 42.40000 & 0\\\\\n",
       "\t28 & 50 & 2019 & 0 & N &  4 &  3 &  0 &  5 &  1 & 1 & ⋯ &  263.0 &  16.0 &  235 &  10 &  1 &   9 & 26.30000 & 16.00000 & 26.11111 & 0\\\\\n",
       "\t29 & 50 & 2019 & 0 & N &  5 &  7 &  0 &  1 &  0 & 1 & ⋯ &  242.0 &  15.0 &  286 &   9 &  1 &   8 & 26.88889 & 15.00000 & 35.75000 & 1\\\\\n",
       "\t30 & 50 & 2019 & 0 & N &  6 &  6 &  0 &  5 &  0 & 0 & ⋯ &  327.5 &   0.0 &  409 &  11 &  0 &  11 & 29.77273 &  0.00000 & 37.18182 & 1\\\\\n",
       "\t⋮ & ⋮ & ⋮ & ⋮ & ⋮ & ⋮ & ⋮ & ⋮ & ⋮ & ⋮ & ⋮ & ⋱ & ⋮ & ⋮ & ⋮ & ⋮ & ⋮ & ⋮ & ⋮ & ⋮ & ⋮ & ⋮\\\\\n",
       "\t174302 & 49 & 2018 & 0 & N &  8 & 1 & 0 & 0 & 0 & 0 & ⋯ &  11.0 &  0.0 &  27 & 1 & 0 & 1 & 11.00000 &  0.00 & 27.00000 & 1\\\\\n",
       "\t174303 & 49 & 2018 & 0 & N & 10 & 1 & 0 & 0 & 0 & 0 & ⋯ &  62.0 &  0.0 &  20 & 1 & 0 & 1 & 62.00000 &  0.00 & 20.00000 & 1\\\\\n",
       "\t174304 & 49 & 2018 & 0 & N & 11 & 1 & 0 & 0 & 0 & 0 & ⋯ &   4.5 &  0.0 &  52 & 1 & 0 & 1 &  4.50000 &  0.00 & 52.00000 & 0\\\\\n",
       "\t174306 & 49 & 2018 & 0 & N &  2 & 1 & 0 & 0 & 0 & 0 & ⋯ &  57.0 &  0.0 &  27 & 1 & 0 & 1 & 57.00000 &  0.00 & 27.00000 & 0\\\\\n",
       "\t174307 & 49 & 2018 & 0 & N &  4 & 0 & 0 & 0 & 1 & 0 & ⋯ &  62.0 &  0.0 &  32 & 1 & 0 & 1 & 62.00000 &  0.00 & 32.00000 & 0\\\\\n",
       "\t174308 & 49 & 2018 & 0 & N &  7 & 1 & 0 & 0 & 0 & 0 & ⋯ &  11.0 &  0.0 &  52 & 1 & 0 & 1 & 11.00000 &  0.00 & 52.00000 & 1\\\\\n",
       "\t174311 & 49 & 2018 & 0 & N &  1 & 1 & 0 & 0 & 0 & 0 & ⋯ &  17.0 &  0.0 &  42 & 1 & 0 & 1 & 17.00000 &  0.00 & 42.00000 & 0\\\\\n",
       "\t174312 & 49 & 2018 & 0 & N &  2 & 0 & 0 & 0 & 0 & 1 & ⋯ &  42.0 & 13.5 &   0 & 1 & 1 & 0 & 42.00000 & 13.50 &  0.00000 & 0\\\\\n",
       "\t174313 & 49 & 2018 & 0 & N &  3 & 2 & 0 & 0 & 0 & 0 & ⋯ &  39.0 &  0.0 &  76 & 2 & 0 & 2 & 19.50000 &  0.00 & 38.00000 & 0\\\\\n",
       "\t174314 & 49 & 2018 & 0 & N &  7 & 1 & 0 & 0 & 0 & 0 & ⋯ &  17.0 &  0.0 &  19 & 1 & 0 & 1 & 17.00000 &  0.00 & 19.00000 & 1\\\\\n",
       "\t174315 & 49 & 2018 & 0 & N &  9 & 3 & 0 & 0 & 0 & 0 & ⋯ &  83.0 &  0.0 &  99 & 3 & 0 & 3 & 27.66667 &  0.00 & 33.00000 & 1\\\\\n",
       "\t174316 & 49 & 2018 & 0 & N & 11 & 2 & 2 & 0 & 0 & 0 & ⋯ &  84.0 &  0.0 & 118 & 4 & 0 & 4 & 21.00000 &  0.00 & 29.50000 & 0\\\\\n",
       "\t174317 & 49 & 2018 & 0 & N & 12 & 2 & 0 & 0 & 0 & 0 & ⋯ &  45.0 &  0.0 &  46 & 2 & 0 & 2 & 22.50000 &  0.00 & 23.00000 & 0\\\\\n",
       "\t174318 & 49 & 2018 & 0 & N &  3 & 1 & 0 & 0 & 0 & 1 & ⋯ &  27.5 & 11.0 &  32 & 2 & 1 & 1 & 13.75000 & 11.00 & 32.00000 & 0\\\\\n",
       "\t174319 & 49 & 2018 & 0 & N &  6 & 3 & 0 & 0 & 0 & 0 & ⋯ &  67.0 &  0.0 &  63 & 3 & 0 & 3 & 22.33333 &  0.00 & 21.00000 & 1\\\\\n",
       "\t174320 & 49 & 2018 & 0 & N &  1 & 2 & 0 & 0 & 0 & 0 & ⋯ &  59.0 &  0.0 & 114 & 2 & 0 & 2 & 29.50000 &  0.00 & 57.00000 & 0\\\\\n",
       "\t174321 & 49 & 2018 & 0 & N &  3 & 1 & 0 & 0 & 0 & 0 & ⋯ &  27.0 &  0.0 &  20 & 1 & 0 & 1 & 27.00000 &  0.00 & 20.00000 & 0\\\\\n",
       "\t174322 & 49 & 2018 & 0 & N &  8 & 1 & 0 & 0 & 0 & 0 & ⋯ &  42.0 &  0.0 &  24 & 1 & 0 & 1 & 42.00000 &  0.00 & 24.00000 & 1\\\\\n",
       "\t174323 & 49 & 2018 & 0 & N &  9 & 0 & 0 & 0 & 0 & 1 & ⋯ &  20.0 & 17.0 &   0 & 1 & 1 & 0 & 20.00000 & 17.00 &  0.00000 & 1\\\\\n",
       "\t174325 & 49 & 2018 & 0 & N &  1 & 0 & 0 & 2 & 0 & 0 & ⋯ &  89.0 &  0.0 &  85 & 2 & 0 & 2 & 44.50000 &  0.00 & 42.50000 & 0\\\\\n",
       "\t174326 & 49 & 2018 & 0 & N &  2 & 0 & 0 & 4 & 0 & 0 & ⋯ & 242.0 & 22.5 & 115 & 6 & 2 & 4 & 40.33333 & 11.25 & 28.75000 & 0\\\\\n",
       "\t174327 & 49 & 2018 & 0 & N &  3 & 0 & 0 & 3 & 0 & 0 & ⋯ & 127.0 & 17.0 &  46 & 3 & 1 & 2 & 42.33333 & 17.00 & 23.00000 & 0\\\\\n",
       "\t174328 & 49 & 2018 & 0 & N &  4 & 0 & 0 & 4 & 0 & 0 & ⋯ & 164.0 & 18.0 & 114 & 4 & 1 & 3 & 41.00000 & 18.00 & 38.00000 & 0\\\\\n",
       "\t174329 & 49 & 2018 & 0 & N &  5 & 0 & 0 & 2 & 0 & 0 & ⋯ & 108.5 & 22.0 & 117 & 4 & 2 & 2 & 27.12500 & 11.00 & 58.50000 & 1\\\\\n",
       "\t174330 & 49 & 2018 & 0 & N &  6 & 0 & 0 & 1 & 0 & 0 & ⋯ &  20.0 &  0.0 &  19 & 1 & 0 & 1 & 20.00000 &  0.00 & 19.00000 & 1\\\\\n",
       "\t174331 & 49 & 2018 & 0 & N &  7 & 0 & 0 & 2 & 0 & 0 & ⋯ &  44.0 & 27.0 &   0 & 2 & 2 & 0 & 22.00000 & 13.50 &  0.00000 & 1\\\\\n",
       "\t174332 & 49 & 2018 & 0 & N &  8 & 0 & 0 & 3 & 0 & 0 & ⋯ &  46.0 &  0.0 & 167 & 3 & 0 & 3 & 15.33333 &  0.00 & 55.66667 & 1\\\\\n",
       "\t174333 & 49 & 2018 & 0 & N &  9 & 0 & 0 & 3 & 0 & 0 & ⋯ &  96.0 &  4.5 & 156 & 4 & 1 & 3 & 24.00000 &  4.50 & 52.00000 & 1\\\\\n",
       "\t174334 & 49 & 2018 & 0 & N & 10 & 0 & 0 & 1 & 0 & 0 & ⋯ &  17.0 &  0.0 &  20 & 1 & 0 & 1 & 17.00000 &  0.00 & 20.00000 & 1\\\\\n",
       "\t174335 & 49 & 2018 & 0 & N & 11 & 0 & 0 & 1 & 0 & 0 & ⋯ &  19.0 &  0.0 &  52 & 1 & 0 & 1 & 19.00000 &  0.00 & 52.00000 & 0\\\\\n",
       "\\end{tabular}\n"
      ],
      "text/markdown": [
       "\n",
       "A data.frame: 165681 × 27\n",
       "\n",
       "| <!--/--> | STATE &lt;fct&gt; | YEAR &lt;dbl&gt; | SUB &lt;fct&gt; | CORE &lt;fct&gt; | MONTH &lt;dbl&gt; | AW &lt;dbl&gt; | AB &lt;dbl&gt; | AI &lt;dbl&gt; | AA &lt;dbl&gt; | JW &lt;dbl&gt; | ⋯ ⋯ | Age_total &lt;dbl&gt; | Age_juve &lt;dbl&gt; | Age_adult &lt;dbl&gt; | Total &lt;dbl&gt; | juve &lt;dbl&gt; | adult &lt;dbl&gt; | avg_total &lt;dbl&gt; | avg_juve &lt;dbl&gt; | avg_adult &lt;dbl&gt; | summer &lt;dbl&gt; |\n",
       "|---|---|---|---|---|---|---|---|---|---|---|---|---|---|---|---|---|---|---|---|---|---|\n",
       "| 1 | 50 | 2019 | 0 | Y |  1 | 28 | 13 | 36 |  4 | 1 | ⋯ | 2016.0 | 114.0 | 2810 |  87 |  8 |  79 | 23.17241 | 14.25000 | 35.56962 | 0 |\n",
       "| 2 | 50 | 2019 | 0 | Y |  2 | 33 | 18 | 28 |  3 | 3 | ⋯ | 1943.0 |  66.5 | 3044 |  87 |  5 |  82 | 22.33333 | 13.30000 | 37.12195 | 0 |\n",
       "| 3 | 50 | 2019 | 0 | Y |  3 | 36 | 14 | 35 |  8 | 4 | ⋯ | 2374.5 |  67.0 | 3675 |  99 |  6 |  93 | 23.98485 | 11.16667 | 39.51613 | 0 |\n",
       "| 4 | 50 | 2019 | 0 | Y |  4 | 33 | 12 | 39 |  5 | 7 | ⋯ | 2578.0 | 165.0 | 2770 | 100 | 13 |  87 | 25.78000 | 12.69231 | 31.83908 | 0 |\n",
       "| 5 | 50 | 2019 | 0 | Y |  5 | 28 | 11 | 45 |  9 | 4 | ⋯ | 2676.0 | 105.5 | 3431 |  99 |  8 |  91 | 27.03030 | 13.18750 | 37.70330 | 1 |\n",
       "| 6 | 50 | 2019 | 0 | Y |  6 | 29 |  8 | 42 | 13 | 2 | ⋯ | 3016.5 |  64.5 | 3348 |  96 |  6 |  90 | 31.42188 | 10.75000 | 37.20000 | 1 |\n",
       "| 7 | 50 | 2019 | 0 | Y |  7 | 55 | 18 | 33 |  8 | 0 | ⋯ | 3794.0 | 109.5 | 3933 | 119 |  8 | 111 | 31.88235 | 13.68750 | 35.43243 | 1 |\n",
       "| 8 | 50 | 2019 | 0 | Y |  8 | 34 | 15 | 31 |  6 | 0 | ⋯ | 3100.0 | 103.5 | 3206 |  92 |  7 |  85 | 33.69565 | 14.78571 | 37.71765 | 1 |\n",
       "| 9 | 50 | 2019 | 0 | Y |  9 | 36 | 15 | 36 | 12 | 1 | ⋯ | 3705.5 |  24.0 | 4083 | 101 |  3 |  98 | 36.68812 |  8.00000 | 41.66327 | 1 |\n",
       "| 10 | 50 | 2019 | 0 | Y | 10 | 27 | 13 | 35 |  5 | 2 | ⋯ | 3132.0 |  86.0 | 2661 |  86 |  7 |  79 | 36.41860 | 12.28571 | 33.68354 | 1 |\n",
       "| 11 | 50 | 2019 | 0 | Y | 11 | 23 |  9 | 40 | 11 | 1 | ⋯ | 3653.0 |  51.5 | 2854 |  87 |  4 |  83 | 41.98851 | 12.87500 | 34.38554 | 0 |\n",
       "| 12 | 50 | 2019 | 0 | Y | 12 | 39 |  8 | 31 | 11 | 2 | ⋯ | 4427.0 |  62.0 | 3405 |  93 |  5 |  88 | 47.60215 | 12.40000 | 38.69318 | 0 |\n",
       "| 13 | 50 | 2019 | 0 | Y |  1 |  2 |  1 |  2 |  0 | 0 | ⋯ |  191.0 |   0.0 |  137 |   5 |  0 |   5 | 38.20000 |  0.00000 | 27.40000 | 0 |\n",
       "| 14 | 50 | 2019 | 0 | Y |  2 |  1 |  1 |  1 |  0 | 0 | ⋯ |  125.0 |   0.0 |  141 |   3 |  0 |   3 | 41.66667 |  0.00000 | 47.00000 | 0 |\n",
       "| 15 | 50 | 2019 | 0 | Y |  3 |  2 |  1 |  1 |  0 | 0 | ⋯ |  148.5 |   0.0 |  162 |   4 |  0 |   4 | 37.12500 |  0.00000 | 40.50000 | 0 |\n",
       "| 16 | 50 | 2019 | 0 | Y |  4 |  1 |  5 |  0 |  0 | 0 | ⋯ |  151.5 |   0.0 |  259 |   6 |  0 |   6 | 25.25000 |  0.00000 | 43.16667 | 0 |\n",
       "| 17 | 50 | 2019 | 0 | Y |  5 |  4 |  1 |  0 |  0 | 0 | ⋯ |  104.0 |   0.0 |  226 |   5 |  0 |   5 | 20.80000 |  0.00000 | 45.20000 | 1 |\n",
       "| 18 | 50 | 2019 | 0 | Y |  6 |  5 |  2 |  2 |  0 | 0 | ⋯ |  191.5 |  17.0 |  427 |   9 |  1 |   8 | 21.27778 | 17.00000 | 53.37500 | 1 |\n",
       "| 19 | 50 | 2019 | 0 | Y |  7 |  0 |  1 |  3 |  0 | 0 | ⋯ |  107.0 |   0.0 |   87 |   4 |  0 |   4 | 26.75000 |  0.00000 | 21.75000 | 1 |\n",
       "| 20 | 50 | 2019 | 0 | Y |  8 |  1 |  1 |  1 |  0 | 0 | ⋯ |   62.0 |   0.0 |  132 |   3 |  0 |   3 | 20.66667 |  0.00000 | 44.00000 | 1 |\n",
       "| 21 | 50 | 2019 | 0 | Y |  9 |  1 |  1 |  1 |  0 | 0 | ⋯ |   53.0 |   0.0 |  126 |   3 |  0 |   3 | 17.66667 |  0.00000 | 42.00000 | 1 |\n",
       "| 22 | 50 | 2019 | 0 | Y | 10 |  2 |  0 |  3 |  0 | 0 | ⋯ |   95.0 |   0.0 |  179 |   5 |  0 |   5 | 19.00000 |  0.00000 | 35.80000 | 1 |\n",
       "| 23 | 50 | 2019 | 0 | Y | 11 |  3 |  0 |  2 |  0 | 0 | ⋯ |  102.0 |   0.0 |  268 |   5 |  0 |   5 | 20.40000 |  0.00000 | 53.60000 | 0 |\n",
       "| 24 | 50 | 2019 | 0 | Y | 12 |  3 |  0 |  2 |  0 | 0 | ⋯ |  112.0 |   0.0 |  183 |   5 |  0 |   5 | 22.40000 |  0.00000 | 36.60000 | 0 |\n",
       "| 25 | 50 | 2019 | 0 | N |  1 |  3 |  1 |  4 |  0 | 0 | ⋯ |  157.0 |   0.0 |  303 |   8 |  0 |   8 | 19.62500 |  0.00000 | 37.87500 | 0 |\n",
       "| 26 | 50 | 2019 | 0 | N |  2 |  1 |  0 |  2 |  0 | 1 | ⋯ |  128.0 |  15.0 |  132 |   4 |  1 |   3 | 32.00000 | 15.00000 | 44.00000 | 0 |\n",
       "| 27 | 50 | 2019 | 0 | N |  3 |  3 |  0 |  2 |  0 | 1 | ⋯ |  132.5 |  11.0 |  212 |   6 |  1 |   5 | 22.08333 | 11.00000 | 42.40000 | 0 |\n",
       "| 28 | 50 | 2019 | 0 | N |  4 |  3 |  0 |  5 |  1 | 1 | ⋯ |  263.0 |  16.0 |  235 |  10 |  1 |   9 | 26.30000 | 16.00000 | 26.11111 | 0 |\n",
       "| 29 | 50 | 2019 | 0 | N |  5 |  7 |  0 |  1 |  0 | 1 | ⋯ |  242.0 |  15.0 |  286 |   9 |  1 |   8 | 26.88889 | 15.00000 | 35.75000 | 1 |\n",
       "| 30 | 50 | 2019 | 0 | N |  6 |  6 |  0 |  5 |  0 | 0 | ⋯ |  327.5 |   0.0 |  409 |  11 |  0 |  11 | 29.77273 |  0.00000 | 37.18182 | 1 |\n",
       "| ⋮ | ⋮ | ⋮ | ⋮ | ⋮ | ⋮ | ⋮ | ⋮ | ⋮ | ⋮ | ⋮ | ⋱ | ⋮ | ⋮ | ⋮ | ⋮ | ⋮ | ⋮ | ⋮ | ⋮ | ⋮ | ⋮ |\n",
       "| 174302 | 49 | 2018 | 0 | N |  8 | 1 | 0 | 0 | 0 | 0 | ⋯ |  11.0 |  0.0 |  27 | 1 | 0 | 1 | 11.00000 |  0.00 | 27.00000 | 1 |\n",
       "| 174303 | 49 | 2018 | 0 | N | 10 | 1 | 0 | 0 | 0 | 0 | ⋯ |  62.0 |  0.0 |  20 | 1 | 0 | 1 | 62.00000 |  0.00 | 20.00000 | 1 |\n",
       "| 174304 | 49 | 2018 | 0 | N | 11 | 1 | 0 | 0 | 0 | 0 | ⋯ |   4.5 |  0.0 |  52 | 1 | 0 | 1 |  4.50000 |  0.00 | 52.00000 | 0 |\n",
       "| 174306 | 49 | 2018 | 0 | N |  2 | 1 | 0 | 0 | 0 | 0 | ⋯ |  57.0 |  0.0 |  27 | 1 | 0 | 1 | 57.00000 |  0.00 | 27.00000 | 0 |\n",
       "| 174307 | 49 | 2018 | 0 | N |  4 | 0 | 0 | 0 | 1 | 0 | ⋯ |  62.0 |  0.0 |  32 | 1 | 0 | 1 | 62.00000 |  0.00 | 32.00000 | 0 |\n",
       "| 174308 | 49 | 2018 | 0 | N |  7 | 1 | 0 | 0 | 0 | 0 | ⋯ |  11.0 |  0.0 |  52 | 1 | 0 | 1 | 11.00000 |  0.00 | 52.00000 | 1 |\n",
       "| 174311 | 49 | 2018 | 0 | N |  1 | 1 | 0 | 0 | 0 | 0 | ⋯ |  17.0 |  0.0 |  42 | 1 | 0 | 1 | 17.00000 |  0.00 | 42.00000 | 0 |\n",
       "| 174312 | 49 | 2018 | 0 | N |  2 | 0 | 0 | 0 | 0 | 1 | ⋯ |  42.0 | 13.5 |   0 | 1 | 1 | 0 | 42.00000 | 13.50 |  0.00000 | 0 |\n",
       "| 174313 | 49 | 2018 | 0 | N |  3 | 2 | 0 | 0 | 0 | 0 | ⋯ |  39.0 |  0.0 |  76 | 2 | 0 | 2 | 19.50000 |  0.00 | 38.00000 | 0 |\n",
       "| 174314 | 49 | 2018 | 0 | N |  7 | 1 | 0 | 0 | 0 | 0 | ⋯ |  17.0 |  0.0 |  19 | 1 | 0 | 1 | 17.00000 |  0.00 | 19.00000 | 1 |\n",
       "| 174315 | 49 | 2018 | 0 | N |  9 | 3 | 0 | 0 | 0 | 0 | ⋯ |  83.0 |  0.0 |  99 | 3 | 0 | 3 | 27.66667 |  0.00 | 33.00000 | 1 |\n",
       "| 174316 | 49 | 2018 | 0 | N | 11 | 2 | 2 | 0 | 0 | 0 | ⋯ |  84.0 |  0.0 | 118 | 4 | 0 | 4 | 21.00000 |  0.00 | 29.50000 | 0 |\n",
       "| 174317 | 49 | 2018 | 0 | N | 12 | 2 | 0 | 0 | 0 | 0 | ⋯ |  45.0 |  0.0 |  46 | 2 | 0 | 2 | 22.50000 |  0.00 | 23.00000 | 0 |\n",
       "| 174318 | 49 | 2018 | 0 | N |  3 | 1 | 0 | 0 | 0 | 1 | ⋯ |  27.5 | 11.0 |  32 | 2 | 1 | 1 | 13.75000 | 11.00 | 32.00000 | 0 |\n",
       "| 174319 | 49 | 2018 | 0 | N |  6 | 3 | 0 | 0 | 0 | 0 | ⋯ |  67.0 |  0.0 |  63 | 3 | 0 | 3 | 22.33333 |  0.00 | 21.00000 | 1 |\n",
       "| 174320 | 49 | 2018 | 0 | N |  1 | 2 | 0 | 0 | 0 | 0 | ⋯ |  59.0 |  0.0 | 114 | 2 | 0 | 2 | 29.50000 |  0.00 | 57.00000 | 0 |\n",
       "| 174321 | 49 | 2018 | 0 | N |  3 | 1 | 0 | 0 | 0 | 0 | ⋯ |  27.0 |  0.0 |  20 | 1 | 0 | 1 | 27.00000 |  0.00 | 20.00000 | 0 |\n",
       "| 174322 | 49 | 2018 | 0 | N |  8 | 1 | 0 | 0 | 0 | 0 | ⋯ |  42.0 |  0.0 |  24 | 1 | 0 | 1 | 42.00000 |  0.00 | 24.00000 | 1 |\n",
       "| 174323 | 49 | 2018 | 0 | N |  9 | 0 | 0 | 0 | 0 | 1 | ⋯ |  20.0 | 17.0 |   0 | 1 | 1 | 0 | 20.00000 | 17.00 |  0.00000 | 1 |\n",
       "| 174325 | 49 | 2018 | 0 | N |  1 | 0 | 0 | 2 | 0 | 0 | ⋯ |  89.0 |  0.0 |  85 | 2 | 0 | 2 | 44.50000 |  0.00 | 42.50000 | 0 |\n",
       "| 174326 | 49 | 2018 | 0 | N |  2 | 0 | 0 | 4 | 0 | 0 | ⋯ | 242.0 | 22.5 | 115 | 6 | 2 | 4 | 40.33333 | 11.25 | 28.75000 | 0 |\n",
       "| 174327 | 49 | 2018 | 0 | N |  3 | 0 | 0 | 3 | 0 | 0 | ⋯ | 127.0 | 17.0 |  46 | 3 | 1 | 2 | 42.33333 | 17.00 | 23.00000 | 0 |\n",
       "| 174328 | 49 | 2018 | 0 | N |  4 | 0 | 0 | 4 | 0 | 0 | ⋯ | 164.0 | 18.0 | 114 | 4 | 1 | 3 | 41.00000 | 18.00 | 38.00000 | 0 |\n",
       "| 174329 | 49 | 2018 | 0 | N |  5 | 0 | 0 | 2 | 0 | 0 | ⋯ | 108.5 | 22.0 | 117 | 4 | 2 | 2 | 27.12500 | 11.00 | 58.50000 | 1 |\n",
       "| 174330 | 49 | 2018 | 0 | N |  6 | 0 | 0 | 1 | 0 | 0 | ⋯ |  20.0 |  0.0 |  19 | 1 | 0 | 1 | 20.00000 |  0.00 | 19.00000 | 1 |\n",
       "| 174331 | 49 | 2018 | 0 | N |  7 | 0 | 0 | 2 | 0 | 0 | ⋯ |  44.0 | 27.0 |   0 | 2 | 2 | 0 | 22.00000 | 13.50 |  0.00000 | 1 |\n",
       "| 174332 | 49 | 2018 | 0 | N |  8 | 0 | 0 | 3 | 0 | 0 | ⋯ |  46.0 |  0.0 | 167 | 3 | 0 | 3 | 15.33333 |  0.00 | 55.66667 | 1 |\n",
       "| 174333 | 49 | 2018 | 0 | N |  9 | 0 | 0 | 3 | 0 | 0 | ⋯ |  96.0 |  4.5 | 156 | 4 | 1 | 3 | 24.00000 |  4.50 | 52.00000 | 1 |\n",
       "| 174334 | 49 | 2018 | 0 | N | 10 | 0 | 0 | 1 | 0 | 0 | ⋯ |  17.0 |  0.0 |  20 | 1 | 0 | 1 | 17.00000 |  0.00 | 20.00000 | 1 |\n",
       "| 174335 | 49 | 2018 | 0 | N | 11 | 0 | 0 | 1 | 0 | 0 | ⋯ |  19.0 |  0.0 |  52 | 1 | 0 | 1 | 19.00000 |  0.00 | 52.00000 | 0 |\n",
       "\n"
      ],
      "text/plain": [
       "       STATE YEAR SUB CORE MONTH AW AB AI AA JW ⋯ Age_total Age_juve Age_adult\n",
       "1      50    2019 0   Y     1    28 13 36  4 1  ⋯ 2016.0    114.0    2810     \n",
       "2      50    2019 0   Y     2    33 18 28  3 3  ⋯ 1943.0     66.5    3044     \n",
       "3      50    2019 0   Y     3    36 14 35  8 4  ⋯ 2374.5     67.0    3675     \n",
       "4      50    2019 0   Y     4    33 12 39  5 7  ⋯ 2578.0    165.0    2770     \n",
       "5      50    2019 0   Y     5    28 11 45  9 4  ⋯ 2676.0    105.5    3431     \n",
       "6      50    2019 0   Y     6    29  8 42 13 2  ⋯ 3016.5     64.5    3348     \n",
       "7      50    2019 0   Y     7    55 18 33  8 0  ⋯ 3794.0    109.5    3933     \n",
       "8      50    2019 0   Y     8    34 15 31  6 0  ⋯ 3100.0    103.5    3206     \n",
       "9      50    2019 0   Y     9    36 15 36 12 1  ⋯ 3705.5     24.0    4083     \n",
       "10     50    2019 0   Y    10    27 13 35  5 2  ⋯ 3132.0     86.0    2661     \n",
       "11     50    2019 0   Y    11    23  9 40 11 1  ⋯ 3653.0     51.5    2854     \n",
       "12     50    2019 0   Y    12    39  8 31 11 2  ⋯ 4427.0     62.0    3405     \n",
       "13     50    2019 0   Y     1     2  1  2  0 0  ⋯  191.0      0.0     137     \n",
       "14     50    2019 0   Y     2     1  1  1  0 0  ⋯  125.0      0.0     141     \n",
       "15     50    2019 0   Y     3     2  1  1  0 0  ⋯  148.5      0.0     162     \n",
       "16     50    2019 0   Y     4     1  5  0  0 0  ⋯  151.5      0.0     259     \n",
       "17     50    2019 0   Y     5     4  1  0  0 0  ⋯  104.0      0.0     226     \n",
       "18     50    2019 0   Y     6     5  2  2  0 0  ⋯  191.5     17.0     427     \n",
       "19     50    2019 0   Y     7     0  1  3  0 0  ⋯  107.0      0.0      87     \n",
       "20     50    2019 0   Y     8     1  1  1  0 0  ⋯   62.0      0.0     132     \n",
       "21     50    2019 0   Y     9     1  1  1  0 0  ⋯   53.0      0.0     126     \n",
       "22     50    2019 0   Y    10     2  0  3  0 0  ⋯   95.0      0.0     179     \n",
       "23     50    2019 0   Y    11     3  0  2  0 0  ⋯  102.0      0.0     268     \n",
       "24     50    2019 0   Y    12     3  0  2  0 0  ⋯  112.0      0.0     183     \n",
       "25     50    2019 0   N     1     3  1  4  0 0  ⋯  157.0      0.0     303     \n",
       "26     50    2019 0   N     2     1  0  2  0 1  ⋯  128.0     15.0     132     \n",
       "27     50    2019 0   N     3     3  0  2  0 1  ⋯  132.5     11.0     212     \n",
       "28     50    2019 0   N     4     3  0  5  1 1  ⋯  263.0     16.0     235     \n",
       "29     50    2019 0   N     5     7  0  1  0 1  ⋯  242.0     15.0     286     \n",
       "30     50    2019 0   N     6     6  0  5  0 0  ⋯  327.5      0.0     409     \n",
       "⋮      ⋮     ⋮    ⋮   ⋮    ⋮     ⋮  ⋮  ⋮  ⋮  ⋮  ⋱ ⋮         ⋮        ⋮        \n",
       "174302 49    2018 0   N     8    1  0  0  0  0  ⋯  11.0      0.0      27      \n",
       "174303 49    2018 0   N    10    1  0  0  0  0  ⋯  62.0      0.0      20      \n",
       "174304 49    2018 0   N    11    1  0  0  0  0  ⋯   4.5      0.0      52      \n",
       "174306 49    2018 0   N     2    1  0  0  0  0  ⋯  57.0      0.0      27      \n",
       "174307 49    2018 0   N     4    0  0  0  1  0  ⋯  62.0      0.0      32      \n",
       "174308 49    2018 0   N     7    1  0  0  0  0  ⋯  11.0      0.0      52      \n",
       "174311 49    2018 0   N     1    1  0  0  0  0  ⋯  17.0      0.0      42      \n",
       "174312 49    2018 0   N     2    0  0  0  0  1  ⋯  42.0     13.5       0      \n",
       "174313 49    2018 0   N     3    2  0  0  0  0  ⋯  39.0      0.0      76      \n",
       "174314 49    2018 0   N     7    1  0  0  0  0  ⋯  17.0      0.0      19      \n",
       "174315 49    2018 0   N     9    3  0  0  0  0  ⋯  83.0      0.0      99      \n",
       "174316 49    2018 0   N    11    2  2  0  0  0  ⋯  84.0      0.0     118      \n",
       "174317 49    2018 0   N    12    2  0  0  0  0  ⋯  45.0      0.0      46      \n",
       "174318 49    2018 0   N     3    1  0  0  0  1  ⋯  27.5     11.0      32      \n",
       "174319 49    2018 0   N     6    3  0  0  0  0  ⋯  67.0      0.0      63      \n",
       "174320 49    2018 0   N     1    2  0  0  0  0  ⋯  59.0      0.0     114      \n",
       "174321 49    2018 0   N     3    1  0  0  0  0  ⋯  27.0      0.0      20      \n",
       "174322 49    2018 0   N     8    1  0  0  0  0  ⋯  42.0      0.0      24      \n",
       "174323 49    2018 0   N     9    0  0  0  0  1  ⋯  20.0     17.0       0      \n",
       "174325 49    2018 0   N     1    0  0  2  0  0  ⋯  89.0      0.0      85      \n",
       "174326 49    2018 0   N     2    0  0  4  0  0  ⋯ 242.0     22.5     115      \n",
       "174327 49    2018 0   N     3    0  0  3  0  0  ⋯ 127.0     17.0      46      \n",
       "174328 49    2018 0   N     4    0  0  4  0  0  ⋯ 164.0     18.0     114      \n",
       "174329 49    2018 0   N     5    0  0  2  0  0  ⋯ 108.5     22.0     117      \n",
       "174330 49    2018 0   N     6    0  0  1  0  0  ⋯  20.0      0.0      19      \n",
       "174331 49    2018 0   N     7    0  0  2  0  0  ⋯  44.0     27.0       0      \n",
       "174332 49    2018 0   N     8    0  0  3  0  0  ⋯  46.0      0.0     167      \n",
       "174333 49    2018 0   N     9    0  0  3  0  0  ⋯  96.0      4.5     156      \n",
       "174334 49    2018 0   N    10    0  0  1  0  0  ⋯  17.0      0.0      20      \n",
       "174335 49    2018 0   N    11    0  0  1  0  0  ⋯  19.0      0.0      52      \n",
       "       Total juve adult avg_total avg_juve avg_adult summer\n",
       "1       87    8    79   23.17241  14.25000 35.56962  0     \n",
       "2       87    5    82   22.33333  13.30000 37.12195  0     \n",
       "3       99    6    93   23.98485  11.16667 39.51613  0     \n",
       "4      100   13    87   25.78000  12.69231 31.83908  0     \n",
       "5       99    8    91   27.03030  13.18750 37.70330  1     \n",
       "6       96    6    90   31.42188  10.75000 37.20000  1     \n",
       "7      119    8   111   31.88235  13.68750 35.43243  1     \n",
       "8       92    7    85   33.69565  14.78571 37.71765  1     \n",
       "9      101    3    98   36.68812   8.00000 41.66327  1     \n",
       "10      86    7    79   36.41860  12.28571 33.68354  1     \n",
       "11      87    4    83   41.98851  12.87500 34.38554  0     \n",
       "12      93    5    88   47.60215  12.40000 38.69318  0     \n",
       "13       5    0     5   38.20000   0.00000 27.40000  0     \n",
       "14       3    0     3   41.66667   0.00000 47.00000  0     \n",
       "15       4    0     4   37.12500   0.00000 40.50000  0     \n",
       "16       6    0     6   25.25000   0.00000 43.16667  0     \n",
       "17       5    0     5   20.80000   0.00000 45.20000  1     \n",
       "18       9    1     8   21.27778  17.00000 53.37500  1     \n",
       "19       4    0     4   26.75000   0.00000 21.75000  1     \n",
       "20       3    0     3   20.66667   0.00000 44.00000  1     \n",
       "21       3    0     3   17.66667   0.00000 42.00000  1     \n",
       "22       5    0     5   19.00000   0.00000 35.80000  1     \n",
       "23       5    0     5   20.40000   0.00000 53.60000  0     \n",
       "24       5    0     5   22.40000   0.00000 36.60000  0     \n",
       "25       8    0     8   19.62500   0.00000 37.87500  0     \n",
       "26       4    1     3   32.00000  15.00000 44.00000  0     \n",
       "27       6    1     5   22.08333  11.00000 42.40000  0     \n",
       "28      10    1     9   26.30000  16.00000 26.11111  0     \n",
       "29       9    1     8   26.88889  15.00000 35.75000  1     \n",
       "30      11    0    11   29.77273   0.00000 37.18182  1     \n",
       "⋮      ⋮     ⋮    ⋮     ⋮         ⋮        ⋮         ⋮     \n",
       "174302 1     0    1     11.00000   0.00    27.00000  1     \n",
       "174303 1     0    1     62.00000   0.00    20.00000  1     \n",
       "174304 1     0    1      4.50000   0.00    52.00000  0     \n",
       "174306 1     0    1     57.00000   0.00    27.00000  0     \n",
       "174307 1     0    1     62.00000   0.00    32.00000  0     \n",
       "174308 1     0    1     11.00000   0.00    52.00000  1     \n",
       "174311 1     0    1     17.00000   0.00    42.00000  0     \n",
       "174312 1     1    0     42.00000  13.50     0.00000  0     \n",
       "174313 2     0    2     19.50000   0.00    38.00000  0     \n",
       "174314 1     0    1     17.00000   0.00    19.00000  1     \n",
       "174315 3     0    3     27.66667   0.00    33.00000  1     \n",
       "174316 4     0    4     21.00000   0.00    29.50000  0     \n",
       "174317 2     0    2     22.50000   0.00    23.00000  0     \n",
       "174318 2     1    1     13.75000  11.00    32.00000  0     \n",
       "174319 3     0    3     22.33333   0.00    21.00000  1     \n",
       "174320 2     0    2     29.50000   0.00    57.00000  0     \n",
       "174321 1     0    1     27.00000   0.00    20.00000  0     \n",
       "174322 1     0    1     42.00000   0.00    24.00000  1     \n",
       "174323 1     1    0     20.00000  17.00     0.00000  1     \n",
       "174325 2     0    2     44.50000   0.00    42.50000  0     \n",
       "174326 6     2    4     40.33333  11.25    28.75000  0     \n",
       "174327 3     1    2     42.33333  17.00    23.00000  0     \n",
       "174328 4     1    3     41.00000  18.00    38.00000  0     \n",
       "174329 4     2    2     27.12500  11.00    58.50000  1     \n",
       "174330 1     0    1     20.00000   0.00    19.00000  1     \n",
       "174331 2     2    0     22.00000  13.50     0.00000  1     \n",
       "174332 3     0    3     15.33333   0.00    55.66667  1     \n",
       "174333 4     1    3     24.00000   4.50    52.00000  1     \n",
       "174334 1     0    1     17.00000   0.00    20.00000  1     \n",
       "174335 1     0    1     19.00000   0.00    52.00000  0     "
      ]
     },
     "metadata": {},
     "output_type": "display_data"
    }
   ],
   "source": [
    "combined_df"
   ]
  },
  {
   "cell_type": "code",
   "execution_count": 324,
   "id": "883924ab",
   "metadata": {},
   "outputs": [
    {
     "data": {
      "text/plain": [
       "\n",
       "Call:\n",
       "lm(formula = AW ~ STATE + YEAR + SUB + CORE + MONTH + avg_total + \n",
       "    avg_adult + summer + AB + AI + AA + AH, data = combined_df)\n",
       "\n",
       "Residuals:\n",
       "    Min      1Q  Median      3Q     Max \n",
       "-543.93   -1.36   -0.18    0.91  408.18 \n",
       "\n",
       "Coefficients:\n",
       "              Estimate Std. Error t value Pr(>|t|)    \n",
       "(Intercept)  9.430e+01  4.861e+01   1.940 0.052388 .  \n",
       "STATE2       4.119e+00  2.087e-01  19.738  < 2e-16 ***\n",
       "STATE3       6.099e-01  1.877e-01   3.250 0.001153 ** \n",
       "STATE4       6.700e+00  1.430e-01  46.838  < 2e-16 ***\n",
       "STATE5       3.246e+00  1.998e-01  16.245  < 2e-16 ***\n",
       "STATE6       4.025e-01  2.462e-01   1.635 0.102047    \n",
       "STATE7      -8.456e-02  3.438e-01  -0.246 0.805690    \n",
       "STATE8      -2.234e+00  1.391e+00  -1.606 0.108335    \n",
       "STATE9       7.805e-02  1.458e+00   0.054 0.957314    \n",
       "STATE10     -2.483e-01  1.650e-01  -1.505 0.132326    \n",
       "STATE11      1.675e+00  2.458e-01   6.813 9.58e-12 ***\n",
       "STATE12     -2.824e+01  1.309e+00 -21.584  < 2e-16 ***\n",
       "STATE13      1.516e+00  1.987e-01   7.630 2.35e-14 ***\n",
       "STATE14      1.260e+00  1.886e-01   6.682 2.36e-11 ***\n",
       "STATE15      1.068e+00  2.296e-01   4.654 3.26e-06 ***\n",
       "STATE16      7.029e-01  2.193e-01   3.205 0.001350 ** \n",
       "STATE17     -8.788e-01  1.853e-01  -4.742 2.12e-06 ***\n",
       "STATE18      7.830e-01  2.840e-01   2.757 0.005829 ** \n",
       "STATE19     -4.311e-01  2.171e-01  -1.985 0.047115 *  \n",
       "STATE20      1.375e+00  1.739e-01   7.908 2.63e-15 ***\n",
       "STATE21     -7.128e-02  1.600e-01  -0.445 0.655975    \n",
       "STATE22     -8.802e-02  1.816e-01  -0.485 0.627970    \n",
       "STATE23     -9.505e-01  2.668e-01  -3.563 0.000367 ***\n",
       "STATE24      7.720e-01  1.686e-01   4.580 4.65e-06 ***\n",
       "STATE25      1.111e+00  2.576e-01   4.313 1.61e-05 ***\n",
       "STATE26      1.168e+00  2.794e-01   4.181 2.90e-05 ***\n",
       "STATE27      6.623e+00  3.231e-01  20.501  < 2e-16 ***\n",
       "STATE28      1.066e+00  2.927e-01   3.642 0.000271 ***\n",
       "STATE29      7.681e-02  1.645e-01   0.467 0.640575    \n",
       "STATE30      4.132e+00  2.342e-01  17.647  < 2e-16 ***\n",
       "STATE31      2.839e-01  1.647e-01   1.723 0.084839 .  \n",
       "STATE32     -9.494e-02  1.689e-01  -0.562 0.574130    \n",
       "STATE33      4.025e-01  3.255e-01   1.237 0.216246    \n",
       "STATE34      4.474e-01  1.825e-01   2.452 0.014220 *  \n",
       "STATE35      9.865e-01  1.946e-01   5.070 3.98e-07 ***\n",
       "STATE36      2.197e+00  2.049e-01  10.722  < 2e-16 ***\n",
       "STATE37      5.360e-01  1.509e-01   3.552 0.000383 ***\n",
       "STATE38      8.470e-01  3.345e-01   2.532 0.011337 *  \n",
       "STATE39     -3.402e-01  1.880e-01  -1.810 0.070317 .  \n",
       "STATE40      1.745e-01  2.863e-01   0.610 0.542120    \n",
       "STATE41      1.376e+00  1.640e-01   8.390  < 2e-16 ***\n",
       "STATE42      1.521e+00  1.474e-01  10.325  < 2e-16 ***\n",
       "STATE43      1.201e+00  2.399e-01   5.006 5.57e-07 ***\n",
       "STATE44      1.096e+00  2.946e-01   3.721 0.000198 ***\n",
       "STATE45     -5.972e-02  1.858e-01  -0.321 0.747914    \n",
       "STATE46      1.292e+00  1.879e-01   6.876 6.19e-12 ***\n",
       "STATE47      1.241e+00  2.255e-01   5.502 3.76e-08 ***\n",
       "STATE48      2.546e-01  1.725e-01   1.476 0.140010    \n",
       "STATE49      1.232e+00  3.386e-01   3.639 0.000274 ***\n",
       "STATE50     -5.270e-01  3.618e-01  -1.457 0.145205    \n",
       "STATE51     -6.960e+00  7.546e-01  -9.224  < 2e-16 ***\n",
       "STATE52     -2.344e+00  2.519e+00  -0.931 0.352077    \n",
       "STATE53     -2.726e-02  5.627e+00  -0.005 0.996134    \n",
       "YEAR        -4.680e-02  2.409e-02  -1.943 0.052029 .  \n",
       "SUB1         2.266e-02  4.405e-02   0.514 0.606941    \n",
       "COREY        1.612e+00  7.002e-02  23.019  < 2e-16 ***\n",
       "MONTH       -8.466e-03  6.027e-03  -1.405 0.160122    \n",
       "avg_total    9.056e-04  1.517e-03   0.597 0.550607    \n",
       "avg_adult    9.174e-03  1.363e-03   6.732 1.68e-11 ***\n",
       "summer       2.024e-01  4.104e-02   4.930 8.22e-07 ***\n",
       "AB           6.266e-01  2.382e-03 263.019  < 2e-16 ***\n",
       "AI           2.262e-01  1.076e-02  21.016  < 2e-16 ***\n",
       "AA           3.775e+00  3.621e-02 104.258  < 2e-16 ***\n",
       "AH           7.916e-02  8.220e-03   9.629  < 2e-16 ***\n",
       "---\n",
       "Signif. codes:  0 ‘***’ 0.001 ‘**’ 0.01 ‘*’ 0.05 ‘.’ 0.1 ‘ ’ 1\n",
       "\n",
       "Residual standard error: 7.955 on 165617 degrees of freedom\n",
       "Multiple R-squared:  0.4927,\tAdjusted R-squared:  0.4925 \n",
       "F-statistic:  2554 on 63 and 165617 DF,  p-value: < 2.2e-16\n"
      ]
     },
     "metadata": {},
     "output_type": "display_data"
    }
   ],
   "source": [
    "aw.model1 <- lm(AW ~ STATE + YEAR + SUB + CORE + MONTH\n",
    "                + avg_total + avg_adult + summer +\n",
    "                AB + AI + AA + AH, combined_df)\n",
    "\n",
    "summary(aw.model1)"
   ]
  },
  {
   "cell_type": "code",
   "execution_count": null,
   "id": "75bb1adc",
   "metadata": {},
   "outputs": [],
   "source": []
  },
  {
   "cell_type": "code",
   "execution_count": 327,
   "id": "b816d6ee",
   "metadata": {},
   "outputs": [
    {
     "data": {
      "text/plain": [
       "\n",
       "Call:\n",
       "lm(formula = Total ~ STATE + YEAR + SUB + CORE + MONTH + avg_total + \n",
       "    avg_juve + avg_adult + summer, data = combined_df)\n",
       "\n",
       "Residuals:\n",
       "    Min      1Q  Median      3Q     Max \n",
       " -38.94   -3.66   -0.46    1.63 1850.90 \n",
       "\n",
       "Coefficients:\n",
       "              Estimate Std. Error t value Pr(>|t|)    \n",
       "(Intercept) -7.277e+02  1.460e+02  -4.983 6.25e-07 ***\n",
       "STATE       -5.742e-02  4.014e-03 -14.307  < 2e-16 ***\n",
       "YEAR         3.609e-01  7.236e-02   4.988 6.12e-07 ***\n",
       "SUB1         2.426e-02  1.264e-01   0.192   0.8477    \n",
       "COREY        2.060e+01  2.054e-01 100.311  < 2e-16 ***\n",
       "MONTH        2.992e-02  1.812e-02   1.651   0.0988 .  \n",
       "avg_total   -3.814e-02  4.209e-03  -9.061  < 2e-16 ***\n",
       "avg_juve     8.094e-01  9.930e-03  81.514  < 2e-16 ***\n",
       "avg_adult    9.995e-02  4.189e-03  23.861  < 2e-16 ***\n",
       "summer       6.748e-01  1.235e-01   5.465 4.63e-08 ***\n",
       "---\n",
       "Signif. codes:  0 ‘***’ 0.001 ‘**’ 0.01 ‘*’ 0.05 ‘.’ 0.1 ‘ ’ 1\n",
       "\n",
       "Residual standard error: 23.93 on 165671 degrees of freedom\n",
       "Multiple R-squared:  0.1288,\tAdjusted R-squared:  0.1287 \n",
       "F-statistic:  2721 on 9 and 165671 DF,  p-value: < 2.2e-16\n"
      ]
     },
     "metadata": {},
     "output_type": "display_data"
    }
   ],
   "source": [
    "total.model1 <- lm(Total ~ STATE + YEAR + SUB + CORE + MONTH + avg_total + avg_juve\n",
    "                   + avg_adult + summer, combined_df)\n",
    "\n",
    "summary(total.model1)"
   ]
  },
  {
   "cell_type": "code",
   "execution_count": 325,
   "id": "90967dd1",
   "metadata": {},
   "outputs": [],
   "source": [
    "# We can try to treat states like a continuous variable\n",
    "\n",
    "combined_df$STATE = as.numeric(combined_df$STATE)\n"
   ]
  },
  {
   "cell_type": "code",
   "execution_count": 326,
   "id": "fb0183a2",
   "metadata": {},
   "outputs": [
    {
     "data": {
      "text/plain": [
       "\n",
       "Call:\n",
       "lm(formula = AW ~ STATE + YEAR + SUB + CORE + MONTH + avg_total + \n",
       "    avg_adult + summer + AB + AI + AA + AH, data = combined_df)\n",
       "\n",
       "Residuals:\n",
       "    Min      1Q  Median      3Q     Max \n",
       "-559.21   -1.74   -0.48    0.74  416.65 \n",
       "\n",
       "Coefficients:\n",
       "              Estimate Std. Error t value Pr(>|t|)    \n",
       "(Intercept) 21.9223420 49.9107416   0.439    0.660    \n",
       "STATE       -0.0622452  0.0013753 -45.261  < 2e-16 ***\n",
       "YEAR        -0.0095912  0.0247326  -0.388    0.698    \n",
       "SUB1        -0.0119427  0.0432204  -0.276    0.782    \n",
       "COREY        1.7700121  0.0710596  24.909  < 2e-16 ***\n",
       "MONTH       -0.0007202  0.0061929  -0.116    0.907    \n",
       "avg_total    0.0059635  0.0014407   4.139 3.49e-05 ***\n",
       "avg_adult    0.0115443  0.0013994   8.249  < 2e-16 ***\n",
       "summer       0.1791117  0.0421932   4.245 2.19e-05 ***\n",
       "AB           0.6087798  0.0024084 252.773  < 2e-16 ***\n",
       "AI           0.2459947  0.0106681  23.059  < 2e-16 ***\n",
       "AA           4.3323645  0.0360428 120.201  < 2e-16 ***\n",
       "AH           0.0858296  0.0083701  10.254  < 2e-16 ***\n",
       "---\n",
       "Signif. codes:  0 ‘***’ 0.001 ‘**’ 0.01 ‘*’ 0.05 ‘.’ 0.1 ‘ ’ 1\n",
       "\n",
       "Residual standard error: 8.178 on 165668 degrees of freedom\n",
       "Multiple R-squared:  0.4637,\tAdjusted R-squared:  0.4636 \n",
       "F-statistic: 1.194e+04 on 12 and 165668 DF,  p-value: < 2.2e-16\n"
      ]
     },
     "metadata": {},
     "output_type": "display_data"
    }
   ],
   "source": [
    "aw.model1 <- lm(AW ~ STATE + YEAR + SUB + CORE + MONTH\n",
    "                + avg_total + avg_adult + summer +\n",
    "                AB + AI + AA + AH, combined_df)\n",
    "\n",
    "summary(aw.model1)"
   ]
  },
  {
   "cell_type": "code",
   "execution_count": 330,
   "id": "ebe84d56",
   "metadata": {},
   "outputs": [
    {
     "data": {
      "text/plain": [
       "\n",
       "Call:\n",
       "lm(formula = Total ~ STATE + YEAR + SUB + CORE + MONTH + avg_total + \n",
       "    avg_adult + summer + AW + AB + AI + AA + AH, data = combined_df)\n",
       "\n",
       "Residuals:\n",
       "     Min       1Q   Median       3Q      Max \n",
       "-218.067   -1.122   -0.370    0.547  169.147 \n",
       "\n",
       "Coefficients:\n",
       "              Estimate Std. Error t value Pr(>|t|)    \n",
       "(Intercept) -1.558e+02  2.763e+01  -5.641 1.70e-08 ***\n",
       "STATE        2.173e-02  7.660e-04  28.371  < 2e-16 ***\n",
       "YEAR         7.789e-02  1.369e-02   5.689 1.28e-08 ***\n",
       "SUB1         1.134e-01  2.393e-02   4.740 2.14e-06 ***\n",
       "COREY        2.123e+00  3.941e-02  53.871  < 2e-16 ***\n",
       "MONTH        2.966e-04  3.428e-03   0.087    0.931    \n",
       "avg_total   -4.299e-02  7.976e-04 -53.903  < 2e-16 ***\n",
       "avg_adult   -4.068e-03  7.748e-04  -5.250 1.53e-07 ***\n",
       "summer       1.585e-02  2.336e-02   0.678    0.497    \n",
       "AW           9.727e-01  1.360e-03 715.185  < 2e-16 ***\n",
       "AB           1.280e+00  1.569e-03 815.850  < 2e-16 ***\n",
       "AI           1.027e+00  5.915e-03 173.665  < 2e-16 ***\n",
       "AA           8.614e-01  2.080e-02  41.405  < 2e-16 ***\n",
       "AH           2.900e+00  4.635e-03 625.584  < 2e-16 ***\n",
       "---\n",
       "Signif. codes:  0 ‘***’ 0.001 ‘**’ 0.01 ‘*’ 0.05 ‘.’ 0.1 ‘ ’ 1\n",
       "\n",
       "Residual standard error: 4.527 on 165667 degrees of freedom\n",
       "Multiple R-squared:  0.9688,\tAdjusted R-squared:  0.9688 \n",
       "F-statistic: 3.961e+05 on 13 and 165667 DF,  p-value: < 2.2e-16\n"
      ]
     },
     "metadata": {},
     "output_type": "display_data"
    }
   ],
   "source": [
    "total.model1 <- lm(Total ~ STATE + YEAR + SUB + CORE + MONTH\n",
    "                + avg_total + avg_adult + summer + AW +\n",
    "                AB + AI + AA + AH, combined_df)\n",
    "\n",
    "summary(total.model1)"
   ]
  },
  {
   "cell_type": "code",
   "execution_count": null,
   "id": "4f0946b0",
   "metadata": {},
   "outputs": [],
   "source": []
  },
  {
   "cell_type": "code",
   "execution_count": null,
   "id": "ea7f7a33",
   "metadata": {},
   "outputs": [],
   "source": []
  },
  {
   "cell_type": "code",
   "execution_count": null,
   "id": "2051a05c",
   "metadata": {},
   "outputs": [],
   "source": []
  },
  {
   "cell_type": "code",
   "execution_count": null,
   "id": "67841dd0",
   "metadata": {},
   "outputs": [],
   "source": []
  },
  {
   "cell_type": "code",
   "execution_count": null,
   "id": "78ed2f7e",
   "metadata": {},
   "outputs": [],
   "source": []
  },
  {
   "cell_type": "code",
   "execution_count": null,
   "id": "7d53a2f3",
   "metadata": {},
   "outputs": [],
   "source": []
  },
  {
   "cell_type": "code",
   "execution_count": null,
   "id": "a35fd9b0",
   "metadata": {},
   "outputs": [],
   "source": []
  },
  {
   "cell_type": "code",
   "execution_count": null,
   "id": "2ed461dd",
   "metadata": {},
   "outputs": [],
   "source": []
  },
  {
   "cell_type": "code",
   "execution_count": null,
   "id": "28ef8e25",
   "metadata": {},
   "outputs": [],
   "source": []
  },
  {
   "cell_type": "code",
   "execution_count": null,
   "id": "a8e6f621",
   "metadata": {},
   "outputs": [],
   "source": []
  },
  {
   "cell_type": "code",
   "execution_count": null,
   "id": "0ae881bc",
   "metadata": {},
   "outputs": [],
   "source": []
  },
  {
   "cell_type": "markdown",
   "id": "d3189ee1",
   "metadata": {},
   "source": [
    "## EDA"
   ]
  },
  {
   "cell_type": "code",
   "execution_count": 144,
   "id": "aa531573",
   "metadata": {},
   "outputs": [
    {
     "data": {
      "image/png": "[encoded data removed]",
      "text/plain": [
       "Plot with title “State Wise Value counts”"
      ]
     },
     "metadata": {
      "image/png": {
       "height": 420,
       "width": 420
      }
     },
     "output_type": "display_data"
    }
   ],
   "source": [
    "value_counts <- combined_df %>%\n",
    "  count(STATE)\n",
    "\n",
    "plot(value_counts, main = \"State Wise Value counts\")"
   ]
  },
  {
   "cell_type": "code",
   "execution_count": 145,
   "id": "4cf2cd8d",
   "metadata": {},
   "outputs": [
    {
     "data": {
      "image/png": "[encoded data removed]",
      "text/plain": [
       "Plot with title “Month Wise Value counts”"
      ]
     },
     "metadata": {
      "image/png": {
       "height": 420,
       "width": 420
      }
     },
     "output_type": "display_data"
    }
   ],
   "source": [
    "value_counts <- combined_df %>% count(MONTH)\n",
    "\n",
    "plot(value_counts, main = \"Month Wise Value counts\")"
   ]
  },
  {
   "cell_type": "code",
   "execution_count": 157,
   "id": "7874bc9a",
   "metadata": {},
   "outputs": [
    {
     "data": {
      "image/png": "[encoded data removed]",
      "text/plain": [
       "Plot with title “Month wise breakdown”"
      ]
     },
     "metadata": {
      "image/png": {
       "height": 420,
       "width": 420
      }
     },
     "output_type": "display_data"
    }
   ],
   "source": [
    "barplot(value_counts$n, names.arg = value_counts$MONTH, xlab = 'Months', ylab = 'Crimes', main = 'Month wise breakdown')"
   ]
  },
  {
   "cell_type": "code",
   "execution_count": 159,
   "id": "2c609f8a",
   "metadata": {},
   "outputs": [],
   "source": [
    "value_counts <- combined_df %>% count(YEAR, MONTH)\n"
   ]
  },
  {
   "cell_type": "code",
   "execution_count": 161,
   "id": "b4b8f344",
   "metadata": {},
   "outputs": [
    {
     "data": {
      "image/png": "[encoded data removed]",
      "text/plain": [
       "Plot with title “Month wise breakdown”"
      ]
     },
     "metadata": {
      "image/png": {
       "height": 420,
       "width": 420
      }
     },
     "output_type": "display_data"
    }
   ],
   "source": [
    "barplot(value_counts$n, xlab = 'Months', ylab = 'Crimes', main = 'Month wise breakdown')"
   ]
  },
  {
   "cell_type": "code",
   "execution_count": 167,
   "id": "42543b9a",
   "metadata": {},
   "outputs": [
    {
     "data": {
      "image/png": "[encoded data removed]",
      "text/plain": [
       "Plot with title “Month Wise Value counts”"
      ]
     },
     "metadata": {
      "image/png": {
       "height": 420,
       "width": 420
      }
     },
     "output_type": "display_data"
    }
   ],
   "source": [
    "plot(value_counts$n, main = \"Month Wise Value counts\")"
   ]
  },
  {
   "cell_type": "code",
   "execution_count": null,
   "id": "5cd44650",
   "metadata": {},
   "outputs": [],
   "source": [
    "# Hypothesis: Summer months have higher crimes than winter months"
   ]
  },
  {
   "cell_type": "code",
   "execution_count": null,
   "id": "8e504af0",
   "metadata": {},
   "outputs": [],
   "source": []
  },
  {
   "cell_type": "code",
   "execution_count": null,
   "id": "4d4a24c0",
   "metadata": {},
   "outputs": [],
   "source": []
  },
  {
   "cell_type": "code",
   "execution_count": null,
   "id": "f7abc325",
   "metadata": {},
   "outputs": [],
   "source": [
    "da4 <- da1 |> \n",
    "  filter(!is.na(STATE) & !is.na(AA)) |> \n",
    "  group_by(STATE) |> \n",
    "  summarize(avg_adult_asian = mean(AA),\n",
    "            count = n())\n",
    "head(da4)"
   ]
  },
  {
   "cell_type": "code",
   "execution_count": null,
   "id": "561cf444",
   "metadata": {},
   "outputs": [],
   "source": []
  },
  {
   "cell_type": "code",
   "execution_count": null,
   "id": "2a2b2bf0",
   "metadata": {},
   "outputs": [],
   "source": []
  },
  {
   "cell_type": "code",
   "execution_count": null,
   "id": "bb674e59",
   "metadata": {},
   "outputs": [],
   "source": []
  },
  {
   "cell_type": "code",
   "execution_count": null,
   "id": "d65955b4",
   "metadata": {},
   "outputs": [],
   "source": []
  }
 ],
 "metadata": {
  "kernelspec": {
   "display_name": "R",
   "language": "R",
   "name": "ir"
  },
  "language_info": {
   "codemirror_mode": "r",
   "file_extension": ".r",
   "mimetype": "text/x-r-source",
   "name": "R",
   "pygments_lexer": "r",
   "version": "4.3.1"
  }
 },
 "nbformat": 4,
 "nbformat_minor": 5
}
